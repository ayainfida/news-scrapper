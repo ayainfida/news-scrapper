{
 "cells": [
  {
   "cell_type": "code",
   "execution_count": 1,
   "metadata": {},
   "outputs": [],
   "source": [
    "from bs4 import BeautifulSoup\n",
    "import requests\n",
    "from tqdm import tqdm\n",
    "from io import BytesIO\n",
    "from urllib.parse import urljoin, urlparse\n",
    "from concurrent.futures import ThreadPoolExecutor, as_completed\n",
    "from PIL import Image\n",
    "import os\n",
    "import random\n",
    "import re\n",
    "import pandas as pd\n",
    "import hashlib\n",
    "from datetime import datetime\n",
    "import urllib.parse\n",
    "from json import dumps, loads\n",
    "from shutil import copy2"
   ]
  },
  {
   "cell_type": "code",
   "execution_count": 54,
   "metadata": {},
   "outputs": [],
   "source": [
    "url = 'https://www.newsweek.com/sports/nfl'\n",
    "headers = {\n",
    "    'User-Agent': 'Mozilla/5.0 (Windows NT 10.0; Win64; x64) AppleWebKit/537.36 (KHTML, like Gecko) Chrome/91.0.4472.124 Safari/537.36'\n",
    "}\n",
    "\n",
    "response = requests.get(url, headers=headers)\n",
    "\n",
    "soup = BeautifulSoup(response.content, 'lxml')"
   ]
  },
  {
   "cell_type": "code",
   "execution_count": 55,
   "metadata": {},
   "outputs": [],
   "source": [
    "for article_card in soup.find_all('article'):\n",
    "    if article_card.find('h2'):\n",
    "        print(article_card.find('h2').find('a')['href'])"
   ]
  },
  {
   "cell_type": "code",
   "execution_count": 51,
   "metadata": {},
   "outputs": [
    {
     "data": {
      "text/plain": [
       "<article class=\"l3\"><div class=\"image\">\n",
       "<picture class=\"mapping-small lazysize\" height=\"311\" width=\"466\">\n",
       "<source data-srcset=\"https://d.newsweek.com/en/full/2471474/jd-vance.webp?w=466&amp;h=311&amp;f=924697145e3a586e8381b73daa8abafd\" type=\"image/webp\"><img alt=\"\" class=\"mapping-small lazysize lazyload\" data-src=\"https://d.newsweek.com/en/full/2471474/jd-vance.jpg?w=466&amp;h=311&amp;f=924697145e3a586e8381b73daa8abafd\" height=\"311\" width=\"466\"/>\n",
       "</source></picture>\n",
       "<a class=\"zero\" href=\"/jd-vance-hijack-maga-theocracy-post-liberalists-sofia-nelson-1953866\">JD Vance working to \"hijack\" MAGA to push theocracy, ex-friend warns</a></div><div class=\"inner\"><div class=\"category\">\n",
       "<a href=\"/us\">U.S.</a></div><h2 class=\"h3\"><a href=\"/jd-vance-hijack-maga-theocracy-post-liberalists-sofia-nelson-1953866\">JD Vance working to \"hijack\" MAGA to push theocracy, ex-friend warns</a></h2><div class=\"summary\">Sofia Nelson wrote in an op-ed that post-liberalists like Vance want to position themselves within MAGA's graces with the aim of inheriting Trump's base.</div><div class=\"byline\">\n",
       "By <strong>Gabe Whisnant</strong> On 9/14/24 at 1:12 PM EDT</div></div>\n",
       "</article>"
      ]
     },
     "execution_count": 51,
     "metadata": {},
     "output_type": "execute_result"
    }
   ],
   "source": [
    "soup.find_all('article')[-5]"
   ]
  },
  {
   "cell_type": "code",
   "execution_count": 40,
   "metadata": {},
   "outputs": [],
   "source": [
    "def create_directories(base_url, categories, label='images'):\n",
    "    # create the following dir struct; outputs > base website > categories\n",
    "    base_dir = os.path.join('output', label, urlparse(base_url).netloc)\n",
    "    if not os.path.exists(base_dir):\n",
    "        os.makedirs(base_dir)\n",
    "\n",
    "    for category, _ in categories:\n",
    "        category_dir = os.path.join(base_dir, category)\n",
    "        if not os.path.exists(category_dir):\n",
    "            os.makedirs(category_dir)\n",
    "\n",
    "    return base_dir"
   ]
  },
  {
   "cell_type": "code",
   "execution_count": 73,
   "metadata": {},
   "outputs": [],
   "source": [
    "def get_articles_links(url):\n",
    "    headers = {\n",
    "    'User-Agent': 'Mozilla/5.0 (Windows NT 10.0; Win64; x64) AppleWebKit/537.36 (KHTML, like Gecko) Chrome/91.0.4472.124 Safari/537.36'\n",
    "    }\n",
    "    response = requests.get(url, headers=headers)\n",
    "    soup = BeautifulSoup(response.content, 'lxml')\n",
    "    articles_links = []\n",
    "\n",
    "    for article_card in soup.find_all('article'):\n",
    "        if article_card.find('h2'):\n",
    "            link = f\"https://newsweek.com{article_card.find('h2').find('a')['href']}\"\n",
    "            if link not in articles_links:\n",
    "                articles_links.append(link)\n",
    "        if article_card.find('h3'):\n",
    "            link = f\"https://newsweek.com{article_card.find('h3').find('a')['href']}\"\n",
    "            if link not in articles_links:\n",
    "                articles_links.append(link)\n",
    "\n",
    "    return articles_links\n",
    "\n",
    "def article_scrapper(url):\n",
    "    articles_links = get_articles_links(url)\n",
    "    data = []\n",
    "\n",
    "    def helper_scrapper(url):\n",
    "        headers = {\n",
    "        'User-Agent': 'Mozilla/5.0 (Windows NT 10.0; Win64; x64) AppleWebKit/537.36 (KHTML, like Gecko) Chrome/91.0.4472.124 Safari/537.36'\n",
    "        }\n",
    "        response = requests.get(url, headers=headers)\n",
    "        soup = BeautifulSoup(response.content, 'lxml')\n",
    "        try:\n",
    "            headline = soup.find('h1').text\n",
    "            datetime_str = soup.find('time', class_='article-time').text.replace('Published ', '').replace('EDT', '').strip()\n",
    "            time = datetime.strptime(datetime_str, '%b %d, %Y at %I:%M %p')\n",
    "            article_content = soup.find_all('div', class_='content')\n",
    "\n",
    "            images = []\n",
    "\n",
    "            for div in soup.find_all('div', class_='content'):\n",
    "                if div.find('article'):\n",
    "                    for img in div.find('article').find_all('img'):\n",
    "                        img_alt = img.get('alt', '')  # Safely get the 'alt' attribute\n",
    "                        img_src = img.get('src', '')  # Safely get the 'src' attribute\n",
    "\n",
    "                        if (img_alt, img_src) not in images and not img_src.endswith('svg'):\n",
    "                            images.append((img_alt, img_src))\n",
    "                    break\n",
    "\n",
    "            return headline, time, images\n",
    "        except:\n",
    "            return None\n",
    "\n",
    "    for url in articles_links:\n",
    "        result = helper_scrapper(url)\n",
    "        if result is not None:\n",
    "            data.append(result)\n",
    "\n",
    "    return data"
   ]
  },
  {
   "cell_type": "code",
   "execution_count": 39,
   "metadata": {},
   "outputs": [],
   "source": [
    "def get_latest_articles(data, n=10):\n",
    "    seen_headlines = set()\n",
    "    unique_data = []\n",
    "\n",
    "    for record in data:\n",
    "        headline = record[0]\n",
    "        if headline not in seen_headlines:\n",
    "            seen_headlines.add(headline)\n",
    "            unique_data.append(record)\n",
    "\n",
    "    return sorted(unique_data, key=lambda x: x[1], reverse=True)[:n]\n",
    "\n",
    "def download_image(img_url, save_dir, img_name):\n",
    "    try:\n",
    "        if not img_url.startswith('data:'):\n",
    "            headers = {\n",
    "                'User-Agent': 'Mozilla/5.0 (Windows NT 10.0; Win64; x64) AppleWebKit/537.36 (KHTML, like Gecko) Chrome/91.0.4472.124 Safari/537.36'\n",
    "            }\n",
    "            response = requests.get(img_url, headers=headers)\n",
    "            img_data = response.content\n",
    "            img = Image.open(BytesIO(img_data))\n",
    "            width, height = img.size\n",
    "\n",
    "            # Only save images larger than 100x100 pixels\n",
    "            if width >= 100 and height >= 100:\n",
    "                with open(os.path.join(save_dir, img_name), 'wb') as img_file:\n",
    "                    img_file.write(img_data)\n",
    "    except:\n",
    "        pass\n",
    "\n",
    "def download_images(category_url, save_dir, data):\n",
    "\n",
    "    with open(os.path.join(save_dir, 'labels.csv'), 'w') as f:\n",
    "        f.write('image number,alt,article_heading\\n')\n",
    "\n",
    "    records = []\n",
    "\n",
    "    # parallising the downloads to make it faster\n",
    "    with ThreadPoolExecutor(max_workers=10) as executor:\n",
    "        futures = []\n",
    "        headlines = []\n",
    "        for x, tuple in enumerate(data):\n",
    "            headline, _, images_list = tuple\n",
    "            for i, img in enumerate(images_list):\n",
    "                alt_txt, img_url = img\n",
    "                if img_url and not img_url.startswith('data:'):\n",
    "                    img_url = urljoin(category_url, img_url)\n",
    "                    combined_str = f\"{alt_txt}{headline}\".encode()\n",
    "                    img_name = f'image_{x+1}_{i+1}.jpg'\n",
    "                    records.append(f'{img_name},{alt_txt.replace(\",\", \"\")},{headline.replace(\",\", \"\")}\\n')\n",
    "                    futures.append(executor.submit(download_image, img_url, save_dir, img_name))\n",
    "\n",
    "        with open(os.path.join(save_dir, 'labels.csv'), 'a') as f:\n",
    "            f.writelines(records)\n",
    "\n",
    "        for future in as_completed(futures):\n",
    "            future.result()"
   ]
  },
  {
   "cell_type": "code",
   "execution_count": 60,
   "metadata": {},
   "outputs": [],
   "source": [
    "url = 'https://www.newsweek.com/childhood-poverty-increase-rising-wages-1952044'\n",
    "headers = {\n",
    "    'User-Agent': 'Mozilla/5.0 (Windows NT 10.0; Win64; x64) AppleWebKit/537.36 (KHTML, like Gecko) Chrome/91.0.4472.124 Safari/537.36'\n",
    "}\n",
    "\n",
    "response = requests.get(url, headers=headers)\n",
    "\n",
    "soup = BeautifulSoup(response.content, 'lxml')"
   ]
  },
  {
   "cell_type": "code",
   "execution_count": 32,
   "metadata": {},
   "outputs": [],
   "source": [
    "headline = soup.find('h1').text\n",
    "datetime_str = soup.find('time', class_='article-time').text.replace('Published ', '').replace('EDT', '').strip()\n",
    "time = datetime.strptime(datetime_str, '%b %d, %Y at %I:%M %p')"
   ]
  },
  {
   "cell_type": "code",
   "execution_count": 67,
   "metadata": {},
   "outputs": [
    {
     "name": "stdout",
     "output_type": "stream",
     "text": [
      "[<img alt=\"Child\" class=\"mapping-embed imgPhoto\" height=\"800\" id=\"i2469040\" loading=\"lazy\" src=\"https://d.newsweek.com/en/full/2469040/child.jpg?w=1200&amp;f=15fc08e00564ef4a5f86e238eb78d4f8\" width=\"1200\"/>, <img alt=\"\" src=\"https://g.newsweek.com/www/images/NW_ICON_CommonGround.svg\"/>]\n"
     ]
    }
   ],
   "source": [
    "for div in soup.find_all('div', class_='content'):\n",
    "    if div.find('article'):\n",
    "        print(div.find_all('img'))"
   ]
  },
  {
   "cell_type": "code",
   "execution_count": 41,
   "metadata": {},
   "outputs": [],
   "source": [
    "categories = [\n",
    "    ('U.S. Politics', 'https://www.newsweek.com/topic/u.s.-politics'),\n",
    "    ('Immigration', 'https://www.newsweek.com/topic/immigration'),\n",
    "    # ('Crime', 'https://www.newsweek.com/topic/crime'),\n",
    "    # ('2024 Election', 'https://www.newsweek.com/topic/2024-election'),\n",
    "    # ('Russia-Ukraine War', 'https://www.newsweek.com/topic/russia-ukraine-war'),\n",
    "    # ('Israeli-Palestinian Conflict', 'https://www.newsweek.com/topic/israeli-palestinian-conflict'),\n",
    "    # ('China', 'https://www.newsweek.com/topic/china'),\n",
    "    # ('North Korea', 'https://www.newsweek.com/topic/north-korea'),\n",
    "    # ('Animals', 'https://www.newsweek.com/topic/animals'),\n",
    "    # ('Space', 'https://www.newsweek.com/topic/space'),\n",
    "    # ('Archaeology', 'https://www.newsweek.com/topic/archaeology'),\n",
    "    # ('Lakes', 'https://www.newsweek.com/topic/lakes'),\n",
    "    # ('Mpox', 'https://www.newsweek.com/topic/mpox'),\n",
    "    # ('Medicare', 'https://www.newsweek.com/topic/medicare'),\n",
    "    # ('Coronavirus', 'https://www.newsweek.com/topic/coronavirus'),\n",
    "    # ('Family', 'https://www.newsweek.com/topic/family'),\n",
    "    # ('Animals', 'https://www.newsweek.com/topic/animals'),\n",
    "    # ('Parenting', 'https://www.newsweek.com/topic/parenting'),\n",
    "    # ('Relationship', 'https://www.newsweek.com/topic/relationship'),\n",
    "    # ('Air Travel', 'https://www.newsweek.com/topic/air-travel'),\n",
    "    # ('Movies', 'https://www.newsweek.com/topic/movies'),\n",
    "    # ('TV', 'https://www.newsweek.com/topic/tv'),\n",
    "    # ('Royals', 'https://www.newsweek.com/topic/royal-family'),\n",
    "    # ('Music', 'https://www.newsweek.com/topic/music'),\n",
    "    # ('College', 'https://www.newsweek.com/topic/college'),\n",
    "    # ('NFL', 'https://www.newsweek.com/sports/nfl'),\n",
    "    # ('NBA', 'https://www.newsweek.com/sports/nba'),\n",
    "    # ('MLB', 'https://www.newsweek.com/sports/mlb'),\n",
    "    # ('Racing', 'https://www.newsweek.com/sports/racing'),\n",
    "    # ('Golf', 'https://www.newsweek.com/sports/golf'),\n",
    "    # ('Basketball', 'https://www.newsweek.com/topic/basketball'),\n",
    "    # ('WWE', 'https://www.newsweek.com/topic/wwe'),\n",
    "    # ('SUV', 'https://www.newsweek.com/topic/suv')\n",
    "    # ('Gender', 'https://www.newsweek.com/topic/gender'),\n",
    "    # ('Autism', 'https://www.newsweek.com/topic/autism'),\n",
    "    # ('Schools', 'https://www.newsweek.com/topic/schools')\n",
    "]\n",
    "\n",
    "base_url = 'https://www.newsweek.com/'\n",
    "\n",
    "base_dir = create_directories(base_url, categories)"
   ]
  },
  {
   "cell_type": "code",
   "execution_count": 74,
   "metadata": {},
   "outputs": [
    {
     "name": "stderr",
     "output_type": "stream",
     "text": [
      "Downloading images for every category:  50%|█████     | 1/2 [00:53<00:53, 53.29s/it]"
     ]
    },
    {
     "name": "stdout",
     "output_type": "stream",
     "text": [
      "[(\"Pete Buttigieg's Response to Trump, Vance Migrant Claims Takes Off Online\", datetime.datetime(2024, 9, 15, 18, 10), [('Pete Buttigieg', 'https://d.newsweek.com/en/full/2471775/pete-buttigieg.jpg?w=1200&f=bf7eca8f6f443c3d43ec0214e02eb10d')]), (\"Gunman Was Close to Trump Because 'He's Not Sitting President'-Sheriff Says\", datetime.datetime(2024, 9, 15, 18, 8), [('Palm Beach Sherrif Ric Bradshaw', 'https://d.newsweek.com/en/full/2471777/palm-beach-sherrif-ric-bradshaw.jpg?w=1200&f=9da1b8433506749c3260266d6200661a')]), ('Gunman Got Within 500 Yards of Trump in Second Assassination Attempt', datetime.datetime(2024, 9, 15, 17, 43), [('Gunman Got Within 500 Yards of DonaldTrump', 'https://d.newsweek.com/en/full/2471796/gunman-got-within-500-yards-donaldtrump.jpg?w=1200&f=0455002feb065abbb9e4334a21f9c6d8')]), ('Ryan Wesley Routh, Would-be Trump Assassin, Fought in Ukraine, Supports War', datetime.datetime(2024, 9, 15, 17, 42), [('Ryan Wesley Routh', 'https://d.newsweek.com/en/full/2471852/ryan-wesley-routh.png?w=1200&f=2db10dabe902791fb02eeab9b77fa457'), ('Suspect AK47', 'https://d.newsweek.com/en/full/2471794/suspect-ak47.jpg?w=1200&f=6c352a0351f9e47f8d6a0f7520ce33d4'), ('Suspects gun and bag', 'https://d.newsweek.com/en/full/2471805/suspects-gun-bag.jpg?w=1200&f=d1862def7191bac566ae168e8c8464b7'), ('Palm Beach Sherrif Ric Bradshaw', 'https://d.newsweek.com/en/full/2471777/palm-beach-sherrif-ric-bradshaw.jpg?w=1200&f=9da1b8433506749c3260266d6200661a'), ('Suspect SUV', 'https://d.newsweek.com/en/full/2471791/suspect-suv.png?w=1200&f=3baa0c903e744d7e224d749d6424a728'), ('Trump Saturday', 'https://d.newsweek.com/en/full/2471817/trump-saturday.jpg?w=1200&f=e8d795011f0be333f7822ad52c687aa1')]), ('Kamala Harris More Likely to Win Alaska Than Florida or Texas—Nate Silver', datetime.datetime(2024, 9, 15, 17, 42), [('Harris', 'https://d.newsweek.com/en/full/2471768/harris.jpg?w=1200&f=5b761a96ff02db73fa0c3eff4fdf4e14')]), ('FBI Investigating Assassination Attempt on Trump After Florida Shooting', datetime.datetime(2024, 9, 15, 16, 51), [('Donald Trump', 'https://d.newsweek.com/en/full/2471772/donald-trump.jpg?w=1200&f=88d53a3717dcb9153afbe252bdb90a54')]), (\"Donald Trump's Family, MAGA Allies React After Assassination Attempt\", datetime.datetime(2024, 9, 15, 16, 15), [('Trump police presence', 'https://d.newsweek.com/en/full/2471816/trump-police-presence.jpg?w=1200&f=d1ccb3d4d7a1f5d6c8f63a597206da53')]), (\"Liz Cheney's 7-Word Response to Trump's 'I Hate Taylor Swift' Post\", datetime.datetime(2024, 9, 15, 15, 45), [('Liz Cheney', 'https://d.newsweek.com/en/full/2471706/liz-cheney.jpg?w=1200&f=193d1546e9b22e6db7733ceb534e7122')]), ('Kamala Harris, Joe Biden Respond to Shooting Near Donald Trump', datetime.datetime(2024, 9, 15, 15, 37), [('Trump at Doral ', 'https://d.newsweek.com/en/full/2471736/trump-doral.jpg?w=1200&f=fee0a331b0e2413f281a7edec3b207d0')]), ('Suspect in Custody After Shots Fired Near Donald Trump: What We Know', datetime.datetime(2024, 9, 15, 14, 44), [('Trump', 'https://d.newsweek.com/en/full/2471719/trump.jpg?w=1200&f=fda4850846e27122bf67d82efdb6554b')]), ('Donald Trump Says He Hates Taylor Swift', datetime.datetime(2024, 9, 15, 13, 56), [('Donald Trump and Taylor Swift', 'https://d.newsweek.com/en/full/2471699/donald-trump-taylor-swift.jpg?w=1200&f=3b2808276ff3c08f52b8c910ce5f1ec0')]), (\"JD Vance Downplays Donald Trump's Relationship With Laura Loomer\", datetime.datetime(2024, 9, 15, 13, 23), [('Loomer, Vance and Trump', 'https://d.newsweek.com/en/full/2471682/loomer-vance-trump.png?w=1200&f=3ccd02351406741f14c94b6dd9434eec')]), (\"Thousands Sign Christian Petition Condemning Pro-Trump 'False Prophets'\", datetime.datetime(2024, 9, 15, 12, 53), [('Donald Trump', 'https://d.newsweek.com/en/full/2471688/donald-trump.jpg?w=1200&f=641bad5a776a313611599331f5751fcf')]), (\"Ohio's Republican Governor Defends Haitian Immigrants: 'Helped the Economy'\", datetime.datetime(2024, 9, 15, 12, 6), [('Ohio Governor Mike DeWine', 'https://d.newsweek.com/en/full/2471661/ohio-governor-mike-dewine.jpg?w=1200&f=d66ccaaa39521091bb25c15827c9edaf')]), (\"Impact of Taylor Swift's Kamala Harris Endorsement Revealed in New Poll\", datetime.datetime(2024, 9, 15, 12, 3), [('Swift/Harris', 'https://d.newsweek.com/en/full/2471656/swift-harris.png?w=1200&f=7f3d6c54b7f683a5e026fa091a14ed77')]), (\"Dayton Leaders Rebuke New Migrants 'Eating Pets' Claim Shared by JD Vance\", datetime.datetime(2024, 9, 15, 10, 52), [('JD Vance', 'https://d.newsweek.com/en/full/2471628/jd-vance.jpg?w=1200&f=9bbffc44432ed124852c7d92d998c0b3')]), (\"JD Vance Confronted on Putting Constituents 'at Risk' With Haitian Claims\", datetime.datetime(2024, 9, 15, 10, 7), [('JD Vance', 'https://d.newsweek.com/en/full/2471666/jd-vance.jpg?w=1200&f=7ce83904e9b2d3e36f9a1686c8365c9a')]), ('Kamala Harris Within Striking Distance of Donald Trump in Iowa—New Poll', datetime.datetime(2024, 9, 15, 9, 9), [('Donald Trump and Kamala Harris', 'https://d.newsweek.com/en/full/2471626/donald-trump-kamala-harris.jpg?w=1200&f=1a1f7dc8b14e0b96f81c50e760e1cfaa')]), (\"Trump's Closing Debate Statement Trounces Harris' Remarks in TikTok Views\", datetime.datetime(2024, 9, 14, 18, 27), [('Donald Trump and Kamala Harris', 'https://d.newsweek.com/en/full/2471551/donald-trump-kamala-harris.jpg?w=1200&f=70159b10f845509c6b0c0f1a76f561c6')]), (\"Mark Cuban's Question to Matt Gaetz on Energy Costs Takes Off Online\", datetime.datetime(2024, 9, 14, 18, 14), [('Mark Cuban/Matt Gaetz ', 'https://d.newsweek.com/en/full/2471544/mark-cuban-matt-gaetz.png?w=1200&f=b87a72620d37f9711f2ddfdbd13ce4c0')]), (\"Ex-RNC Chair Tells MAGA to 'Shut the Hell Up' With Taylor Swift Criticism\", datetime.datetime(2024, 9, 14, 18, 9), [('Kamala Harris and Taylor Swift', 'https://d.newsweek.com/en/full/2471552/kamala-harris-taylor-swift.jpg?w=1200&f=15ce2f6c62ecfe93b82ebdbe7b611503')]), (\"Most Republicans Think Trump's 'Eating the Pets' Debate Remarks Are 'Weird'\", datetime.datetime(2024, 9, 14, 18, 8), [('Donald Trump at debate', 'https://d.newsweek.com/en/full/2471543/donald-trump-debate.jpg?w=1200&f=14c7c7488c3ec738ce3ae433593df29b')]), (\"Melania Trump Issues New 'Warning' About FBI\", datetime.datetime(2024, 9, 14, 17, 3), [('Melania Trump', 'https://d.newsweek.com/en/full/2471511/melania-trump.jpg?w=1200&f=d93528804c6adbe13579113bf7536ea9')]), ('Kamala Harris Gets Good News From Economists: New Survey', datetime.datetime(2024, 9, 14, 16, 27), [('Harris', 'https://d.newsweek.com/en/full/2471521/harris.jpg?w=1200&f=1a6dd4f242cab2111b943700c2320056')]), (\"Republican Comes Out Against Donald Trump's Debate Decision\", datetime.datetime(2024, 9, 14, 15, 7), [('Donald Trump', 'https://d.newsweek.com/en/full/2471451/donald-trump.jpg?w=1200&f=3faf21c1540f29b284507de6560a5caa')]), (\"JD Vance Working to 'Hijack' MAGA to Push Theocracy, Ex-Friend Warns\", datetime.datetime(2024, 9, 14, 13, 12), [('Jd Vance', 'https://d.newsweek.com/en/full/2471474/jd-vance.jpg?w=1200&f=46c010bae894c17a3db18a10dcd2d043')]), (\"Laura Loomer Responds to Bill Maher Quip on 'Arranged' Trump Relationship\", datetime.datetime(2024, 9, 14, 12, 52), [('Bill Maher', 'https://d.newsweek.com/en/full/2471446/bill-maher.jpg?w=1200&f=7e57f9952e7e302ddc3aa9f5ce946a08')]), (\"Kamala Harris' Surprisingly Strong Polling in State Dems Lost for 60 Years\", datetime.datetime(2024, 9, 14, 12, 45), [('Kamala Harris and Donald Trump', 'https://d.newsweek.com/en/full/2471454/kamala-harris-donald-trump.jpg?w=1200&f=3c14a5a3482d72d75062930103ac6174')]), (\"Donald Trump Gets Positive Sign From 'Cookie Poll' in Critical Swing State\", datetime.datetime(2024, 9, 14, 12, 28), [('Donald Trump', 'https://d.newsweek.com/en/full/2471437/donald-trump.jpg?w=1200&f=82b59f261066e4177b502a1b32a61758')]), (\"Woman Behind Springfield Haitian Immigrants 'Eating Pets' Rumor Speaks Out\", datetime.datetime(2024, 9, 14, 11, 20), [('Springfield Police bomb threat', 'https://d.newsweek.com/en/full/2471409/springfield-police-bomb-threat.jpg?w=1200&f=5349060223f5eb9648416b929d454462')])]\n"
     ]
    },
    {
     "name": "stderr",
     "output_type": "stream",
     "text": [
      "Downloading images for every category: 100%|██████████| 2/2 [01:48<00:00, 54.37s/it]"
     ]
    },
    {
     "name": "stdout",
     "output_type": "stream",
     "text": [
      "[(\"Donald Trump Vows To Terminate Harris' 'Phone App for Smuggling' Migrants\", datetime.datetime(2024, 9, 15, 11, 17), [('Trump immigration', 'https://d.newsweek.com/en/full/2471640/trump-immigration.jpg?w=1200&f=7f74a71532cd8343ef2fefcda5000ade')]), ('Greg Abbott Defies Joe Biden With Pledge To Triple Razor Wire Defenses', datetime.datetime(2024, 9, 15, 10, 17), [(' Gov. Greg Abbott', 'https://d.newsweek.com/en/full/2471618/gov-greg-abbott.jpg?w=1200&f=f56024b463ca384309b8bc925ef32938')]), (\"Woman Behind Springfield Haitian Immigrants 'Eating Pets' Rumor Speaks Out\", datetime.datetime(2024, 9, 14, 11, 20), [('Springfield Police bomb threat', 'https://d.newsweek.com/en/full/2471409/springfield-police-bomb-threat.jpg?w=1200&f=5349060223f5eb9648416b929d454462')]), ('JD Vance Says Springfield Row Reveals Why He Flipped Script On Trump', datetime.datetime(2024, 9, 14, 10, 7), [('Senator J.D. Vance', 'https://d.newsweek.com/en/full/2471403/senator-jd-vance.jpg?w=1200&f=f310ad5478b7188195ffeac9de0307e4')]), ('How Springfield, Ohio Became the Center of a Political Firestorm', datetime.datetime(2024, 9, 14, 3, 0), [('How Springfield, Ohio Became Center of Political-Firestorm ', 'https://d.newsweek.com/en/full/2471116/how-springfield-ohio-became-center-political-firestorm.png?w=1200&f=2596f61cb243d5772edbd89fd4149737'), ('Fountain Square', 'https://d.newsweek.com/en/full/2470771/fountain-square.jpg?w=1200&f=cbe6e7902f7524a9930e140a4f2b0305')]), ('Trump Promises Mass Deportations Will Begin in Springfield and Aurora', datetime.datetime(2024, 9, 13, 19, 12), [('Donald Trump Los Angeles', 'https://d.newsweek.com/en/full/2471311/donald-trump-los-angeles.jpg?w=1200&f=102f6dca4d49a726cf32910cf56991b8'), ('Springfield Ohio City Hall', 'https://d.newsweek.com/en/full/2470885/springfield-ohio-city-hall.jpg?w=1200&f=a99a5011fcff148ab5e6e99b88176546'), ('Aurora Colorado Venezuelan gang', 'https://d.newsweek.com/en/full/2466287/aurora-colorado-venezuelan-gang.jpg?w=1200&f=88beef566edbdd52c8637eba1874211b')]), ('Migrant With Fake New York ID Suspected of Murdering Family of Four', datetime.datetime(2024, 9, 13, 17, 29), [('Julio Cesar Pimentel Soriano', 'https://d.newsweek.com/en/full/2471265/julio-cesar-pimentel-soriano.jpg?w=1200&f=80e734063d20ad0792bfac4ac9446e05')]), ('Trump is Picking up Haitian Migrants Disinformation from Neo-Nazis: Pastor', datetime.datetime(2024, 9, 13, 14, 25), [('Springfield Ohio Trump comp', 'https://d.newsweek.com/en/full/2471069/springfield-ohio-trump-comp.jpg?w=1200&f=f137aaf5617d28ebc0604b8df8aa8c3f'), (\"Springfield Mayor's Rips Lawmakers After Bomb Threat\", 'https://d.newsweek.com/en/full/2470488/springfield-mayors-rips-lawmakers-after-bomb-threat.jpg?w=1200&f=a99032594f8f3340032e9873be29f30e')]), ('Sweden To Offer Immigrants $34,000 To Leave Country', datetime.datetime(2024, 9, 13, 10, 43), [('Ulf Kristersson', 'https://d.newsweek.com/en/full/2470765/ulf-kristersson.jpg?w=1200&f=0cb369a689c9b0f7ecb3623341bcf448')]), ('Springfield, Ohio Schools Evacuated Over Unspecified Threat', datetime.datetime(2024, 9, 13, 10, 33), [('Springfield Ohio City Hall', 'https://d.newsweek.com/en/full/2470885/springfield-ohio-city-hall.jpg?w=1200&f=a99a5011fcff148ab5e6e99b88176546')]), (\"Tommy Tuberville Claims 'Mass Amnesty' Offers False Hope for Migrants\", datetime.datetime(2024, 9, 13, 8, 5), [('Tommy Tuberville', 'https://d.newsweek.com/en/full/2470605/tommy-tuberville.jpg?w=1200&f=7ae913a85c1f5efbfc290624dd12bf22'), (' Alejandro Mayorkas speaks before Homeland Security Subcommittee ', 'https://d.newsweek.com/en/full/2433567/alejandro-mayorkas-speaks-before-homeland-security-subcommittee.jpg?w=1200&f=2ea2116167c85ae922e152274c3e7d6e')]), ('Border Agents Hunting Smuggler After Almost $1 Million of Ketamine Found', datetime.datetime(2024, 9, 13, 7, 48), [('Ketamine ', 'https://d.newsweek.com/en/full/2470692/ketamine.png?w=1200&f=556737e21561dd2b9fc4baa09dead406'), ('Ketamine, Colorado, Excited Delirium', 'https://d.newsweek.com/en/full/1943773/ketamine-colorado-excited-delirium.jpg?w=1200&f=da853f0e3bc753fa435ff4962fbfee27')]), (\"Springfield is Emblematic of America's Immigration Death Spiral | Opinion\", datetime.datetime(2024, 9, 13, 6, 59), [('Haitian migrants', 'https://d.newsweek.com/en/full/2380112/haitian-migrants.jpg?w=1200&f=4cbdbec56af0c03efa5dd479ad44e20c')]), (\"Charlie Kirk Accused of 'Taking Advantage' of Elderly Couple for Ohio Video\", datetime.datetime(2024, 9, 13, 6, 19), [('Charlie Kirk', 'https://d.newsweek.com/en/full/2470571/charlie-kirk.jpg?w=1200&f=c82d74a3d2efd3723f0382ca59cc3785')]), ('Greg Abbott Says Texas Border is Solved—Is He Right?', datetime.datetime(2024, 9, 13, 5, 0), [('Greg Abbott Says Texas Border Is Solved', 'https://d.newsweek.com/en/full/2467465/greg-abbott-says-texas-border-solved.png?w=1200&f=c6b2f2f36aabb3068c6ef28fe529b541')]), (\"Springfield Mayor Rips Politicians After Bomb Threat: 'Hurting Our City'\", datetime.datetime(2024, 9, 12, 23, 52), [(\"Springfield Mayor's Rips Lawmakers After Bomb Threat\", 'https://d.newsweek.com/en/full/2470488/springfield-mayors-rips-lawmakers-after-bomb-threat.jpg?w=1200&f=a99032594f8f3340032e9873be29f30e')]), ('Stop the Rumors Demeaning Immigrants. It Hurts Real People | Opinion', datetime.datetime(2024, 9, 12, 15, 26), [('Trump Harris debate', 'https://d.newsweek.com/en/full/2470321/trump-harris-debate.jpg?w=1200&f=2638500b460c3872c21db0cbfc94c6f4')]), (\"Donald Trump, MAGA 'Eating Pets' Rumor Sparks Fear for Springfield Haitians\", datetime.datetime(2024, 9, 12, 14, 13), [('Nathan Clark Springfield City Commission', 'https://d.newsweek.com/en/full/2470209/nathan-clark-springfield-city-commission.jpg?w=1200&f=f06db7c34152c3eadc48b7a544ba91e7'), ('JD Vance and Ted Cruz', 'https://d.newsweek.com/en/full/2470223/jd-vance-ted-cruz.jpg?w=1200&f=f92868f7929f73976336cb2345668078'), ('Donald Trump Springfield Ohio', 'https://d.newsweek.com/en/full/2470206/donald-trump-springfield-ohio.jpg?w=1200&f=6db443559d16e982b87858612f3710ec')]), ('Springfield, Ohio City Hall Evacuated Over Bomb Threat', datetime.datetime(2024, 9, 12, 10, 36), [('Springfield Ohio Haitian migrants', 'https://d.newsweek.com/en/full/2469978/springfield-ohio-haitian-migrants.jpg?w=1200&f=7af71421496f6ad0a3c93f70a9a93a86')]), (\"Greg Abbott Says Texas 'Won't Back Down' After Migrant Buoy Barrier Win\", datetime.datetime(2024, 9, 12, 9, 46), [('Greg Abbott and Texas floating buoys ', 'https://d.newsweek.com/en/full/2469761/greg-abbott-texas-floating-buoys.jpg?w=1200&f=cabbdf9c50552abb9866b7d23258dbd3')]), (\"New Harris Ad Attacks Trump Over Calling U.S. 'Dying' Nation\", datetime.datetime(2024, 9, 12, 8, 21), [('Trump Harris ', 'https://d.newsweek.com/en/full/2469670/trump-harris.jpg?w=1200&f=a170e4a4dd50a6c29ad6f6d0c1812f78'), ('Trump Harris ', 'https://d.newsweek.com/en/full/2469665/trump-harris.jpg?w=1200&f=b319306f65105a90634ff09d5058577e')]), ('How Can the U.S. Solve the Immigration Crisis? We Asked ChatGPT', datetime.datetime(2024, 9, 12, 6, 58), [('Trump Harris ', 'https://d.newsweek.com/en/full/2469599/trump-harris.jpg?w=1200&f=f4c61375d8b85b97a0931a603772fb85'), ('Migrants US Mexico border', 'https://d.newsweek.com/en/full/2022716/migrants-us-mexico-border.jpg?w=1200&f=57d08f89bd1cd1125304122b4d373533'), ('US Mexico Border Arizona', 'https://d.newsweek.com/en/full/2419257/us-mexico-border-arizona.jpg?w=1200&f=7450b113cb2456ddfc4a193b0e1fc199'), ('Trump U.S.-Mexico border wall', 'https://d.newsweek.com/en/full/2448711/trump-us-mexico-border-wall.jpg?w=1200&f=e9c9fc162455b238b7c6824323f21749')]), (\"Migrants in Ohio's Springfield Respond to Pet Eating Accusations\", datetime.datetime(2024, 9, 12, 5, 52), [('Springfield ', 'https://d.newsweek.com/en/full/2469541/springfield.jpg?w=1200&f=5eb6b5acf65892abed53346381890a0d')]), ('Republicans Outspending Democrats 5-1 on Immigration Ads in Key States', datetime.datetime(2024, 9, 11, 17, 11), [('Donald Trump immigration chart', 'https://d.newsweek.com/en/full/2469374/donald-trump-immigration-chart.jpg?w=1200&f=549756fccaa2c48f3d62a74db665a743')]), ('Colorado Cops ID Members of Deadly Venezuelan Gang After Migrant Attacks', datetime.datetime(2024, 9, 11, 16, 56), [('Aurora Colorado Venezuelan gang', 'https://d.newsweek.com/en/full/2466286/aurora-colorado-venezuelan-gang.jpg?w=1200&f=6597fab346713bbb50f647d27e51315d'), ('Aurora Colorado Tren de Aragua members', 'https://d.newsweek.com/en/full/2469352/aurora-colorado-tren-de-aragua-members.jpg?w=1200&f=6803a5dd3e5ad333de8af5c0de07602f'), ('Aurora Colorado Venezuelan gang', 'https://d.newsweek.com/en/full/2466287/aurora-colorado-venezuelan-gang.jpg?w=1200&f=88beef566edbdd52c8637eba1874211b')]), (\"Donald Trump Went 'Off the Rails' During Debate: Republican Strategist\", datetime.datetime(2024, 9, 11, 12, 27), [('Donald Trump presidential debate TV', 'https://d.newsweek.com/en/full/2469131/donald-trump-presidential-debate-tv.jpg?w=1200&f=5e696c6f7bb6cf0ff08072603a1b5188')]), (\"'Venezuela on Steroids' and Other Immigration Claims in Harris v Trump\", datetime.datetime(2024, 9, 11, 9, 53), [('Fact Check: Trump v Harris On Immigration ', 'https://d.newsweek.com/en/full/2467813/fact-check-trump-v-harris-immigration.png?w=1200&f=44c9f07a32c56a9e0e580ed6621104ea'), ('Kamala Harris Donald Trump debate day poll', 'https://d.newsweek.com/en/full/2468085/kamala-harris-donald-trump-debate-day-poll.jpg?w=1200&f=247f2507230f7c6aca6c595c230b184f'), ('US Mexico Border Arizona', 'https://d.newsweek.com/en/full/2419257/us-mexico-border-arizona.jpg?w=1200&f=7450b113cb2456ddfc4a193b0e1fc199'), ('Harris Trump', 'https://d.newsweek.com/en/full/2467063/harris-trump.jpg?w=1200&f=17c9497af47332f04dfbc16ca5e2f083')]), (\"Donald Trump Pushing Migrant Pet-Eating Claim at Debate Mocked: 'Cooked'\", datetime.datetime(2024, 9, 11, 6, 11), [('Trump at debate', 'https://d.newsweek.com/en/full/2468603/trump-debate.jpg?w=1200&f=6940bbffac5d5ce8a2af190defc9ea9f')]), ('Sheriffs Patrol School Bus Routes Near U.S.-Mexico Border After Illegal Migrants Try to Board', datetime.datetime(2024, 9, 11, 5, 39), [('School bus migrants ', 'https://d.newsweek.com/en/full/2467795/school-bus-migrants.png?w=1200&f=bc7375ce38766ee7d7c529b480f60b1a'), ('Ted Cruz ', 'https://d.newsweek.com/en/full/2466760/ted-cruz.jpg?w=1200&f=5c93722bfca17c7e0fe4c306a2f50193')]), (\"Five of the Biggest Moments from Harris and Trump's Presidential Debate\", datetime.datetime(2024, 9, 11, 0, 55), [('Donald Trump Kamala Harris Debate', 'https://d.newsweek.com/en/full/2468510/donald-trump-kamala-harris-debate.jpg?w=1200&f=a2be436446a0e1e636c150f1f6ba2014')])]\n"
     ]
    },
    {
     "name": "stderr",
     "output_type": "stream",
     "text": [
      "\n"
     ]
    }
   ],
   "source": [
    "for category, category_url in tqdm(categories, desc='Downloading images for every category'):\n",
    "    try:\n",
    "        category_dir = os.path.join(base_dir, category)\n",
    "        data = article_scrapper(category_url)\n",
    "        print(data)\n",
    "        download_images(category_url, category_dir, get_latest_articles(data))\n",
    "    except:\n",
    "        print(category)\n",
    "        continue"
   ]
  }
 ],
 "metadata": {
  "kernelspec": {
   "display_name": "Python 3",
   "language": "python",
   "name": "python3"
  },
  "language_info": {
   "codemirror_mode": {
    "name": "ipython",
    "version": 3
   },
   "file_extension": ".py",
   "mimetype": "text/x-python",
   "name": "python",
   "nbconvert_exporter": "python",
   "pygments_lexer": "ipython3",
   "version": "3.10.5"
  }
 },
 "nbformat": 4,
 "nbformat_minor": 2
}
