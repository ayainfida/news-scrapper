{
 "cells": [
  {
   "cell_type": "code",
   "execution_count": 1,
   "metadata": {},
   "outputs": [],
   "source": [
    "from bs4 import BeautifulSoup\n",
    "import requests\n",
    "from tqdm import tqdm\n",
    "from io import BytesIO\n",
    "from urllib.parse import urljoin, urlparse\n",
    "from concurrent.futures import ThreadPoolExecutor, as_completed\n",
    "from PIL import Image\n",
    "import os\n",
    "import random\n",
    "import re\n",
    "import pandas as pd\n",
    "import hashlib\n",
    "from datetime import datetime\n",
    "from json import dumps, loads\n",
    "from shutil import copy2"
   ]
  },
  {
   "cell_type": "code",
   "execution_count": 78,
   "metadata": {},
   "outputs": [],
   "source": [
    "url = 'https://nypost.com/food-and-drink/'\n",
    "\n",
    "response = requests.get(url)\n",
    "soup = BeautifulSoup(response.content, 'lxml')"
   ]
  },
  {
   "cell_type": "code",
   "execution_count": 79,
   "metadata": {},
   "outputs": [
    {
     "data": {
      "text/plain": [
       "[]"
      ]
     },
     "execution_count": 79,
     "metadata": {},
     "output_type": "execute_result"
    }
   ],
   "source": [
    "# <div class=\"section__content\">\n",
    "main_content = soup.find('div', class_='section__content')\n",
    "\n",
    "main_content.find_all('div', class_='story__headline headline headline--archive')"
   ]
  },
  {
   "cell_type": "code",
   "execution_count": 80,
   "metadata": {},
   "outputs": [
    {
     "name": "stdout",
     "output_type": "stream",
     "text": [
      "https://nypost.com/2024/06/12/lifestyle/ny-post-debuts-big-apple-schmear-cream-cheese-with-popup-bagel/\n",
      "https://nypost.com/2024/09/06/lifestyle/from-flamin-hot-tacos-to-fritos-sundaes-the-weirdest-foods-nfl-stadiums-are-offering-this-season/\n",
      "https://nypost.com/2024/09/06/lifestyle/mampms-bringing-back-discontinued-flavor-9-years-after-being-stripped-from-shelves-finally/\n",
      "https://nypost.com/2024/09/06/lifestyle/doctor-who-was-overweight-reveals-5-weight-loss-tips-on-tiktok/\n",
      "https://nypost.com/2024/09/05/business/red-lobster-to-exit-chapter-11-soon-after-judge-approves-sale-to-new-owner/\n",
      "https://nypost.com/2024/09/05/lifestyle/certain-alcoholic-drinks-can-worsen-hangxiety-experts/\n",
      "https://nypost.com/2024/09/05/lifestyle/is-gen-z-killing-the-wine-industry/\n",
      "https://nypost.com/2024/09/05/lifestyle/chipotle-drops-bizarre-halloween-costumes-for-burritos-lovers/\n",
      "https://nypost.com/2024/09/05/lifestyle/theres-actually-a-reason-hot-dogs-and-buns-arent-sold-in-the-same-number/\n",
      "https://nypost.com/2024/09/05/lifestyle/people-told-to-throw-their-watermelons-away-if-they-spot-one-thing/\n",
      "https://nypost.com/2024/09/05/lifestyle/eating-fish-during-pregnancy-may-lower-autism-risk-by-20-study/\n",
      "https://nypost.com/2024/09/04/lifestyle/mcdonalds-mcflurry-gets-a-new-look-after-iconic-spoon-nixed/\n",
      "https://nypost.com/2024/09/04/lifestyle/how-to-try-trader-joes-pumpkin-spice-products-and-get-paid/\n",
      "https://nypost.com/2024/09/03/lifestyle/starbucks-employee-says-chain-now-a-soulless-fast-food-empire/\n",
      "https://nypost.com/2024/09/03/lifestyle/soda-processed-meats-can-raise-heart-disease-risk-study/\n",
      "https://nypost.com/2024/09/03/lifestyle/are-mcdonalds-prices-higher-on-app-than-in-person-menus/\n",
      "https://nypost.com/2024/09/03/lifestyle/beloved-candy-returning-to-market-14-years-after-being-discontinued-childhood-memories-unlocked/\n",
      "https://nypost.com/2024/09/03/lifestyle/dietitian-reveals-what-to-eat-and-drink-to-cure-a-hangover/\n",
      "https://nypost.com/2024/09/03/lifestyle/gets-it-done-like-nobodys-business-nj-pizzeria-cooks-on-cybertrucks/\n",
      "https://nypost.com/2024/09/03/lifestyle/worlds-most-beautiful-mcdonalds-reopens-inside-old-train-station/\n",
      "https://nypost.com/2024/09/03/lifestyle/ihops-all-you-can-eat-pancakes-are-back-with-a-catch/\n",
      "https://nypost.com/2024/09/02/lifestyle/colostrum-supplements-everything-to-know-about-this-liquid-gold/\n",
      "https://nypost.com/2024/09/02/lifestyle/hidden-valley-ranch-exec-reveals-all-the-ways-he-uses-ranch/\n"
     ]
    }
   ],
   "source": [
    "for tag in main_content.find_all('div'):\n",
    "    class_name = tag.get('class', [])\n",
    "    if class_name in [['story__text'], ['story__inner']] and tag.find('a'):\n",
    "        link = tag.find('a')['href']\n",
    "        print(link)"
   ]
  },
  {
   "cell_type": "code",
   "execution_count": 73,
   "metadata": {},
   "outputs": [],
   "source": [
    "def create_directories(base_url, categories, label='images'):\n",
    "    # create the following dir struct; outputs > base website > categories\n",
    "    base_dir = os.path.join('output', label, urlparse(base_url).netloc)\n",
    "    if not os.path.exists(base_dir):\n",
    "        os.makedirs(base_dir)\n",
    "    \n",
    "    for category, _ in categories:\n",
    "        category_dir = os.path.join(base_dir, category)\n",
    "        if not os.path.exists(category_dir):\n",
    "            os.makedirs(category_dir)\n",
    "\n",
    "    return base_dir"
   ]
  },
  {
   "cell_type": "code",
   "execution_count": 89,
   "metadata": {},
   "outputs": [],
   "source": [
    "def get_articles_links(url):\n",
    "    response = requests.get(url)\n",
    "    soup = BeautifulSoup(response.content, 'lxml')\n",
    "    main_content = soup.find('div', class_='section__content')\n",
    "    articles_links = []\n",
    "    \n",
    "    for tag in main_content.find_all('div'):\n",
    "        class_name = tag.get('class', [])\n",
    "        if class_name in [['story__text'], ['story__inner']] and tag.find('a'):\n",
    "            link = tag.find('a')['href']\n",
    "            if link not in articles_links:\n",
    "                articles_links.append(link)\n",
    "\n",
    "    return articles_links\n",
    "\n",
    "def article_scrapper(url):\n",
    "    articles_links = get_articles_links(url)\n",
    "    data = []\n",
    "\n",
    "    def helper_scrapper(url):   \n",
    "        response = requests.get(url)\n",
    "        soup = BeautifulSoup(response.content, 'lxml')\n",
    "        try:\n",
    "            headline = soup.find('h1').text.replace('\\n', '').replace('\\t', '')\n",
    "            datetime_str = soup.find('div', class_='date--updated__item').find_all('span')[-1].text.replace('a.m. ET', 'am').replace('p.m. ET', 'pm')\n",
    "            time = datetime.strptime(datetime_str, \"%b. %d, %Y, %H:%M %p\")\n",
    "            featured_image = soup.find('figure').find('img')\n",
    "            images = [(featured_image.get('alt'), featured_image.get('src'))]\n",
    "            related = []\n",
    "\n",
    "            for div in soup.find('div', class_='single__content entry-content m-bottom').find_all('div'):\n",
    "                for img in div.find_all('img'):\n",
    "                    img_alt = img.get('alt', '')  # Safely get the 'alt' attribute\n",
    "                    img_src = img.get('src', '')  # Safely get the 'src' attribute\n",
    "                    if  (img_alt, img_src) not in images:\n",
    "                        images.append((img_alt, img_src))\n",
    "                    if div.get('class') in [['inline-module__inner']]:\n",
    "                        related.append((img_alt, img_src))\n",
    "\n",
    "            return headline, time, list(set(images) - set(related))\n",
    "        except:\n",
    "            return None\n",
    "        \n",
    "    for url in articles_links:   \n",
    "        result = helper_scrapper(url)\n",
    "        if result is not None:\n",
    "            data.append(result)\n",
    "    \n",
    "    return data"
   ]
  },
  {
   "cell_type": "code",
   "execution_count": 95,
   "metadata": {},
   "outputs": [],
   "source": [
    "def get_latest_articles(data, n=10):\n",
    "    seen_headlines = set()\n",
    "    unique_data = []\n",
    "\n",
    "    for record in data:\n",
    "        headline = record[0]\n",
    "        if headline not in seen_headlines:\n",
    "            seen_headlines.add(headline)\n",
    "            unique_data.append(record)\n",
    "\n",
    "    return sorted(unique_data, key=lambda x: x[1], reverse=True)[:n]\n",
    "\n",
    "def download_image(img_url, save_dir, img_name):\n",
    "    try:\n",
    "        if not img_url.startswith('data:'):\n",
    "            response = requests.get(img_url)\n",
    "            img_data = response.content\n",
    "            img = Image.open(BytesIO(img_data))\n",
    "            width, height = img.size\n",
    "\n",
    "            # Only save images larger than 100x100 pixels\n",
    "            if width >= 100 and height >= 100:\n",
    "                with open(os.path.join(save_dir, img_name), 'wb') as img_file:\n",
    "                    img_file.write(img_data)\n",
    "    except:\n",
    "        pass\n",
    "\n",
    "def download_images(category_url, save_dir, data):\n",
    "\n",
    "    with open(os.path.join(save_dir, 'labels.csv'), 'w') as f:\n",
    "        f.write('image number,alt,article_heading\\n')\n",
    "    \n",
    "    records = []\n",
    "\n",
    "    # parallising the downloads to make it faster\n",
    "    with ThreadPoolExecutor(max_workers=10) as executor:\n",
    "        futures = []\n",
    "        headlines = []\n",
    "        for x, tuple in enumerate(data):\n",
    "            headline, _, images_list = tuple\n",
    "            for i, img in enumerate(images_list):\n",
    "                alt_txt, img_url = img\n",
    "                if img_url and not img_url.startswith('data:'):\n",
    "                    img_url = urljoin(category_url, img_url)\n",
    "                    combined_str = f\"{alt_txt}{headline}\".encode()\n",
    "                    img_name = f'image_{x+1}{i+1}.jpg'\n",
    "                    records.append(f'{img_name},{alt_txt.replace(\",\", \"\")},{headline.replace(\",\", \"\")}\\n')\n",
    "                    futures.append(executor.submit(download_image, img_url, save_dir, img_name))\n",
    "        \n",
    "        with open(os.path.join(save_dir, 'labels.csv'), 'a') as f:\n",
    "            f.writelines(records)\n",
    "            \n",
    "        for future in as_completed(futures):\n",
    "            future.result()"
   ]
  },
  {
   "cell_type": "code",
   "execution_count": 47,
   "metadata": {},
   "outputs": [],
   "source": [
    "\n",
    "featured_image = soup.find('figure').find('img')\n",
    "images = [(featured_image.get('alt'), featured_image.get('src'))]\n",
    "related = []\n",
    "\n",
    "for div in soup.find('div', class_='single__content entry-content m-bottom').find_all('div'):\n",
    "    for img in div.find_all('img'):\n",
    "        img_alt = img.get('alt', '')  # Safely get the 'alt' attribute\n",
    "        img_src = img.get('src', '')  # Safely get the 'src' attribute\n",
    "        if  (img_alt, img_src) not in images:\n",
    "            images.append((img_alt, img_src))\n",
    "        if div.get('class') in [['inline-module__inner']]:\n",
    "            related.append((img_alt, img_src))"
   ]
  },
  {
   "cell_type": "code",
   "execution_count": 48,
   "metadata": {},
   "outputs": [
    {
     "data": {
      "text/plain": [
       "[('How finance bros scored a luxury penthouse on a starter salary',\n",
       "  'https://nypost.com/wp-content/uploads/sites/2/2024/09/gimme-ph-109-88199944.jpg?quality=75&strip=all&w=744'),\n",
       " ('The luxury penthouse comes with lots of common space',\n",
       "  'https://nypost.com/wp-content/uploads/sites/2/2024/09/gimme-ph-109-88199943.jpg?w=1024'),\n",
       " ('Stairs lead to a main bedroom suite and a private 900 square foot rooftop terrace',\n",
       "  'https://nypost.com/wp-content/uploads/sites/2/2024/09/gimme-ph-109-88199947.jpg?w=1024'),\n",
       " ('Southwest Ranches',\n",
       "  'https://nypost.com/wp-content/uploads/sites/2/2024/09/88869312-1.jpg?quality=75&strip=all&w=171&h=114&crop=1'),\n",
       " ('Flower bandit Lewis Miller lists colorful West Palm Beach home for $2.9M',\n",
       "  'https://nypost.com/wp-content/uploads/sites/2/2024/09/88869467.jpg?quality=75&strip=all&w=171&h=114&crop=1'),\n",
       " ('',\n",
       "  'https://nypost.com/wp-content/uploads/sites/2/2024/09/newspress-collage-2456zqsns-1725488954145.jpg?quality=75&strip=all&1725474609&w=171&h=114&crop=1'),\n",
       " (\"The open chef's kitchen\",\n",
       "  'https://nypost.com/wp-content/uploads/sites/2/2024/09/gimme-ph-109-88199946.jpg?w=1024'),\n",
       " ('One of three bedrooms in the penthouse',\n",
       "  'https://nypost.com/wp-content/uploads/sites/2/2024/09/gimme-ph-109-88199942.jpg?w=1024')]"
      ]
     },
     "execution_count": 48,
     "metadata": {},
     "output_type": "execute_result"
    }
   ],
   "source": [
    "images"
   ]
  },
  {
   "cell_type": "code",
   "execution_count": 49,
   "metadata": {},
   "outputs": [
    {
     "data": {
      "text/plain": [
       "{('How finance bros scored a luxury penthouse on a starter salary',\n",
       "  'https://nypost.com/wp-content/uploads/sites/2/2024/09/gimme-ph-109-88199944.jpg?quality=75&strip=all&w=744'),\n",
       " ('One of three bedrooms in the penthouse',\n",
       "  'https://nypost.com/wp-content/uploads/sites/2/2024/09/gimme-ph-109-88199942.jpg?w=1024'),\n",
       " ('Stairs lead to a main bedroom suite and a private 900 square foot rooftop terrace',\n",
       "  'https://nypost.com/wp-content/uploads/sites/2/2024/09/gimme-ph-109-88199947.jpg?w=1024'),\n",
       " ('The luxury penthouse comes with lots of common space',\n",
       "  'https://nypost.com/wp-content/uploads/sites/2/2024/09/gimme-ph-109-88199943.jpg?w=1024'),\n",
       " (\"The open chef's kitchen\",\n",
       "  'https://nypost.com/wp-content/uploads/sites/2/2024/09/gimme-ph-109-88199946.jpg?w=1024')}"
      ]
     },
     "execution_count": 49,
     "metadata": {},
     "output_type": "execute_result"
    }
   ],
   "source": [
    "set(images) - set(related)"
   ]
  },
  {
   "cell_type": "code",
   "execution_count": 69,
   "metadata": {},
   "outputs": [
    {
     "name": "stdout",
     "output_type": "stream",
     "text": [
      "2024-09-06 10:08:00\n"
     ]
    }
   ],
   "source": [
    "headline = soup.find('h1').text.replace('\\n', '').replace('\\t', '')\n",
    "datetime_str = soup.find('div', class_='date--updated__item').find_all('span')[-1].text.replace('a.m. ET', 'am').replace('p.m. ET', 'pm')\n",
    "time = datetime.strptime(datetime_str, \"%b. %d, %Y, %H:%M %p\")\n",
    "print(time)"
   ]
  },
  {
   "cell_type": "code",
   "execution_count": 63,
   "metadata": {},
   "outputs": [
    {
     "name": "stdout",
     "output_type": "stream",
     "text": [
      "2024-09-06 10:08:00\n"
     ]
    }
   ],
   "source": [
    "datetime_str = \"Sep. 6, 2024, 10:08 am\"\n",
    "datetime_obj = datetime.strptime(datetime_str, \"%b. %d, %Y, %H:%M %p\")\n",
    "\n",
    "print(datetime_obj)"
   ]
  },
  {
   "cell_type": "code",
   "execution_count": 96,
   "metadata": {},
   "outputs": [],
   "source": [
    "categories = [\n",
    "    (\"Food & Drink\", \"https://nypost.com/food-and-drink/\"),\n",
    "    (\"Tech\", \"https://nypost.com/tech/\"),\n",
    "    (\"Movies\", \"https://nypost.com/movies/\"),\n",
    "    (\"Real Estate\", \"https://nypost.com/real-estate/\"),\n",
    "    (\"MLB\", \"https://nypost.com/mlb/\")\n",
    "]\n",
    "\n",
    "base_url = 'https://www.nypost.com/'\n",
    "\n",
    "base_dir = create_directories(base_url, categories)"
   ]
  },
  {
   "cell_type": "code",
   "execution_count": 97,
   "metadata": {},
   "outputs": [
    {
     "name": "stderr",
     "output_type": "stream",
     "text": [
      "Downloading images for every category: 100%|██████████| 5/5 [02:18<00:00, 27.63s/it]\n"
     ]
    }
   ],
   "source": [
    "for category, category_url in tqdm(categories, desc='Downloading images for every category'):\n",
    "    category_dir = os.path.join(base_dir, category)\n",
    "    data = article_scrapper(category_url)\n",
    "    download_images(category_url, category_dir, get_latest_articles(data))"
   ]
  },
  {
   "cell_type": "code",
   "execution_count": null,
   "metadata": {},
   "outputs": [],
   "source": [
    "def create_file(base_dir):\n",
    "    for category in os.listdir(base_dir):\n",
    "        df = pd.read_csv(f'{base_dir}{category}/labels.csv')\n",
    "        n, _ = df.shape\n",
    "\n",
    "        pairs = []\n",
    "\n",
    "        for i in range(n):\n",
    "            for j in range(i + 1, n):\n",
    "                pairs.append((list(df.iloc[i]), list(df.iloc[j])))\n",
    "\n",
    "        with open(f'pairs_{category}.csv', 'w') as f:\n",
    "            for i, pair in enumerate(pairs):\n",
    "                p1, p2 = pair\n",
    "                img1, alt1, headline1 = p1\n",
    "                img2, alt2, headline2 = p2\n",
    "                f.write(f'{i+1},{headline1},{headline2}\\n')\n",
    "                f.write(f',https://raw.githubusercontent.com/ayainfida/news-scrapper/main/output/images/www.foxnews.com/{category}/{img1},https://raw.githubusercontent.com/ayainfida/news-scrapper/main/output/images/www.foxnews.com/{category}/{img2}\\n')\n",
    "                f.write(f',{alt1},{alt2}\\n')"
   ]
  }
 ],
 "metadata": {
  "kernelspec": {
   "display_name": "Python 3",
   "language": "python",
   "name": "python3"
  },
  "language_info": {
   "codemirror_mode": {
    "name": "ipython",
    "version": 3
   },
   "file_extension": ".py",
   "mimetype": "text/x-python",
   "name": "python",
   "nbconvert_exporter": "python",
   "pygments_lexer": "ipython3",
   "version": "3.10.5"
  }
 },
 "nbformat": 4,
 "nbformat_minor": 2
}
