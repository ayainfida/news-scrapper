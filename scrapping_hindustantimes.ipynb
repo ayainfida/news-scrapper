{
  "nbformat": 4,
  "nbformat_minor": 0,
  "metadata": {
    "colab": {
      "provenance": []
    },
    "kernelspec": {
      "name": "python3",
      "display_name": "Python 3"
    },
    "language_info": {
      "name": "python"
    }
  },
  "cells": [
    {
      "cell_type": "code",
      "execution_count": 2,
      "metadata": {
        "id": "QYC4IUw5l22i"
      },
      "outputs": [],
      "source": [
        "from bs4 import BeautifulSoup\n",
        "import requests\n",
        "from tqdm import tqdm\n",
        "from io import BytesIO\n",
        "from urllib.parse import urljoin, urlparse\n",
        "from concurrent.futures import ThreadPoolExecutor, as_completed\n",
        "from PIL import Image\n",
        "import os\n",
        "import random\n",
        "import re\n",
        "import pandas as pd\n",
        "import hashlib\n",
        "from datetime import datetime\n",
        "import urllib.parse\n",
        "from json import dumps, loads\n",
        "from shutil import copy2"
      ]
    },
    {
      "cell_type": "code",
      "source": [
        "os.chdir('/content/drive/MyDrive/research-similarity/Scraping')"
      ],
      "metadata": {
        "id": "XCf5UB6myVdi"
      },
      "execution_count": 3,
      "outputs": []
    },
    {
      "cell_type": "code",
      "source": [
        "url = 'https://www.hindustantimes.com/entertainment/bollywood'\n",
        "\n",
        "headers = {\n",
        "    'User-Agent': 'Mozilla/5.0 (Windows NT 10.0; Win64; x64) AppleWebKit/537.36 (KHTML, like Gecko) Chrome/91.0.4472.124 Safari/537.36'\n",
        "}\n",
        "\n",
        "response = requests.get(url, headers=headers)\n",
        "soup = BeautifulSoup(response.content, 'lxml')"
      ],
      "metadata": {
        "id": "_CCUn5N5mCep"
      },
      "execution_count": 9,
      "outputs": []
    },
    {
      "cell_type": "code",
      "source": [
        "def create_directories(base_url, categories, label='images'):\n",
        "    # create the following dir struct; outputs > base website > categories\n",
        "    base_dir = os.path.join('output', label, urlparse(base_url).netloc)\n",
        "    if not os.path.exists(base_dir):\n",
        "        os.makedirs(base_dir)\n",
        "\n",
        "    for category, _ in categories:\n",
        "        category_dir = os.path.join(base_dir, category)\n",
        "        if not os.path.exists(category_dir):\n",
        "            os.makedirs(category_dir)\n",
        "\n",
        "    return base_dir"
      ],
      "metadata": {
        "id": "cuWsubPeuTLe"
      },
      "execution_count": 11,
      "outputs": []
    },
    {
      "cell_type": "code",
      "source": [
        "def get_articles_links(url):\n",
        "    headers = {\n",
        "    'User-Agent': 'Mozilla/5.0 (Windows NT 10.0; Win64; x64) AppleWebKit/537.36 (KHTML, like Gecko) Chrome/91.0.4472.124 Safari/537.36'\n",
        "    }\n",
        "    response = requests.get(url, headers=headers)\n",
        "    soup = BeautifulSoup(response.content, 'lxml')\n",
        "    main_container = soup.find('section', class_='listingPage')\n",
        "    articles_links = [f\"https://www.hindustantimes.com/entertainment/bollywood{soup.find('div', class_='cartHolder bigCart track timeAgo').find('a')['href']}\"]\n",
        "\n",
        "    for div in main_container.find_all('div', class_='cartHolder listView track timeAgo'):\n",
        "        link = div.find('a')['href']\n",
        "        if link not in articles_links:\n",
        "            articles_links.append(f'https://www.hindustantimes.com{link}')\n",
        "\n",
        "    return articles_links\n",
        "\n",
        "def article_scrapper(url):\n",
        "    articles_links = get_articles_links(url)\n",
        "    data = []\n",
        "\n",
        "    def helper_scrapper(url):\n",
        "        headers = {\n",
        "        'User-Agent': 'Mozilla/5.0 (Windows NT 10.0; Win64; x64) AppleWebKit/537.36 (KHTML, like Gecko) Chrome/91.0.4472.124 Safari/537.36'\n",
        "        }\n",
        "        response = requests.get(url, headers=headers)\n",
        "        soup = BeautifulSoup(response.content, 'lxml')\n",
        "        try:\n",
        "            story_main_div = soup.find('div', id='storyMainDiv')\n",
        "            headline = story_main_div.find('h1').text\n",
        "            datetime_str = story_main_div.find('div', class_='dateTime secTime storyPage').text.strip()[:-4]\n",
        "            time = datetime.strptime(datetime_str, \"%b %d, %Y %I:%M %p\")\n",
        "            images = []\n",
        "            remove = []\n",
        "\n",
        "            img = story_main_div.find('img')\n",
        "            img_alt = img.get('alt', '')  # Safely get the 'alt' attribute\n",
        "            img_src = img.get('src', '')  # Safely get the 'src' attribute\n",
        "            images.append((img_alt, img_src))\n",
        "\n",
        "            return headline, time, images\n",
        "        except:\n",
        "            return None\n",
        "\n",
        "    for url in articles_links:\n",
        "        result = helper_scrapper(url)\n",
        "        if result is not None:\n",
        "            data.append(result)\n",
        "\n",
        "    return data"
      ],
      "metadata": {
        "id": "E-g-YuKdrDMJ"
      },
      "execution_count": 12,
      "outputs": []
    },
    {
      "cell_type": "code",
      "source": [
        "def get_latest_articles(data, n=10):\n",
        "    seen_headlines = set()\n",
        "    unique_data = []\n",
        "\n",
        "    for record in data:\n",
        "        headline = record[0]\n",
        "        if headline not in seen_headlines:\n",
        "            seen_headlines.add(headline)\n",
        "            unique_data.append(record)\n",
        "\n",
        "    return sorted(unique_data, key=lambda x: x[1], reverse=True)[:n]\n",
        "\n",
        "def download_image(img_url, save_dir, img_name):\n",
        "    try:\n",
        "        if not img_url.startswith('data:'):\n",
        "            headers = {\n",
        "                'User-Agent': 'Mozilla/5.0 (Windows NT 10.0; Win64; x64) AppleWebKit/537.36 (KHTML, like Gecko) Chrome/91.0.4472.124 Safari/537.36'\n",
        "            }\n",
        "            response = requests.get(img_url, headers=headers)\n",
        "            img_data = response.content\n",
        "            img = Image.open(BytesIO(img_data))\n",
        "            width, height = img.size\n",
        "\n",
        "            # Only save images larger than 100x100 pixels\n",
        "            if width >= 100 and height >= 100:\n",
        "                with open(os.path.join(save_dir, img_name), 'wb') as img_file:\n",
        "                    img_file.write(img_data)\n",
        "    except:\n",
        "        pass\n",
        "\n",
        "def download_images(category_url, save_dir, data):\n",
        "\n",
        "    with open(os.path.join(save_dir, 'labels.csv'), 'w') as f:\n",
        "        f.write('image number,alt,article_heading\\n')\n",
        "\n",
        "    records = []\n",
        "\n",
        "    # parallising the downloads to make it faster\n",
        "    with ThreadPoolExecutor(max_workers=10) as executor:\n",
        "        futures = []\n",
        "        headlines = []\n",
        "        for x, tuple in enumerate(data):\n",
        "            headline, _, images_list = tuple\n",
        "            for i, img in enumerate(images_list):\n",
        "                alt_txt, img_url = img\n",
        "                if img_url and not img_url.startswith('data:'):\n",
        "                    img_url = urljoin(category_url, img_url)\n",
        "                    combined_str = f\"{alt_txt}{headline}\".encode()\n",
        "                    img_name = f'image_{x+1}_{i+1}.jpg'\n",
        "                    records.append(f'{img_name},{alt_txt.replace(\",\", \"\")},{headline.replace(\",\", \"\")}\\n')\n",
        "                    futures.append(executor.submit(download_image, img_url, save_dir, img_name))\n",
        "\n",
        "        with open(os.path.join(save_dir, 'labels.csv'), 'a') as f:\n",
        "            f.writelines(records)\n",
        "\n",
        "        for future in as_completed(futures):\n",
        "            future.result()"
      ],
      "metadata": {
        "id": "2DMo_iFpuNRC"
      },
      "execution_count": 13,
      "outputs": []
    },
    {
      "cell_type": "code",
      "source": [
        "categories = [\n",
        "    ('Bollywood', 'https://www.hindustantimes.com/entertainment/bollywood'),\n",
        "    ('Football', 'https://www.hindustantimes.com/sports/football'),\n",
        "    ('Lifestyle', 'https://www.hindustantimes.com/lifestyle'),\n",
        "    ('World News', 'https://www.hindustantimes.com/world-news'),\n",
        "    ('Technology', 'https://www.hindustantimes.com/technology'),\n",
        "    ('Science', 'https://www.hindustantimes.com/science'),\n",
        "    ('Horoscope', 'https://www.hindustantimes.com/astrology/horoscope'),\n",
        "    ('Other Sports', 'https://www.hindustantimes.com/sports/others'),\n",
        "    ('Tennis', 'https://www.hindustantimes.com/sports/tennis'),\n",
        "    ('Sports', 'https://www.hindustantimes.com/sports'),\n",
        "    ('Hockey', 'https://www.hindustantimes.com/sports/hockey'),\n",
        "    ('Music', 'https://www.hindustantimes.com/entertainment/music'),\n",
        "    ('Hollywood', 'https://www.hindustantimes.com/entertainment/hollywood'),\n",
        "    ('Web Series', 'https://www.hindustantimes.com/entertainment/web-series'),\n",
        "    ('Telugu Cinema', 'https://www.hindustantimes.com/entertainment/telugu-cinema'),\n",
        "    ('Tamil Cinema', 'https://www.hindustantimes.com/entertainment/tamil-cinema'),\n",
        "    ('TV', 'https://www.hindustantimes.com/entertainment/tv'),\n",
        "    ('Entertainment Others', 'https://www.hindustantimes.com/entertainment/others'),\n",
        "    ('Fashion', 'https://www.hindustantimes.com/lifestyle/fashion'),\n",
        "    ('Health', 'https://www.hindustantimes.com/lifestyle/health'),\n",
        "    ('Relationships', 'https://www.hindustantimes.com/lifestyle/relationships'),\n",
        "    ('Art and Culture', 'https://www.hindustantimes.com/lifestyle/art-culture'),\n",
        "    ('Travel', 'https://www.hindustantimes.com/lifestyle/travel'),\n",
        "    ('Recipes', 'https://www.hindustantimes.com/lifestyle/recipe'),\n",
        "    ('Festivals', 'https://www.hindustantimes.com/lifestyle/festivals'),\n",
        "    ('Pet', 'https://www.hindustantimes.com/lifestyle/pet'),\n",
        "\n",
        "]\n",
        "\n",
        "base_url = 'https://www.hindustantimes.com/'\n",
        "\n",
        "base_dir = create_directories(base_url, categories)"
      ],
      "metadata": {
        "id": "75k9ExAWxuM6"
      },
      "execution_count": 15,
      "outputs": []
    },
    {
      "cell_type": "code",
      "source": [
        "for category, category_url in tqdm(categories, desc='Downloading images for every category'):\n",
        "    category_dir = os.path.join(base_dir, category)\n",
        "    try:\n",
        "        data = article_scrapper(category_url)\n",
        "        download_images(category_url, category_dir, get_latest_articles(data))\n",
        "    except:\n",
        "        print(category)\n",
        "        continue"
      ],
      "metadata": {
        "colab": {
          "base_uri": "https://localhost:8080/"
        },
        "id": "e-U3nRZbyLxk",
        "outputId": "71cf0f39-0872-4c7d-f66b-0b8ca7e19d9e"
      },
      "execution_count": 16,
      "outputs": [
        {
          "output_type": "stream",
          "name": "stderr",
          "text": [
            "Downloading images for every category: 100%|██████████| 26/26 [06:21<00:00, 14.67s/it]\n"
          ]
        }
      ]
    },
    {
      "cell_type": "code",
      "source": [
        "def create_file(base_dir):\n",
        "    for category in os.listdir(base_dir):\n",
        "        try:\n",
        "            df = pd.read_csv(f'{base_dir}{category}/labels.csv')\n",
        "            n, _ = df.shape\n",
        "\n",
        "            pairs = []\n",
        "\n",
        "            for i in range(n):\n",
        "                for j in range(i + 1, n):\n",
        "                    article_1 = int(re.search(r'\\d+(?=_|$)',list(df.iloc[i])[0]).group())\n",
        "                    article_2 = int(re.search(r'\\d+(?=_|$)',list(df.iloc[j])[0]).group())\n",
        "                    if article_1 != article_2:\n",
        "                        pairs.append((list(df.iloc[i]), list(df.iloc[j])))\n",
        "\n",
        "            with open(f'{base_dir.split(\"/\")[2]}_pairs_{category}.csv', 'w') as f:\n",
        "                for i, pair in enumerate(pairs):\n",
        "                    p1, p2 = pair\n",
        "                    img1, alt1, headline1 = p1\n",
        "                    img2, alt2, headline2 = p2\n",
        "                    f.write(f'{i+1},{headline1},{headline2}\\n')\n",
        "                    f.write(f',https://raw.githubusercontent.com/ayainfida/news-scrapper/main/output/images/www.hindustantimes.com/{urllib.parse.quote(category)}/{img1},https://raw.githubusercontent.com/ayainfida/news-scrapper/main/output/images/www.hindustan.com/{urllib.parse.quote(category)}/{img2}\\n')\n",
        "                    f.write(f',{alt1},{alt2}\\n')\n",
        "\n",
        "        except:\n",
        "            continue"
      ],
      "metadata": {
        "id": "CCV5eUrCETob"
      },
      "execution_count": 21,
      "outputs": []
    },
    {
      "cell_type": "code",
      "source": [
        "create_file('output/images/www.hindustantimes.com/')"
      ],
      "metadata": {
        "id": "sNLK4fYjw9Yz"
      },
      "execution_count": 22,
      "outputs": []
    },
    {
      "cell_type": "code",
      "source": [
        "num_pairs = []\n",
        "\n",
        "for file in os.listdir():\n",
        "    if file.startswith('www.hindustantimes.com_pairs'):\n",
        "        try:\n",
        "            df = pd.read_csv(file)\n",
        "            num_pairs.append((int(list(df.iloc[-3])[0]), file))\n",
        "        except:\n",
        "            continue"
      ],
      "metadata": {
        "id": "Ln3l2SQ2xR1z"
      },
      "execution_count": 23,
      "outputs": []
    },
    {
      "cell_type": "code",
      "source": [
        "sorted_array = sorted(num_pairs, key=lambda x: x[0])\n",
        "sorted_array"
      ],
      "metadata": {
        "colab": {
          "base_uri": "https://localhost:8080/"
        },
        "id": "Shousqy4zbgw",
        "outputId": "584efb4c-798a-4524-928d-60c78194a32c"
      },
      "execution_count": 24,
      "outputs": [
        {
          "output_type": "execute_result",
          "data": {
            "text/plain": [
              "[(45, 'www.hindustantimes.com_pairs_Bollywood.csv'),\n",
              " (45, 'www.hindustantimes.com_pairs_Football.csv'),\n",
              " (45, 'www.hindustantimes.com_pairs_Lifestyle.csv'),\n",
              " (45, 'www.hindustantimes.com_pairs_World News.csv'),\n",
              " (45, 'www.hindustantimes.com_pairs_Technology.csv'),\n",
              " (45, 'www.hindustantimes.com_pairs_Horoscope.csv'),\n",
              " (45, 'www.hindustantimes.com_pairs_Other Sports.csv'),\n",
              " (45, 'www.hindustantimes.com_pairs_Tennis.csv'),\n",
              " (45, 'www.hindustantimes.com_pairs_Sports.csv'),\n",
              " (45, 'www.hindustantimes.com_pairs_Hockey.csv'),\n",
              " (45, 'www.hindustantimes.com_pairs_Music.csv'),\n",
              " (45, 'www.hindustantimes.com_pairs_Hollywood.csv'),\n",
              " (45, 'www.hindustantimes.com_pairs_Web Series.csv'),\n",
              " (45, 'www.hindustantimes.com_pairs_Telugu Cinema.csv'),\n",
              " (45, 'www.hindustantimes.com_pairs_Tamil Cinema.csv'),\n",
              " (45, 'www.hindustantimes.com_pairs_TV.csv'),\n",
              " (45, 'www.hindustantimes.com_pairs_Entertainment Others.csv'),\n",
              " (45, 'www.hindustantimes.com_pairs_Fashion.csv'),\n",
              " (45, 'www.hindustantimes.com_pairs_Health.csv'),\n",
              " (45, 'www.hindustantimes.com_pairs_Relationships.csv'),\n",
              " (45, 'www.hindustantimes.com_pairs_Art and Culture.csv'),\n",
              " (45, 'www.hindustantimes.com_pairs_Travel.csv'),\n",
              " (45, 'www.hindustantimes.com_pairs_Recipes.csv'),\n",
              " (45, 'www.hindustantimes.com_pairs_Festivals.csv'),\n",
              " (45, 'www.hindustantimes.com_pairs_Pet.csv')]"
            ]
          },
          "metadata": {},
          "execution_count": 24
        }
      ]
    },
    {
      "cell_type": "code",
      "source": [
        "import random\n",
        "random.shuffle(sorted_array)\n",
        "print(sorted_array)"
      ],
      "metadata": {
        "colab": {
          "base_uri": "https://localhost:8080/"
        },
        "id": "EODe6wQJ0-ig",
        "outputId": "49c1fe0f-d30f-420e-b9a1-17bfca66fe8a"
      },
      "execution_count": 29,
      "outputs": [
        {
          "output_type": "stream",
          "name": "stdout",
          "text": [
            "[(45, 'www.hindustantimes.com_pairs_Tamil Cinema.csv'), (45, 'www.hindustantimes.com_pairs_Telugu Cinema.csv'), (45, 'www.hindustantimes.com_pairs_Technology.csv'), (45, 'www.hindustantimes.com_pairs_Horoscope.csv'), (45, 'www.hindustantimes.com_pairs_Web Series.csv'), (45, 'www.hindustantimes.com_pairs_Festivals.csv'), (45, 'www.hindustantimes.com_pairs_Tennis.csv'), (45, 'www.hindustantimes.com_pairs_Bollywood.csv'), (45, 'www.hindustantimes.com_pairs_TV.csv'), (45, 'www.hindustantimes.com_pairs_Hockey.csv'), (45, 'www.hindustantimes.com_pairs_Travel.csv'), (45, 'www.hindustantimes.com_pairs_Fashion.csv'), (45, 'www.hindustantimes.com_pairs_Pet.csv'), (45, 'www.hindustantimes.com_pairs_World News.csv'), (45, 'www.hindustantimes.com_pairs_Lifestyle.csv'), (45, 'www.hindustantimes.com_pairs_Recipes.csv'), (45, 'www.hindustantimes.com_pairs_Relationships.csv'), (45, 'www.hindustantimes.com_pairs_Sports.csv'), (45, 'www.hindustantimes.com_pairs_Art and Culture.csv'), (45, 'www.hindustantimes.com_pairs_Other Sports.csv'), (45, 'www.hindustantimes.com_pairs_Entertainment Others.csv'), (45, 'www.hindustantimes.com_pairs_Hollywood.csv'), (45, 'www.hindustantimes.com_pairs_Football.csv'), (45, 'www.hindustantimes.com_pairs_Music.csv'), (45, 'www.hindustantimes.com_pairs_Health.csv')]\n"
          ]
        }
      ]
    }
  ]
}