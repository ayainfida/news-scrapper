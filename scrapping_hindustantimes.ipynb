{
  "cells": [
    {
      "cell_type": "code",
      "execution_count": 1,
      "metadata": {
        "id": "QYC4IUw5l22i"
      },
      "outputs": [],
      "source": [
        "from bs4 import BeautifulSoup\n",
        "import requests\n",
        "from tqdm import tqdm\n",
        "from io import BytesIO\n",
        "from urllib.parse import urljoin, urlparse\n",
        "from concurrent.futures import ThreadPoolExecutor, as_completed\n",
        "from PIL import Image\n",
        "import os\n",
        "import random\n",
        "import re\n",
        "import pandas as pd\n",
        "import hashlib\n",
        "from datetime import datetime\n",
        "import urllib.parse\n",
        "from json import dumps, loads\n",
        "from shutil import copy2"
      ]
    },
    {
      "cell_type": "code",
      "execution_count": 3,
      "metadata": {
        "id": "XCf5UB6myVdi"
      },
      "outputs": [],
      "source": [
        "os.chdir('/content/drive/MyDrive/research-similarity/Scraping')"
      ]
    },
    {
      "cell_type": "code",
      "execution_count": 9,
      "metadata": {
        "id": "_CCUn5N5mCep"
      },
      "outputs": [],
      "source": [
        "url = 'https://www.hindustantimes.com/entertainment/bollywood'\n",
        "\n",
        "headers = {\n",
        "    'User-Agent': 'Mozilla/5.0 (Windows NT 10.0; Win64; x64) AppleWebKit/537.36 (KHTML, like Gecko) Chrome/91.0.4472.124 Safari/537.36'\n",
        "}\n",
        "\n",
        "response = requests.get(url, headers=headers)\n",
        "soup = BeautifulSoup(response.content, 'lxml')"
      ]
    },
    {
      "cell_type": "code",
      "execution_count": 11,
      "metadata": {
        "id": "cuWsubPeuTLe"
      },
      "outputs": [],
      "source": [
        "def create_directories(base_url, categories, label='images'):\n",
        "    # create the following dir struct; outputs > base website > categories\n",
        "    base_dir = os.path.join('output', label, urlparse(base_url).netloc)\n",
        "    if not os.path.exists(base_dir):\n",
        "        os.makedirs(base_dir)\n",
        "\n",
        "    for category, _ in categories:\n",
        "        category_dir = os.path.join(base_dir, category)\n",
        "        if not os.path.exists(category_dir):\n",
        "            os.makedirs(category_dir)\n",
        "\n",
        "    return base_dir"
      ]
    },
    {
      "cell_type": "code",
      "execution_count": 12,
      "metadata": {
        "id": "E-g-YuKdrDMJ"
      },
      "outputs": [],
      "source": [
        "def get_articles_links(url):\n",
        "    headers = {\n",
        "    'User-Agent': 'Mozilla/5.0 (Windows NT 10.0; Win64; x64) AppleWebKit/537.36 (KHTML, like Gecko) Chrome/91.0.4472.124 Safari/537.36'\n",
        "    }\n",
        "    response = requests.get(url, headers=headers)\n",
        "    soup = BeautifulSoup(response.content, 'lxml')\n",
        "    main_container = soup.find('section', class_='listingPage')\n",
        "    articles_links = [f\"https://www.hindustantimes.com/entertainment/bollywood{soup.find('div', class_='cartHolder bigCart track timeAgo').find('a')['href']}\"]\n",
        "\n",
        "    for div in main_container.find_all('div', class_='cartHolder listView track timeAgo'):\n",
        "        link = div.find('a')['href']\n",
        "        if link not in articles_links:\n",
        "            articles_links.append(f'https://www.hindustantimes.com{link}')\n",
        "\n",
        "    return articles_links\n",
        "\n",
        "def article_scrapper(url):\n",
        "    articles_links = get_articles_links(url)\n",
        "    data = []\n",
        "\n",
        "    def helper_scrapper(url):\n",
        "        headers = {\n",
        "        'User-Agent': 'Mozilla/5.0 (Windows NT 10.0; Win64; x64) AppleWebKit/537.36 (KHTML, like Gecko) Chrome/91.0.4472.124 Safari/537.36'\n",
        "        }\n",
        "        response = requests.get(url, headers=headers)\n",
        "        soup = BeautifulSoup(response.content, 'lxml')\n",
        "        try:\n",
        "            story_main_div = soup.find('div', id='storyMainDiv')\n",
        "            headline = story_main_div.find('h1').text\n",
        "            datetime_str = story_main_div.find('div', class_='dateTime secTime storyPage').text.strip()[:-4]\n",
        "            time = datetime.strptime(datetime_str, \"%b %d, %Y %I:%M %p\")\n",
        "            images = []\n",
        "\n",
        "            img = story_main_div.find('img')\n",
        "            img_alt = img.get('alt', '')  # Safely get the 'alt' attribute\n",
        "            img_src = img.get('src', '')  # Safely get the 'src' attribute\n",
        "            images.append((img_alt, img_src))\n",
        "\n",
        "            return headline, time, images\n",
        "        except:\n",
        "            return None\n",
        "\n",
        "    for url in articles_links:\n",
        "        result = helper_scrapper(url)\n",
        "        if result is not None:\n",
        "            data.append(result)\n",
        "\n",
        "    return data"
      ]
    },
    {
      "cell_type": "code",
      "execution_count": 13,
      "metadata": {
        "id": "2DMo_iFpuNRC"
      },
      "outputs": [],
      "source": [
        "def get_latest_articles(data, n=10):\n",
        "    seen_headlines = set()\n",
        "    unique_data = []\n",
        "\n",
        "    for record in data:\n",
        "        headline = record[0]\n",
        "        if headline not in seen_headlines:\n",
        "            seen_headlines.add(headline)\n",
        "            unique_data.append(record)\n",
        "\n",
        "    return sorted(unique_data, key=lambda x: x[1], reverse=True)[:n]\n",
        "\n",
        "def download_image(img_url, save_dir, img_name):\n",
        "    try:\n",
        "        if not img_url.startswith('data:'):\n",
        "            headers = {\n",
        "                'User-Agent': 'Mozilla/5.0 (Windows NT 10.0; Win64; x64) AppleWebKit/537.36 (KHTML, like Gecko) Chrome/91.0.4472.124 Safari/537.36'\n",
        "            }\n",
        "            response = requests.get(img_url, headers=headers)\n",
        "            img_data = response.content\n",
        "            img = Image.open(BytesIO(img_data))\n",
        "            width, height = img.size\n",
        "\n",
        "            # Only save images larger than 100x100 pixels\n",
        "            if width >= 100 and height >= 100:\n",
        "                with open(os.path.join(save_dir, img_name), 'wb') as img_file:\n",
        "                    img_file.write(img_data)\n",
        "    except:\n",
        "        pass\n",
        "\n",
        "def download_images(category_url, save_dir, data):\n",
        "\n",
        "    with open(os.path.join(save_dir, 'labels.csv'), 'w') as f:\n",
        "        f.write('image number,alt,article_heading\\n')\n",
        "\n",
        "    records = []\n",
        "\n",
        "    # parallising the downloads to make it faster\n",
        "    with ThreadPoolExecutor(max_workers=10) as executor:\n",
        "        futures = []\n",
        "        headlines = []\n",
        "        for x, tuple in enumerate(data):\n",
        "            headline, _, images_list = tuple\n",
        "            for i, img in enumerate(images_list):\n",
        "                alt_txt, img_url = img\n",
        "                if img_url and not img_url.startswith('data:'):\n",
        "                    img_url = urljoin(category_url, img_url)\n",
        "                    combined_str = f\"{alt_txt}{headline}\".encode()\n",
        "                    img_name = f'image_{x+1}_{i+1}.jpg'\n",
        "                    records.append(f'{img_name},{alt_txt.replace(\",\", \"\")},{headline.replace(\",\", \"\")}\\n')\n",
        "                    futures.append(executor.submit(download_image, img_url, save_dir, img_name))\n",
        "\n",
        "        with open(os.path.join(save_dir, 'labels.csv'), 'a') as f:\n",
        "            f.writelines(records)\n",
        "\n",
        "        for future in as_completed(futures):\n",
        "            future.result()"
      ]
    },
    {
      "cell_type": "code",
      "execution_count": 15,
      "metadata": {
        "id": "75k9ExAWxuM6"
      },
      "outputs": [],
      "source": [
        "categories = [\n",
        "    ('Bollywood', 'https://www.hindustantimes.com/entertainment/bollywood'),\n",
        "    ('Football', 'https://www.hindustantimes.com/sports/football'),\n",
        "    ('Lifestyle', 'https://www.hindustantimes.com/lifestyle'),\n",
        "    ('World News', 'https://www.hindustantimes.com/world-news'),\n",
        "    ('Technology', 'https://www.hindustantimes.com/technology'),\n",
        "    ('Science', 'https://www.hindustantimes.com/science'),\n",
        "    ('Horoscope', 'https://www.hindustantimes.com/astrology/horoscope'),\n",
        "    ('Other Sports', 'https://www.hindustantimes.com/sports/others'),\n",
        "    ('Tennis', 'https://www.hindustantimes.com/sports/tennis'),\n",
        "    ('Sports', 'https://www.hindustantimes.com/sports'),\n",
        "    ('Hockey', 'https://www.hindustantimes.com/sports/hockey'),\n",
        "    ('Music', 'https://www.hindustantimes.com/entertainment/music'),\n",
        "    ('Hollywood', 'https://www.hindustantimes.com/entertainment/hollywood'),\n",
        "    ('Web Series', 'https://www.hindustantimes.com/entertainment/web-series'),\n",
        "    ('Telugu Cinema', 'https://www.hindustantimes.com/entertainment/telugu-cinema'),\n",
        "    ('Tamil Cinema', 'https://www.hindustantimes.com/entertainment/tamil-cinema'),\n",
        "    ('TV', 'https://www.hindustantimes.com/entertainment/tv'),\n",
        "    ('Entertainment Others', 'https://www.hindustantimes.com/entertainment/others'),\n",
        "    ('Fashion', 'https://www.hindustantimes.com/lifestyle/fashion'),\n",
        "    ('Health', 'https://www.hindustantimes.com/lifestyle/health'),\n",
        "    ('Relationships', 'https://www.hindustantimes.com/lifestyle/relationships'),\n",
        "    ('Art and Culture', 'https://www.hindustantimes.com/lifestyle/art-culture'),\n",
        "    ('Travel', 'https://www.hindustantimes.com/lifestyle/travel'),\n",
        "    ('Recipes', 'https://www.hindustantimes.com/lifestyle/recipe'),\n",
        "    ('Festivals', 'https://www.hindustantimes.com/lifestyle/festivals'),\n",
        "    ('Pet', 'https://www.hindustantimes.com/lifestyle/pet'),\n",
        "\n",
        "]\n",
        "\n",
        "base_url = 'https://www.hindustantimes.com/'\n",
        "\n",
        "base_dir = create_directories(base_url, categories)"
      ]
    },
    {
      "cell_type": "code",
      "execution_count": 16,
      "metadata": {
        "colab": {
          "base_uri": "https://localhost:8080/"
        },
        "id": "e-U3nRZbyLxk",
        "outputId": "71cf0f39-0872-4c7d-f66b-0b8ca7e19d9e"
      },
      "outputs": [
        {
          "name": "stderr",
          "output_type": "stream",
          "text": [
            "Downloading images for every category: 100%|██████████| 26/26 [06:21<00:00, 14.67s/it]\n"
          ]
        }
      ],
      "source": [
        "for category, category_url in tqdm(categories, desc='Downloading images for every category'):\n",
        "    category_dir = os.path.join(base_dir, category)\n",
        "    try:\n",
        "        data = article_scrapper(category_url)\n",
        "        download_images(category_url, category_dir, get_latest_articles(data))\n",
        "    except:\n",
        "        print(category)\n",
        "        continue"
      ]
    },
    {
      "cell_type": "code",
      "execution_count": 21,
      "metadata": {
        "id": "CCV5eUrCETob"
      },
      "outputs": [],
      "source": [
        "def create_file(base_dir):\n",
        "    for category in os.listdir(base_dir):\n",
        "        try:\n",
        "            df = pd.read_csv(f'{base_dir}{category}/labels.csv')\n",
        "            n, _ = df.shape\n",
        "\n",
        "            pairs = []\n",
        "\n",
        "            for i in range(n):\n",
        "                for j in range(i + 1, n):\n",
        "                    article_1 = int(re.search(r'\\d+(?=_|$)',list(df.iloc[i])[0]).group())\n",
        "                    article_2 = int(re.search(r'\\d+(?=_|$)',list(df.iloc[j])[0]).group())\n",
        "                    if article_1 != article_2:\n",
        "                        pairs.append((list(df.iloc[i]), list(df.iloc[j])))\n",
        "\n",
        "            with open(f'{base_dir.split(\"/\")[2]}_pairs_{category}.csv', 'w') as f:\n",
        "                for i, pair in enumerate(pairs):\n",
        "                    p1, p2 = pair\n",
        "                    img1, alt1, headline1 = p1\n",
        "                    img2, alt2, headline2 = p2\n",
        "                    f.write(f'{i+1},{headline1},{headline2}\\n')\n",
        "                    f.write(f',https://raw.githubusercontent.com/ayainfida/news-scrapper/main/output/images/www.hindustantimes.com/{urllib.parse.quote(category)}/{img1},https://raw.githubusercontent.com/ayainfida/news-scrapper/main/output/images/www.hindustan.com/{urllib.parse.quote(category)}/{img2}\\n')\n",
        "                    f.write(f',{alt1},{alt2}\\n')\n",
        "\n",
        "        except:\n",
        "            continue"
      ]
    },
    {
      "cell_type": "code",
      "execution_count": 22,
      "metadata": {
        "id": "sNLK4fYjw9Yz"
      },
      "outputs": [],
      "source": [
        "create_file('output/images/www.hindustantimes.com/')"
      ]
    },
    {
      "cell_type": "code",
      "execution_count": 23,
      "metadata": {
        "id": "Ln3l2SQ2xR1z"
      },
      "outputs": [],
      "source": [
        "num_pairs = []\n",
        "\n",
        "for file in os.listdir():\n",
        "    if file.startswith('www.hindustantimes.com_pairs'):\n",
        "        try:\n",
        "            df = pd.read_csv(file)\n",
        "            num_pairs.append((int(list(df.iloc[-3])[0]), file))\n",
        "        except:\n",
        "            continue"
      ]
    },
    {
      "cell_type": "code",
      "execution_count": 24,
      "metadata": {
        "colab": {
          "base_uri": "https://localhost:8080/"
        },
        "id": "Shousqy4zbgw",
        "outputId": "584efb4c-798a-4524-928d-60c78194a32c"
      },
      "outputs": [
        {
          "data": {
            "text/plain": [
              "[(45, 'www.hindustantimes.com_pairs_Bollywood.csv'),\n",
              " (45, 'www.hindustantimes.com_pairs_Football.csv'),\n",
              " (45, 'www.hindustantimes.com_pairs_Lifestyle.csv'),\n",
              " (45, 'www.hindustantimes.com_pairs_World News.csv'),\n",
              " (45, 'www.hindustantimes.com_pairs_Technology.csv'),\n",
              " (45, 'www.hindustantimes.com_pairs_Horoscope.csv'),\n",
              " (45, 'www.hindustantimes.com_pairs_Other Sports.csv'),\n",
              " (45, 'www.hindustantimes.com_pairs_Tennis.csv'),\n",
              " (45, 'www.hindustantimes.com_pairs_Sports.csv'),\n",
              " (45, 'www.hindustantimes.com_pairs_Hockey.csv'),\n",
              " (45, 'www.hindustantimes.com_pairs_Music.csv'),\n",
              " (45, 'www.hindustantimes.com_pairs_Hollywood.csv'),\n",
              " (45, 'www.hindustantimes.com_pairs_Web Series.csv'),\n",
              " (45, 'www.hindustantimes.com_pairs_Telugu Cinema.csv'),\n",
              " (45, 'www.hindustantimes.com_pairs_Tamil Cinema.csv'),\n",
              " (45, 'www.hindustantimes.com_pairs_TV.csv'),\n",
              " (45, 'www.hindustantimes.com_pairs_Entertainment Others.csv'),\n",
              " (45, 'www.hindustantimes.com_pairs_Fashion.csv'),\n",
              " (45, 'www.hindustantimes.com_pairs_Health.csv'),\n",
              " (45, 'www.hindustantimes.com_pairs_Relationships.csv'),\n",
              " (45, 'www.hindustantimes.com_pairs_Art and Culture.csv'),\n",
              " (45, 'www.hindustantimes.com_pairs_Travel.csv'),\n",
              " (45, 'www.hindustantimes.com_pairs_Recipes.csv'),\n",
              " (45, 'www.hindustantimes.com_pairs_Festivals.csv'),\n",
              " (45, 'www.hindustantimes.com_pairs_Pet.csv')]"
            ]
          },
          "execution_count": 24,
          "metadata": {},
          "output_type": "execute_result"
        }
      ],
      "source": [
        "sorted_array = sorted(num_pairs, key=lambda x: x[0])\n",
        "sorted_array"
      ]
    },
    {
      "cell_type": "code",
      "execution_count": 29,
      "metadata": {
        "colab": {
          "base_uri": "https://localhost:8080/"
        },
        "id": "EODe6wQJ0-ig",
        "outputId": "49c1fe0f-d30f-420e-b9a1-17bfca66fe8a"
      },
      "outputs": [
        {
          "name": "stdout",
          "output_type": "stream",
          "text": [
            "[(45, 'www.hindustantimes.com_pairs_Tamil Cinema.csv'), (45, 'www.hindustantimes.com_pairs_Telugu Cinema.csv'), (45, 'www.hindustantimes.com_pairs_Technology.csv'), (45, 'www.hindustantimes.com_pairs_Horoscope.csv'), (45, 'www.hindustantimes.com_pairs_Web Series.csv'), (45, 'www.hindustantimes.com_pairs_Festivals.csv'), (45, 'www.hindustantimes.com_pairs_Tennis.csv'), (45, 'www.hindustantimes.com_pairs_Bollywood.csv'), (45, 'www.hindustantimes.com_pairs_TV.csv'), (45, 'www.hindustantimes.com_pairs_Hockey.csv'), (45, 'www.hindustantimes.com_pairs_Travel.csv'), (45, 'www.hindustantimes.com_pairs_Fashion.csv'), (45, 'www.hindustantimes.com_pairs_Pet.csv'), (45, 'www.hindustantimes.com_pairs_World News.csv'), (45, 'www.hindustantimes.com_pairs_Lifestyle.csv'), (45, 'www.hindustantimes.com_pairs_Recipes.csv'), (45, 'www.hindustantimes.com_pairs_Relationships.csv'), (45, 'www.hindustantimes.com_pairs_Sports.csv'), (45, 'www.hindustantimes.com_pairs_Art and Culture.csv'), (45, 'www.hindustantimes.com_pairs_Other Sports.csv'), (45, 'www.hindustantimes.com_pairs_Entertainment Others.csv'), (45, 'www.hindustantimes.com_pairs_Hollywood.csv'), (45, 'www.hindustantimes.com_pairs_Football.csv'), (45, 'www.hindustantimes.com_pairs_Music.csv'), (45, 'www.hindustantimes.com_pairs_Health.csv')]\n"
          ]
        }
      ],
      "source": [
        "import random\n",
        "random.shuffle(sorted_array)\n",
        "print(sorted_array)"
      ]
    },
    {
      "cell_type": "markdown",
      "metadata": {},
      "source": [
        "**In-Article**"
      ]
    },
    {
      "cell_type": "code",
      "execution_count": 2,
      "metadata": {},
      "outputs": [],
      "source": [
        "url = 'https://www.hindustantimes.com/cricket/virat-kohlis-weakness-exposed-by-three-test-old-bangladesh-pacer-rohit-sharma-shubman-gill-fail-in-testing-conditions-101726721542883.html'\n",
        "\n",
        "headers = {\n",
        "    'User-Agent': 'Mozilla/5.0 (Windows NT 10.0; Win64; x64) AppleWebKit/537.36 (KHTML, like Gecko) Chrome/91.0.4472.124 Safari/537.36'\n",
        "}\n",
        "\n",
        "response = requests.get(url, headers=headers)\n",
        "soup = BeautifulSoup(response.content, 'lxml')"
      ]
    },
    {
      "cell_type": "code",
      "execution_count": 9,
      "metadata": {},
      "outputs": [],
      "source": [
        "story_main_div = soup.find('div', id='storyMainDiv')\n",
        "headline = story_main_div.find('h1').text\n",
        "datetime_str = story_main_div.find('div', class_='dateTime secTime storyPage').text.strip()[:-4]\n",
        "time = datetime.strptime(datetime_str, \"%b %d, %Y %I:%M %p\")\n",
        "\n",
        "images = []\n",
        "\n",
        "img = story_main_div.find('img')\n",
        "img_alt = img.get('alt', '')  # Safely get the 'alt' attribute\n",
        "img_src = img.get('src', '')  # Safely get the 'src' attribute\n",
        "images.append({\n",
        "    'img_url': img_src,\n",
        "    'img_alt': img_alt\n",
        "})"
      ]
    },
    {
      "cell_type": "code",
      "execution_count": 29,
      "metadata": {},
      "outputs": [],
      "source": [
        "def in_article_scrapping(url):\n",
        "    headers = {\n",
        "        'User-Agent': 'Mozilla/5.0 (Windows NT 10.0; Win64; x64) AppleWebKit/537.36 (KHTML, like Gecko) Chrome/91.0.4472.124 Safari/537.36'\n",
        "    }\n",
        "    response = requests.get(url, headers=headers)\n",
        "    soup = BeautifulSoup(response.content, 'lxml')\n",
        "    story_main_div = soup.find('div', id='storyMainDiv')\n",
        "    headline = story_main_div.find('h1').text\n",
        "    datetime_str = story_main_div.find('div', class_='dateTime secTime storyPage').text.strip()[:-4]\n",
        "    time = datetime.strptime(datetime_str, \"%b %d, %Y %I:%M %p\")\n",
        "\n",
        "    images = []\n",
        "    sub_head = story_main_div.find(\"h2\", class_=\"sortDec\").text\n",
        "    img = story_main_div.find('img')\n",
        "    img_alt = img.get('alt', '')  # Safely get the 'alt' attribute\n",
        "    img_src = img.get('src', '')  # Safely get the 'src' attribute\n",
        "    images.append({\n",
        "        'img_url': img_src,\n",
        "        'img_alt': img_alt\n",
        "    })\n",
        "    paragraph = ''\n",
        "\n",
        "    for para_tag in story_main_div.find_all('p'):\n",
        "        paragraph += para_tag.text\n",
        "\n",
        "    content = sub_head + ' ' + paragraph\n",
        "\n",
        "    return url, headline, images, content"
      ]
    },
    {
      "cell_type": "code",
      "execution_count": 30,
      "metadata": {},
      "outputs": [
        {
          "data": {
            "text/plain": [
              "('https://www.hindustantimes.com/cricket/virat-kohlis-weakness-exposed-by-three-test-old-bangladesh-pacer-rohit-sharma-shubman-gill-fail-in-testing-conditions-101726721542883.html',\n",
              " \"Virat Kohli's weakness exposed by three-Test old Bangladesh pacer; Rohit Sharma, Shubman Gill left clueless\",\n",
              " [{'img_url': 'https://www.hindustantimes.com/ht-img/img/2024/09/19/550x309/MixCollage-19-Sep-2024-10-55-AM-3449_1726723614845_1726723621879.jpg',\n",
              "   'img_alt': 'Virat Kohli (L) and Rohit Sharma after their dismissals in the 1st Test(PTI)'}],\n",
              " \"Rohit Sharma, Shubman Gill, and Virat Kohli failed to make a mark in testing conditions during the first Test against Bangladesh. Team India’s return to Test cricket began on a rocky note as they faced a top-order collapse on the opening day of the first Test against Bangladesh in Chennai. After being asked to bat on an unusually pace-friendly surface at the MA Chidambaram Stadium, India struggled against the skilful bowling of 24-year-old Hasan Mahmud.The young Bangladesh pacer, playing in only his fourth Test, dismantled India's famed top-order, claiming the prized scalps of captain Rohit Sharma, Shubman Gill, and Virat Kohli in the first session.IND vs BAN Live Score 1st Test Day 1Under overcast skies, Mahmud made life difficult for the Indian batters by exploiting the movement on offer. While Taskin Ahmed, Bangladesh’s senior pacer offered Rohit Sharma ample width outside the off-stump, Mahmud stuck to a disciplined approach, consistently targeting the off-stump line and forcing the Indian captain into errors.Mahmud's persistence paid off in the sixth over when he drew Rohit into a tentative poke, catching the outside edge and allowing Najmul Hossain Shanto to take a sharp catch at slip. Rohit’s dismissal for 6 was the first blow to India.Shubman Gill’s woes continued as he departed without scoring, further compounding India’s problems. The young opener, who had joined the Test squad fresh off leading India A in the Duleep Trophy, fell prey to a leg-side delivery from Mahmud.Gill, attempting to strangle the ball down to fine leg, misjudged the timing and ended up feathering an edge to wicketkeeper Litton Das, who completed an athletic catch.Virat Kohli, returning to the Indian Test side for the first time since 2023, began his innings with a few authoritative shots, seemingly intent on taking the attack to the opposition. He played some elegant strokes on the leg side, including his signature flick, signalling his intent to impose himself on the bowlers.However, Kohli’s well-documented struggles against deliveries outside off-stump came back to haunt him. Mahmud, staying disciplined with his line, tempted Kohli into a cover drive, and the Indian great edged the ball to Litton Das, leaving India in deeper trouble.With three key batters back in the pavilion before lunch, India remain in a spot of bother. Bangladesh, meanwhile, have continued from where they left in Pakistan, where they clean-swept the hosts 2-0 in a historic Test series win.\")"
            ]
          },
          "execution_count": 30,
          "metadata": {},
          "output_type": "execute_result"
        }
      ],
      "source": [
        "in_article_scrapping('https://www.hindustantimes.com/cricket/virat-kohlis-weakness-exposed-by-three-test-old-bangladesh-pacer-rohit-sharma-shubman-gill-fail-in-testing-conditions-101726721542883.html')"
      ]
    },
    {
      "cell_type": "code",
      "execution_count": 34,
      "metadata": {},
      "outputs": [
        {
          "ename": "ConnectionError",
          "evalue": "HTTPSConnectionPool(host='www.hindustantimes.com', port=443): Max retries exceeded with url: /india-news/bengal-medical-council-cancels-registration-of-rg-kars-ex-principal-sandip-ghosh-101726741834112.html (Caused by NewConnectionError('<urllib3.connection.HTTPSConnection object at 0x1262f0a30>: Failed to establish a new connection: [Errno 61] Connection refused'))",
          "output_type": "error",
          "traceback": [
            "\u001b[0;31m---------------------------------------------------------------------------\u001b[0m",
            "\u001b[0;31mConnectionRefusedError\u001b[0m                    Traceback (most recent call last)",
            "File \u001b[0;32m/Library/Frameworks/Python.framework/Versions/3.10/lib/python3.10/site-packages/urllib3/connection.py:174\u001b[0m, in \u001b[0;36mHTTPConnection._new_conn\u001b[0;34m(self)\u001b[0m\n\u001b[1;32m    173\u001b[0m \u001b[38;5;28;01mtry\u001b[39;00m:\n\u001b[0;32m--> 174\u001b[0m     conn \u001b[38;5;241m=\u001b[39m \u001b[43mconnection\u001b[49m\u001b[38;5;241;43m.\u001b[39;49m\u001b[43mcreate_connection\u001b[49m\u001b[43m(\u001b[49m\n\u001b[1;32m    175\u001b[0m \u001b[43m        \u001b[49m\u001b[43m(\u001b[49m\u001b[38;5;28;43mself\u001b[39;49m\u001b[38;5;241;43m.\u001b[39;49m\u001b[43m_dns_host\u001b[49m\u001b[43m,\u001b[49m\u001b[43m \u001b[49m\u001b[38;5;28;43mself\u001b[39;49m\u001b[38;5;241;43m.\u001b[39;49m\u001b[43mport\u001b[49m\u001b[43m)\u001b[49m\u001b[43m,\u001b[49m\u001b[43m \u001b[49m\u001b[38;5;28;43mself\u001b[39;49m\u001b[38;5;241;43m.\u001b[39;49m\u001b[43mtimeout\u001b[49m\u001b[43m,\u001b[49m\u001b[43m \u001b[49m\u001b[38;5;241;43m*\u001b[39;49m\u001b[38;5;241;43m*\u001b[39;49m\u001b[43mextra_kw\u001b[49m\n\u001b[1;32m    176\u001b[0m \u001b[43m    \u001b[49m\u001b[43m)\u001b[49m\n\u001b[1;32m    178\u001b[0m \u001b[38;5;28;01mexcept\u001b[39;00m SocketTimeout:\n",
            "File \u001b[0;32m/Library/Frameworks/Python.framework/Versions/3.10/lib/python3.10/site-packages/urllib3/util/connection.py:95\u001b[0m, in \u001b[0;36mcreate_connection\u001b[0;34m(address, timeout, source_address, socket_options)\u001b[0m\n\u001b[1;32m     94\u001b[0m \u001b[38;5;28;01mif\u001b[39;00m err \u001b[38;5;129;01mis\u001b[39;00m \u001b[38;5;129;01mnot\u001b[39;00m \u001b[38;5;28;01mNone\u001b[39;00m:\n\u001b[0;32m---> 95\u001b[0m     \u001b[38;5;28;01mraise\u001b[39;00m err\n\u001b[1;32m     97\u001b[0m \u001b[38;5;28;01mraise\u001b[39;00m socket\u001b[38;5;241m.\u001b[39merror(\u001b[38;5;124m\"\u001b[39m\u001b[38;5;124mgetaddrinfo returns an empty list\u001b[39m\u001b[38;5;124m\"\u001b[39m)\n",
            "File \u001b[0;32m/Library/Frameworks/Python.framework/Versions/3.10/lib/python3.10/site-packages/urllib3/util/connection.py:85\u001b[0m, in \u001b[0;36mcreate_connection\u001b[0;34m(address, timeout, source_address, socket_options)\u001b[0m\n\u001b[1;32m     84\u001b[0m     sock\u001b[38;5;241m.\u001b[39mbind(source_address)\n\u001b[0;32m---> 85\u001b[0m \u001b[43msock\u001b[49m\u001b[38;5;241;43m.\u001b[39;49m\u001b[43mconnect\u001b[49m\u001b[43m(\u001b[49m\u001b[43msa\u001b[49m\u001b[43m)\u001b[49m\n\u001b[1;32m     86\u001b[0m \u001b[38;5;28;01mreturn\u001b[39;00m sock\n",
            "\u001b[0;31mConnectionRefusedError\u001b[0m: [Errno 61] Connection refused",
            "\nDuring handling of the above exception, another exception occurred:\n",
            "\u001b[0;31mNewConnectionError\u001b[0m                        Traceback (most recent call last)",
            "File \u001b[0;32m/Library/Frameworks/Python.framework/Versions/3.10/lib/python3.10/site-packages/urllib3/connectionpool.py:714\u001b[0m, in \u001b[0;36mHTTPConnectionPool.urlopen\u001b[0;34m(self, method, url, body, headers, retries, redirect, assert_same_host, timeout, pool_timeout, release_conn, chunked, body_pos, **response_kw)\u001b[0m\n\u001b[1;32m    713\u001b[0m \u001b[38;5;66;03m# Make the request on the httplib connection object.\u001b[39;00m\n\u001b[0;32m--> 714\u001b[0m httplib_response \u001b[38;5;241m=\u001b[39m \u001b[38;5;28;43mself\u001b[39;49m\u001b[38;5;241;43m.\u001b[39;49m\u001b[43m_make_request\u001b[49m\u001b[43m(\u001b[49m\n\u001b[1;32m    715\u001b[0m \u001b[43m    \u001b[49m\u001b[43mconn\u001b[49m\u001b[43m,\u001b[49m\n\u001b[1;32m    716\u001b[0m \u001b[43m    \u001b[49m\u001b[43mmethod\u001b[49m\u001b[43m,\u001b[49m\n\u001b[1;32m    717\u001b[0m \u001b[43m    \u001b[49m\u001b[43murl\u001b[49m\u001b[43m,\u001b[49m\n\u001b[1;32m    718\u001b[0m \u001b[43m    \u001b[49m\u001b[43mtimeout\u001b[49m\u001b[38;5;241;43m=\u001b[39;49m\u001b[43mtimeout_obj\u001b[49m\u001b[43m,\u001b[49m\n\u001b[1;32m    719\u001b[0m \u001b[43m    \u001b[49m\u001b[43mbody\u001b[49m\u001b[38;5;241;43m=\u001b[39;49m\u001b[43mbody\u001b[49m\u001b[43m,\u001b[49m\n\u001b[1;32m    720\u001b[0m \u001b[43m    \u001b[49m\u001b[43mheaders\u001b[49m\u001b[38;5;241;43m=\u001b[39;49m\u001b[43mheaders\u001b[49m\u001b[43m,\u001b[49m\n\u001b[1;32m    721\u001b[0m \u001b[43m    \u001b[49m\u001b[43mchunked\u001b[49m\u001b[38;5;241;43m=\u001b[39;49m\u001b[43mchunked\u001b[49m\u001b[43m,\u001b[49m\n\u001b[1;32m    722\u001b[0m \u001b[43m\u001b[49m\u001b[43m)\u001b[49m\n\u001b[1;32m    724\u001b[0m \u001b[38;5;66;03m# If we're going to release the connection in ``finally:``, then\u001b[39;00m\n\u001b[1;32m    725\u001b[0m \u001b[38;5;66;03m# the response doesn't need to know about the connection. Otherwise\u001b[39;00m\n\u001b[1;32m    726\u001b[0m \u001b[38;5;66;03m# it will also try to release it and we'll have a double-release\u001b[39;00m\n\u001b[1;32m    727\u001b[0m \u001b[38;5;66;03m# mess.\u001b[39;00m\n",
            "File \u001b[0;32m/Library/Frameworks/Python.framework/Versions/3.10/lib/python3.10/site-packages/urllib3/connectionpool.py:403\u001b[0m, in \u001b[0;36mHTTPConnectionPool._make_request\u001b[0;34m(self, conn, method, url, timeout, chunked, **httplib_request_kw)\u001b[0m\n\u001b[1;32m    402\u001b[0m \u001b[38;5;28;01mtry\u001b[39;00m:\n\u001b[0;32m--> 403\u001b[0m     \u001b[38;5;28;43mself\u001b[39;49m\u001b[38;5;241;43m.\u001b[39;49m\u001b[43m_validate_conn\u001b[49m\u001b[43m(\u001b[49m\u001b[43mconn\u001b[49m\u001b[43m)\u001b[49m\n\u001b[1;32m    404\u001b[0m \u001b[38;5;28;01mexcept\u001b[39;00m (SocketTimeout, BaseSSLError) \u001b[38;5;28;01mas\u001b[39;00m e:\n\u001b[1;32m    405\u001b[0m     \u001b[38;5;66;03m# Py2 raises this as a BaseSSLError, Py3 raises it as socket timeout.\u001b[39;00m\n",
            "File \u001b[0;32m/Library/Frameworks/Python.framework/Versions/3.10/lib/python3.10/site-packages/urllib3/connectionpool.py:1053\u001b[0m, in \u001b[0;36mHTTPSConnectionPool._validate_conn\u001b[0;34m(self, conn)\u001b[0m\n\u001b[1;32m   1052\u001b[0m \u001b[38;5;28;01mif\u001b[39;00m \u001b[38;5;129;01mnot\u001b[39;00m \u001b[38;5;28mgetattr\u001b[39m(conn, \u001b[38;5;124m\"\u001b[39m\u001b[38;5;124msock\u001b[39m\u001b[38;5;124m\"\u001b[39m, \u001b[38;5;28;01mNone\u001b[39;00m):  \u001b[38;5;66;03m# AppEngine might not have  `.sock`\u001b[39;00m\n\u001b[0;32m-> 1053\u001b[0m     \u001b[43mconn\u001b[49m\u001b[38;5;241;43m.\u001b[39;49m\u001b[43mconnect\u001b[49m\u001b[43m(\u001b[49m\u001b[43m)\u001b[49m\n\u001b[1;32m   1055\u001b[0m \u001b[38;5;28;01mif\u001b[39;00m \u001b[38;5;129;01mnot\u001b[39;00m conn\u001b[38;5;241m.\u001b[39mis_verified:\n",
            "File \u001b[0;32m/Library/Frameworks/Python.framework/Versions/3.10/lib/python3.10/site-packages/urllib3/connection.py:363\u001b[0m, in \u001b[0;36mHTTPSConnection.connect\u001b[0;34m(self)\u001b[0m\n\u001b[1;32m    361\u001b[0m \u001b[38;5;28;01mdef\u001b[39;00m \u001b[38;5;21mconnect\u001b[39m(\u001b[38;5;28mself\u001b[39m):\n\u001b[1;32m    362\u001b[0m     \u001b[38;5;66;03m# Add certificate verification\u001b[39;00m\n\u001b[0;32m--> 363\u001b[0m     \u001b[38;5;28mself\u001b[39m\u001b[38;5;241m.\u001b[39msock \u001b[38;5;241m=\u001b[39m conn \u001b[38;5;241m=\u001b[39m \u001b[38;5;28;43mself\u001b[39;49m\u001b[38;5;241;43m.\u001b[39;49m\u001b[43m_new_conn\u001b[49m\u001b[43m(\u001b[49m\u001b[43m)\u001b[49m\n\u001b[1;32m    364\u001b[0m     hostname \u001b[38;5;241m=\u001b[39m \u001b[38;5;28mself\u001b[39m\u001b[38;5;241m.\u001b[39mhost\n",
            "File \u001b[0;32m/Library/Frameworks/Python.framework/Versions/3.10/lib/python3.10/site-packages/urllib3/connection.py:186\u001b[0m, in \u001b[0;36mHTTPConnection._new_conn\u001b[0;34m(self)\u001b[0m\n\u001b[1;32m    185\u001b[0m \u001b[38;5;28;01mexcept\u001b[39;00m SocketError \u001b[38;5;28;01mas\u001b[39;00m e:\n\u001b[0;32m--> 186\u001b[0m     \u001b[38;5;28;01mraise\u001b[39;00m NewConnectionError(\n\u001b[1;32m    187\u001b[0m         \u001b[38;5;28mself\u001b[39m, \u001b[38;5;124m\"\u001b[39m\u001b[38;5;124mFailed to establish a new connection: \u001b[39m\u001b[38;5;132;01m%s\u001b[39;00m\u001b[38;5;124m\"\u001b[39m \u001b[38;5;241m%\u001b[39m e\n\u001b[1;32m    188\u001b[0m     )\n\u001b[1;32m    190\u001b[0m \u001b[38;5;28;01mreturn\u001b[39;00m conn\n",
            "\u001b[0;31mNewConnectionError\u001b[0m: <urllib3.connection.HTTPSConnection object at 0x1262f0a30>: Failed to establish a new connection: [Errno 61] Connection refused",
            "\nDuring handling of the above exception, another exception occurred:\n",
            "\u001b[0;31mMaxRetryError\u001b[0m                             Traceback (most recent call last)",
            "File \u001b[0;32m/Library/Frameworks/Python.framework/Versions/3.10/lib/python3.10/site-packages/requests/adapters.py:486\u001b[0m, in \u001b[0;36mHTTPAdapter.send\u001b[0;34m(self, request, stream, timeout, verify, cert, proxies)\u001b[0m\n\u001b[1;32m    485\u001b[0m \u001b[38;5;28;01mtry\u001b[39;00m:\n\u001b[0;32m--> 486\u001b[0m     resp \u001b[38;5;241m=\u001b[39m \u001b[43mconn\u001b[49m\u001b[38;5;241;43m.\u001b[39;49m\u001b[43murlopen\u001b[49m\u001b[43m(\u001b[49m\n\u001b[1;32m    487\u001b[0m \u001b[43m        \u001b[49m\u001b[43mmethod\u001b[49m\u001b[38;5;241;43m=\u001b[39;49m\u001b[43mrequest\u001b[49m\u001b[38;5;241;43m.\u001b[39;49m\u001b[43mmethod\u001b[49m\u001b[43m,\u001b[49m\n\u001b[1;32m    488\u001b[0m \u001b[43m        \u001b[49m\u001b[43murl\u001b[49m\u001b[38;5;241;43m=\u001b[39;49m\u001b[43murl\u001b[49m\u001b[43m,\u001b[49m\n\u001b[1;32m    489\u001b[0m \u001b[43m        \u001b[49m\u001b[43mbody\u001b[49m\u001b[38;5;241;43m=\u001b[39;49m\u001b[43mrequest\u001b[49m\u001b[38;5;241;43m.\u001b[39;49m\u001b[43mbody\u001b[49m\u001b[43m,\u001b[49m\n\u001b[1;32m    490\u001b[0m \u001b[43m        \u001b[49m\u001b[43mheaders\u001b[49m\u001b[38;5;241;43m=\u001b[39;49m\u001b[43mrequest\u001b[49m\u001b[38;5;241;43m.\u001b[39;49m\u001b[43mheaders\u001b[49m\u001b[43m,\u001b[49m\n\u001b[1;32m    491\u001b[0m \u001b[43m        \u001b[49m\u001b[43mredirect\u001b[49m\u001b[38;5;241;43m=\u001b[39;49m\u001b[38;5;28;43;01mFalse\u001b[39;49;00m\u001b[43m,\u001b[49m\n\u001b[1;32m    492\u001b[0m \u001b[43m        \u001b[49m\u001b[43massert_same_host\u001b[49m\u001b[38;5;241;43m=\u001b[39;49m\u001b[38;5;28;43;01mFalse\u001b[39;49;00m\u001b[43m,\u001b[49m\n\u001b[1;32m    493\u001b[0m \u001b[43m        \u001b[49m\u001b[43mpreload_content\u001b[49m\u001b[38;5;241;43m=\u001b[39;49m\u001b[38;5;28;43;01mFalse\u001b[39;49;00m\u001b[43m,\u001b[49m\n\u001b[1;32m    494\u001b[0m \u001b[43m        \u001b[49m\u001b[43mdecode_content\u001b[49m\u001b[38;5;241;43m=\u001b[39;49m\u001b[38;5;28;43;01mFalse\u001b[39;49;00m\u001b[43m,\u001b[49m\n\u001b[1;32m    495\u001b[0m \u001b[43m        \u001b[49m\u001b[43mretries\u001b[49m\u001b[38;5;241;43m=\u001b[39;49m\u001b[38;5;28;43mself\u001b[39;49m\u001b[38;5;241;43m.\u001b[39;49m\u001b[43mmax_retries\u001b[49m\u001b[43m,\u001b[49m\n\u001b[1;32m    496\u001b[0m \u001b[43m        \u001b[49m\u001b[43mtimeout\u001b[49m\u001b[38;5;241;43m=\u001b[39;49m\u001b[43mtimeout\u001b[49m\u001b[43m,\u001b[49m\n\u001b[1;32m    497\u001b[0m \u001b[43m        \u001b[49m\u001b[43mchunked\u001b[49m\u001b[38;5;241;43m=\u001b[39;49m\u001b[43mchunked\u001b[49m\u001b[43m,\u001b[49m\n\u001b[1;32m    498\u001b[0m \u001b[43m    \u001b[49m\u001b[43m)\u001b[49m\n\u001b[1;32m    500\u001b[0m \u001b[38;5;28;01mexcept\u001b[39;00m (ProtocolError, \u001b[38;5;167;01mOSError\u001b[39;00m) \u001b[38;5;28;01mas\u001b[39;00m err:\n",
            "File \u001b[0;32m/Library/Frameworks/Python.framework/Versions/3.10/lib/python3.10/site-packages/urllib3/connectionpool.py:798\u001b[0m, in \u001b[0;36mHTTPConnectionPool.urlopen\u001b[0;34m(self, method, url, body, headers, retries, redirect, assert_same_host, timeout, pool_timeout, release_conn, chunked, body_pos, **response_kw)\u001b[0m\n\u001b[1;32m    796\u001b[0m     e \u001b[38;5;241m=\u001b[39m ProtocolError(\u001b[38;5;124m\"\u001b[39m\u001b[38;5;124mConnection aborted.\u001b[39m\u001b[38;5;124m\"\u001b[39m, e)\n\u001b[0;32m--> 798\u001b[0m retries \u001b[38;5;241m=\u001b[39m \u001b[43mretries\u001b[49m\u001b[38;5;241;43m.\u001b[39;49m\u001b[43mincrement\u001b[49m\u001b[43m(\u001b[49m\n\u001b[1;32m    799\u001b[0m \u001b[43m    \u001b[49m\u001b[43mmethod\u001b[49m\u001b[43m,\u001b[49m\u001b[43m \u001b[49m\u001b[43murl\u001b[49m\u001b[43m,\u001b[49m\u001b[43m \u001b[49m\u001b[43merror\u001b[49m\u001b[38;5;241;43m=\u001b[39;49m\u001b[43me\u001b[49m\u001b[43m,\u001b[49m\u001b[43m \u001b[49m\u001b[43m_pool\u001b[49m\u001b[38;5;241;43m=\u001b[39;49m\u001b[38;5;28;43mself\u001b[39;49m\u001b[43m,\u001b[49m\u001b[43m \u001b[49m\u001b[43m_stacktrace\u001b[49m\u001b[38;5;241;43m=\u001b[39;49m\u001b[43msys\u001b[49m\u001b[38;5;241;43m.\u001b[39;49m\u001b[43mexc_info\u001b[49m\u001b[43m(\u001b[49m\u001b[43m)\u001b[49m\u001b[43m[\u001b[49m\u001b[38;5;241;43m2\u001b[39;49m\u001b[43m]\u001b[49m\n\u001b[1;32m    800\u001b[0m \u001b[43m\u001b[49m\u001b[43m)\u001b[49m\n\u001b[1;32m    801\u001b[0m retries\u001b[38;5;241m.\u001b[39msleep()\n",
            "File \u001b[0;32m/Library/Frameworks/Python.framework/Versions/3.10/lib/python3.10/site-packages/urllib3/util/retry.py:592\u001b[0m, in \u001b[0;36mRetry.increment\u001b[0;34m(self, method, url, response, error, _pool, _stacktrace)\u001b[0m\n\u001b[1;32m    591\u001b[0m \u001b[38;5;28;01mif\u001b[39;00m new_retry\u001b[38;5;241m.\u001b[39mis_exhausted():\n\u001b[0;32m--> 592\u001b[0m     \u001b[38;5;28;01mraise\u001b[39;00m MaxRetryError(_pool, url, error \u001b[38;5;129;01mor\u001b[39;00m ResponseError(cause))\n\u001b[1;32m    594\u001b[0m log\u001b[38;5;241m.\u001b[39mdebug(\u001b[38;5;124m\"\u001b[39m\u001b[38;5;124mIncremented Retry for (url=\u001b[39m\u001b[38;5;124m'\u001b[39m\u001b[38;5;132;01m%s\u001b[39;00m\u001b[38;5;124m'\u001b[39m\u001b[38;5;124m): \u001b[39m\u001b[38;5;132;01m%r\u001b[39;00m\u001b[38;5;124m\"\u001b[39m, url, new_retry)\n",
            "\u001b[0;31mMaxRetryError\u001b[0m: HTTPSConnectionPool(host='www.hindustantimes.com', port=443): Max retries exceeded with url: /india-news/bengal-medical-council-cancels-registration-of-rg-kars-ex-principal-sandip-ghosh-101726741834112.html (Caused by NewConnectionError('<urllib3.connection.HTTPSConnection object at 0x1262f0a30>: Failed to establish a new connection: [Errno 61] Connection refused'))",
            "\nDuring handling of the above exception, another exception occurred:\n",
            "\u001b[0;31mConnectionError\u001b[0m                           Traceback (most recent call last)",
            "Cell \u001b[0;32mIn[34], line 17\u001b[0m\n\u001b[1;32m     14\u001b[0m results_inarticle \u001b[38;5;241m=\u001b[39m []\n\u001b[1;32m     16\u001b[0m \u001b[38;5;28;01mfor\u001b[39;00m url \u001b[38;5;129;01min\u001b[39;00m urls:\n\u001b[0;32m---> 17\u001b[0m     results_inarticle\u001b[38;5;241m.\u001b[39mappend(\u001b[43min_article_scrapping\u001b[49m\u001b[43m(\u001b[49m\u001b[43murl\u001b[49m\u001b[43m)\u001b[49m)\n\u001b[1;32m     18\u001b[0m     \u001b[38;5;28mprint\u001b[39m(\u001b[38;5;124m'\u001b[39m\u001b[38;5;124mdone\u001b[39m\u001b[38;5;124m'\u001b[39m)\n",
            "Cell \u001b[0;32mIn[29], line 5\u001b[0m, in \u001b[0;36min_article_scrapping\u001b[0;34m(url)\u001b[0m\n\u001b[1;32m      1\u001b[0m \u001b[38;5;28;01mdef\u001b[39;00m \u001b[38;5;21min_article_scrapping\u001b[39m(url):\n\u001b[1;32m      2\u001b[0m     headers \u001b[38;5;241m=\u001b[39m {\n\u001b[1;32m      3\u001b[0m         \u001b[38;5;124m'\u001b[39m\u001b[38;5;124mUser-Agent\u001b[39m\u001b[38;5;124m'\u001b[39m: \u001b[38;5;124m'\u001b[39m\u001b[38;5;124mMozilla/5.0 (Windows NT 10.0; Win64; x64) AppleWebKit/537.36 (KHTML, like Gecko) Chrome/91.0.4472.124 Safari/537.36\u001b[39m\u001b[38;5;124m'\u001b[39m\n\u001b[1;32m      4\u001b[0m     }\n\u001b[0;32m----> 5\u001b[0m     response \u001b[38;5;241m=\u001b[39m \u001b[43mrequests\u001b[49m\u001b[38;5;241;43m.\u001b[39;49m\u001b[43mget\u001b[49m\u001b[43m(\u001b[49m\u001b[43murl\u001b[49m\u001b[43m,\u001b[49m\u001b[43m \u001b[49m\u001b[43mheaders\u001b[49m\u001b[38;5;241;43m=\u001b[39;49m\u001b[43mheaders\u001b[49m\u001b[43m)\u001b[49m\n\u001b[1;32m      6\u001b[0m     soup \u001b[38;5;241m=\u001b[39m BeautifulSoup(response\u001b[38;5;241m.\u001b[39mcontent, \u001b[38;5;124m'\u001b[39m\u001b[38;5;124mlxml\u001b[39m\u001b[38;5;124m'\u001b[39m)\n\u001b[1;32m      7\u001b[0m     story_main_div \u001b[38;5;241m=\u001b[39m soup\u001b[38;5;241m.\u001b[39mfind(\u001b[38;5;124m'\u001b[39m\u001b[38;5;124mdiv\u001b[39m\u001b[38;5;124m'\u001b[39m, \u001b[38;5;28mid\u001b[39m\u001b[38;5;241m=\u001b[39m\u001b[38;5;124m'\u001b[39m\u001b[38;5;124mstoryMainDiv\u001b[39m\u001b[38;5;124m'\u001b[39m)\n",
            "File \u001b[0;32m/Library/Frameworks/Python.framework/Versions/3.10/lib/python3.10/site-packages/requests/api.py:73\u001b[0m, in \u001b[0;36mget\u001b[0;34m(url, params, **kwargs)\u001b[0m\n\u001b[1;32m     62\u001b[0m \u001b[38;5;28;01mdef\u001b[39;00m \u001b[38;5;21mget\u001b[39m(url, params\u001b[38;5;241m=\u001b[39m\u001b[38;5;28;01mNone\u001b[39;00m, \u001b[38;5;241m*\u001b[39m\u001b[38;5;241m*\u001b[39mkwargs):\n\u001b[1;32m     63\u001b[0m \u001b[38;5;250m    \u001b[39m\u001b[38;5;124mr\u001b[39m\u001b[38;5;124;03m\"\"\"Sends a GET request.\u001b[39;00m\n\u001b[1;32m     64\u001b[0m \n\u001b[1;32m     65\u001b[0m \u001b[38;5;124;03m    :param url: URL for the new :class:`Request` object.\u001b[39;00m\n\u001b[0;32m   (...)\u001b[0m\n\u001b[1;32m     70\u001b[0m \u001b[38;5;124;03m    :rtype: requests.Response\u001b[39;00m\n\u001b[1;32m     71\u001b[0m \u001b[38;5;124;03m    \"\"\"\u001b[39;00m\n\u001b[0;32m---> 73\u001b[0m     \u001b[38;5;28;01mreturn\u001b[39;00m \u001b[43mrequest\u001b[49m\u001b[43m(\u001b[49m\u001b[38;5;124;43m\"\u001b[39;49m\u001b[38;5;124;43mget\u001b[39;49m\u001b[38;5;124;43m\"\u001b[39;49m\u001b[43m,\u001b[49m\u001b[43m \u001b[49m\u001b[43murl\u001b[49m\u001b[43m,\u001b[49m\u001b[43m \u001b[49m\u001b[43mparams\u001b[49m\u001b[38;5;241;43m=\u001b[39;49m\u001b[43mparams\u001b[49m\u001b[43m,\u001b[49m\u001b[43m \u001b[49m\u001b[38;5;241;43m*\u001b[39;49m\u001b[38;5;241;43m*\u001b[39;49m\u001b[43mkwargs\u001b[49m\u001b[43m)\u001b[49m\n",
            "File \u001b[0;32m/Library/Frameworks/Python.framework/Versions/3.10/lib/python3.10/site-packages/requests/api.py:59\u001b[0m, in \u001b[0;36mrequest\u001b[0;34m(method, url, **kwargs)\u001b[0m\n\u001b[1;32m     55\u001b[0m \u001b[38;5;66;03m# By using the 'with' statement we are sure the session is closed, thus we\u001b[39;00m\n\u001b[1;32m     56\u001b[0m \u001b[38;5;66;03m# avoid leaving sockets open which can trigger a ResourceWarning in some\u001b[39;00m\n\u001b[1;32m     57\u001b[0m \u001b[38;5;66;03m# cases, and look like a memory leak in others.\u001b[39;00m\n\u001b[1;32m     58\u001b[0m \u001b[38;5;28;01mwith\u001b[39;00m sessions\u001b[38;5;241m.\u001b[39mSession() \u001b[38;5;28;01mas\u001b[39;00m session:\n\u001b[0;32m---> 59\u001b[0m     \u001b[38;5;28;01mreturn\u001b[39;00m \u001b[43msession\u001b[49m\u001b[38;5;241;43m.\u001b[39;49m\u001b[43mrequest\u001b[49m\u001b[43m(\u001b[49m\u001b[43mmethod\u001b[49m\u001b[38;5;241;43m=\u001b[39;49m\u001b[43mmethod\u001b[49m\u001b[43m,\u001b[49m\u001b[43m \u001b[49m\u001b[43murl\u001b[49m\u001b[38;5;241;43m=\u001b[39;49m\u001b[43murl\u001b[49m\u001b[43m,\u001b[49m\u001b[43m \u001b[49m\u001b[38;5;241;43m*\u001b[39;49m\u001b[38;5;241;43m*\u001b[39;49m\u001b[43mkwargs\u001b[49m\u001b[43m)\u001b[49m\n",
            "File \u001b[0;32m/Library/Frameworks/Python.framework/Versions/3.10/lib/python3.10/site-packages/requests/sessions.py:589\u001b[0m, in \u001b[0;36mSession.request\u001b[0;34m(self, method, url, params, data, headers, cookies, files, auth, timeout, allow_redirects, proxies, hooks, stream, verify, cert, json)\u001b[0m\n\u001b[1;32m    584\u001b[0m send_kwargs \u001b[38;5;241m=\u001b[39m {\n\u001b[1;32m    585\u001b[0m     \u001b[38;5;124m\"\u001b[39m\u001b[38;5;124mtimeout\u001b[39m\u001b[38;5;124m\"\u001b[39m: timeout,\n\u001b[1;32m    586\u001b[0m     \u001b[38;5;124m\"\u001b[39m\u001b[38;5;124mallow_redirects\u001b[39m\u001b[38;5;124m\"\u001b[39m: allow_redirects,\n\u001b[1;32m    587\u001b[0m }\n\u001b[1;32m    588\u001b[0m send_kwargs\u001b[38;5;241m.\u001b[39mupdate(settings)\n\u001b[0;32m--> 589\u001b[0m resp \u001b[38;5;241m=\u001b[39m \u001b[38;5;28;43mself\u001b[39;49m\u001b[38;5;241;43m.\u001b[39;49m\u001b[43msend\u001b[49m\u001b[43m(\u001b[49m\u001b[43mprep\u001b[49m\u001b[43m,\u001b[49m\u001b[43m \u001b[49m\u001b[38;5;241;43m*\u001b[39;49m\u001b[38;5;241;43m*\u001b[39;49m\u001b[43msend_kwargs\u001b[49m\u001b[43m)\u001b[49m\n\u001b[1;32m    591\u001b[0m \u001b[38;5;28;01mreturn\u001b[39;00m resp\n",
            "File \u001b[0;32m/Library/Frameworks/Python.framework/Versions/3.10/lib/python3.10/site-packages/requests/sessions.py:703\u001b[0m, in \u001b[0;36mSession.send\u001b[0;34m(self, request, **kwargs)\u001b[0m\n\u001b[1;32m    700\u001b[0m start \u001b[38;5;241m=\u001b[39m preferred_clock()\n\u001b[1;32m    702\u001b[0m \u001b[38;5;66;03m# Send the request\u001b[39;00m\n\u001b[0;32m--> 703\u001b[0m r \u001b[38;5;241m=\u001b[39m \u001b[43madapter\u001b[49m\u001b[38;5;241;43m.\u001b[39;49m\u001b[43msend\u001b[49m\u001b[43m(\u001b[49m\u001b[43mrequest\u001b[49m\u001b[43m,\u001b[49m\u001b[43m \u001b[49m\u001b[38;5;241;43m*\u001b[39;49m\u001b[38;5;241;43m*\u001b[39;49m\u001b[43mkwargs\u001b[49m\u001b[43m)\u001b[49m\n\u001b[1;32m    705\u001b[0m \u001b[38;5;66;03m# Total elapsed time of the request (approximately)\u001b[39;00m\n\u001b[1;32m    706\u001b[0m elapsed \u001b[38;5;241m=\u001b[39m preferred_clock() \u001b[38;5;241m-\u001b[39m start\n",
            "File \u001b[0;32m/Library/Frameworks/Python.framework/Versions/3.10/lib/python3.10/site-packages/requests/adapters.py:519\u001b[0m, in \u001b[0;36mHTTPAdapter.send\u001b[0;34m(self, request, stream, timeout, verify, cert, proxies)\u001b[0m\n\u001b[1;32m    515\u001b[0m     \u001b[38;5;28;01mif\u001b[39;00m \u001b[38;5;28misinstance\u001b[39m(e\u001b[38;5;241m.\u001b[39mreason, _SSLError):\n\u001b[1;32m    516\u001b[0m         \u001b[38;5;66;03m# This branch is for urllib3 v1.22 and later.\u001b[39;00m\n\u001b[1;32m    517\u001b[0m         \u001b[38;5;28;01mraise\u001b[39;00m SSLError(e, request\u001b[38;5;241m=\u001b[39mrequest)\n\u001b[0;32m--> 519\u001b[0m     \u001b[38;5;28;01mraise\u001b[39;00m \u001b[38;5;167;01mConnectionError\u001b[39;00m(e, request\u001b[38;5;241m=\u001b[39mrequest)\n\u001b[1;32m    521\u001b[0m \u001b[38;5;28;01mexcept\u001b[39;00m ClosedPoolError \u001b[38;5;28;01mas\u001b[39;00m e:\n\u001b[1;32m    522\u001b[0m     \u001b[38;5;28;01mraise\u001b[39;00m \u001b[38;5;167;01mConnectionError\u001b[39;00m(e, request\u001b[38;5;241m=\u001b[39mrequest)\n",
            "\u001b[0;31mConnectionError\u001b[0m: HTTPSConnectionPool(host='www.hindustantimes.com', port=443): Max retries exceeded with url: /india-news/bengal-medical-council-cancels-registration-of-rg-kars-ex-principal-sandip-ghosh-101726741834112.html (Caused by NewConnectionError('<urllib3.connection.HTTPSConnection object at 0x1262f0a30>: Failed to establish a new connection: [Errno 61] Connection refused'))"
          ]
        }
      ],
      "source": [
        "urls = [\n",
        "    \"https://www.hindustantimes.com/india-news/bengal-medical-council-cancels-registration-of-rg-kars-ex-principal-sandip-ghosh-101726741834112.html\",\n",
        "    \"https://www.hindustantimes.com/cricket/old-lady-becomes-internet-sensation-after-cheering-every-ashwin-boundary-in-india-vs-bangladesh-1st-test-101726742724227.html\",\n",
        "    \"https://www.hindustantimes.com/entertainment/bollywood/triptii-dimri-reveals-relatives-told-her-parents-no-one-is-going-to-marry-her-after-she-became-an-actor-101726741964715.html\",\n",
        "    \"https://www.hindustantimes.com/entertainment/bollywood/emergency-release-date-court-gives-deadline-to-cbfc-for-deciding-kangana-ranaut-starrers-certification-101726734842304.html\",\n",
        "    \"https://www.hindustantimes.com/cricket/india-vs-bangladesh-live-score-1st-test-match-day-1-ind-vs-ban-series-2024-latest-cricket-scorecard-updates-chennai-101726651671273.html\",\n",
        "    \"https://www.hindustantimes.com/world-news/us-news/playing-politics-donald-trump-jd-vance-react-to-fed-s-big-interest-rate-cut-will-this-move-impact-us-election-101726738942922.html\",\n",
        "    \"https://www.hindustantimes.com/india-news/pm-narendra-modi-lambasts-rahul-gandhis-devta-remark-naxal-mindset-imported-from-other-religions-101726742680436.html\",\n",
        "    \"https://www.hindustantimes.com/india-news/hindu-outfit-stages-protest-in-chennai-seeks-ban-on-india-bangladesh-test-series-101726738247737.html\",\n",
        "    \"https://www.hindustantimes.com/world-news/israel-arrests-citizen-over-iranian-plot-to-kill-pm-benjamin-netanyahu-other-top-officials-101726740411460.html\",\n",
        "    \"https://www.hindustantimes.com/india-news/centre-reacts-to-ey-pune-employee-anna-sebastian-perayils-tragic-death-taken-up-the-complaint-101726732832865.html\"\n",
        "]\n",
        "\n",
        "results_inarticle = []\n",
        "\n",
        "for url in urls:\n",
        "    results_inarticle.append(in_article_scrapping(url))\n",
        "    print('done')"
      ]
    },
    {
      "cell_type": "code",
      "execution_count": 28,
      "metadata": {},
      "outputs": [
        {
          "ename": "NameError",
          "evalue": "name 'new_df' is not defined",
          "output_type": "error",
          "traceback": [
            "\u001b[0;31m---------------------------------------------------------------------------\u001b[0m",
            "\u001b[0;31mNameError\u001b[0m                                 Traceback (most recent call last)",
            "Cell \u001b[0;32mIn[28], line 1\u001b[0m\n\u001b[0;32m----> 1\u001b[0m new_df \u001b[38;5;241m=\u001b[39m \u001b[43mnew_df\u001b[49m\u001b[38;5;241m.\u001b[39mcolumns[\u001b[38;5;124m'\u001b[39m\u001b[38;5;124murl\u001b[39m\u001b[38;5;124m'\u001b[39m,\u001b[38;5;124m'\u001b[39m\u001b[38;5;124mparagraph\u001b[39m\u001b[38;5;124m'\u001b[39m]\n",
            "\u001b[0;31mNameError\u001b[0m: name 'new_df' is not defined"
          ]
        }
      ],
      "source": []
    }
  ],
  "metadata": {
    "colab": {
      "provenance": []
    },
    "kernelspec": {
      "display_name": "Python 3",
      "name": "python3"
    },
    "language_info": {
      "codemirror_mode": {
        "name": "ipython",
        "version": 3
      },
      "file_extension": ".py",
      "mimetype": "text/x-python",
      "name": "python",
      "nbconvert_exporter": "python",
      "pygments_lexer": "ipython3",
      "version": "3.10.5"
    }
  },
  "nbformat": 4,
  "nbformat_minor": 0
}
