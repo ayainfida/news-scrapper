{
 "cells": [
  {
   "cell_type": "code",
   "execution_count": 1,
   "metadata": {},
   "outputs": [],
   "source": [
    "from bs4 import BeautifulSoup\n",
    "import requests\n",
    "from tqdm import tqdm\n",
    "from io import BytesIO\n",
    "from urllib.parse import urljoin, urlparse\n",
    "from concurrent.futures import ThreadPoolExecutor, as_completed\n",
    "from PIL import Image\n",
    "import os\n",
    "import random\n",
    "import re\n",
    "import pandas as pd\n",
    "import hashlib\n",
    "from deep_translator import GoogleTranslator\n",
    "from datetime import datetime\n",
    "import urllib.parse\n",
    "from json import dumps, loads\n",
    "from shutil import copy2"
   ]
  },
  {
   "cell_type": "code",
   "execution_count": 2,
   "metadata": {},
   "outputs": [],
   "source": [
    "def translate(text):\n",
    "    return GoogleTranslator(source='ko', target='en').translate(text=text).replace(',', '').replace('\\n', '')\n",
    "\n",
    "def create_directories(base_url, categories, label='images'):\n",
    "    # create the following dir struct; outputs > base website > categories\n",
    "    base_dir = os.path.join('output', label, urlparse(base_url).netloc)\n",
    "    if not os.path.exists(base_dir):\n",
    "        os.makedirs(base_dir)\n",
    "\n",
    "    for category, _ in categories:\n",
    "        category_dir = os.path.join(base_dir, category)\n",
    "        if not os.path.exists(category_dir):\n",
    "            os.makedirs(category_dir)\n",
    "\n",
    "    return base_dir"
   ]
  },
  {
   "cell_type": "code",
   "execution_count": 3,
   "metadata": {},
   "outputs": [],
   "source": [
    "url = 'https://www.infobae.com/entretenimiento/'\n",
    "response = requests.get(url)\n",
    "soup = BeautifulSoup(response.content, 'lxml')"
   ]
  },
  {
   "cell_type": "code",
   "execution_count": 8,
   "metadata": {},
   "outputs": [
    {
     "name": "stdout",
     "output_type": "stream",
     "text": [
      "/entretenimiento/2024/09/21/un-corazon-roto-y-solo-10-minutos-asi-nacio-dreams-el-exito-de-stevie-nicks-para-fleetwood-mac/\n",
      "/entretenimiento/2024/09/21/5-bandas-que-cambiaron-de-cantante-y-no-tuvieron-exito/\n",
      "/entretenimiento/2024/09/20/ridley-scott-ya-planea-una-tercera-entrega-de-gladiador/\n",
      "/noticias/2024/09/19/maraton-de-k-dramas-no-te-pierdas-guerra-de-cucharas-y-otras-series-de-tendencia-en-corea-del-sur/\n",
      "/entretenimiento/2024/09/20/brad-pitt-y-george-clooney-compartieron-como-la-edad-ha-cambiado-sus-perspectivas-sobre-la-vida-y-el-cine/\n",
      "/entretenimiento/2024/09/20/george-clooney-y-brad-pitt-prometieron-hacerse-cargo-de-matt-damon-en-una-parodia-de-su-nueva-pelicula/\n",
      "/entretenimiento/2024/09/20/katy-perry-esto-ha-dicho-la-critica-de-su-nuevo-album-143/\n",
      "/entretenimiento/2024/09/20/katy-perry-ha-encontrado-a-su-critico-personal-en-el-hijo-de-orlando-bloom-el-tiene-un-gran-oido-musical/\n",
      "/entretenimiento/2024/09/20/steven-adler-confeso-que-la-influencia-de-sus-excompaneros-de-banda-en-guns-n-roses-lo-llevaron-a-volverse-adicto-a-la-heroina/\n",
      "/entretenimiento/2024/09/20/matthew-perry-admiraba-la-actuacion-de-david-schwimmer-pero-no-se-lo-habia-dicho-en-persona-era-reservado-conmigo/\n",
      "/entretenimiento/2024/09/20/la-esperada-secuela-de-exterminio-fue-grabada-con-un-iphone-15/\n",
      "/que-puedo-ver/2024/09/20/cuando-se-estrenara-la-esperada-adaptacion-de-una-iconica-historieta-argentina/\n",
      "/entretenimiento/2024/09/20/un-primer-vistazo-a-la-temporada-2-de-merlina-mas-grande-y-retorcida-de-lo-que-imaginan/\n",
      "/entretenimiento/2024/09/20/diddy-es-tan-malo-como-jeffrey-epstein-aseguro-uno-de-los-oficiales-que-registro-su-mansion-en-miami/\n",
      "/entretenimiento/2024/09/20/la-hija-de-rob-schneider-respondio-a-las-disculpas-de-su-padre-por-los-maltratos-en-su-infancia-no-significa-nada/\n",
      "/entretenimiento/2024/09/20/desde-angelina-jolie-hasta-lady-gaga-las-7-estrellas-que-ya-se-perfilan-para-los-oscar-2025/\n",
      "/que-puedo-ver/2024/09/20/la-serie-argentina-mas-vista-en-america-latina/\n",
      "/que-puedo-ver/2024/09/20/la-serie-mas-vista-de-la-historia-regresa-con-nuevos-personajes-te-mostramos-el-nuevo-trailer/\n",
      "/entretenimiento/2024/09/20/la-increible-mansion-donde-se-caso-jennifer-lopez-en-el-2001-esta-a-la-venta-por-usd-725-millones/\n",
      "/entretenimiento/2024/09/19/los-gemelos-weasley-volveran-al-universo-de-harry-potter-con-el-programa-wizards-of-baking/\n",
      "/entretenimiento/2024/09/19/ozzy-osbourne-se-abrio-sobre-sus-problemas-con-la-adiccion-como-podia-pensar-que-aspirar-toda-esa-cocaina-era-algo-divertido/\n",
      "/entretenimiento/2024/09/19/la-madre-de-chester-bennington-hablo-sobre-la-nueva-etapa-de-linkin-park-me-siento-traicionada/\n",
      "/entretenimiento/2024/09/19/queen-latifah-llevara-su-historia-al-cine-en-una-pelicula-biografica-producida-por-will-smith/\n",
      "/entretenimiento/2024/09/19/black-mirror-revelo-su-casting-de-lujo-para-la-temporada-7-emma-corrin-paul-giamatti-y-mas/\n",
      "/entretenimiento/2024/09/19/conoce-a-las-estrellas-que-cantaran-en-los-premios-billboard-de-la-musica-latina/\n"
     ]
    }
   ],
   "source": [
    "main_content = soup.find('article', class_='article').find('div', class_='feed-list-wrapper')\n",
    "\n",
    "for a_tag in main_content.find_all('a'):\n",
    "    print(a_tag['href'])"
   ]
  },
  {
   "cell_type": "code",
   "execution_count": 9,
   "metadata": {},
   "outputs": [],
   "source": [
    "def get_articles_links(url):\n",
    "    response = requests.get(url)\n",
    "    soup = BeautifulSoup(response.content, 'lxml')\n",
    "    main_content = soup.find('article', class_='article').find('div', class_='feed-list-wrapper')\n",
    "    articles_links = []\n",
    "\n",
    "    for a_tag in main_content.find_all('a'):\n",
    "        link = f\"https://www.infobae.com{a_tag['href']}\"\n",
    "        if link not in articles_links:\n",
    "            articles_links.append(link)\n",
    "\n",
    "    return articles_links"
   ]
  },
  {
   "cell_type": "code",
   "execution_count": 11,
   "metadata": {},
   "outputs": [
    {
     "data": {
      "text/plain": [
       "['https://www.infobae.com/wapo/2024/09/20/la-economia-china-se-tambalea-y-eso-significa-mas-tensiones-comerciales/',\n",
       " 'https://www.infobae.com/wapo/2024/09/20/acuerdo-con-microsoft-reabriria-planta-nuclear-de-three-mile-island-para-impulsar-inteligencia-artificial/',\n",
       " 'https://www.infobae.com/wapo/2024/09/20/es-el-agua-con-gas-igual-de-hidratante-que-el-agua-simple/',\n",
       " 'https://www.infobae.com/wapo/2024/09/20/las-inundaciones-en-africa-provocan-miseria-y-55-millones-de-personas-ya-padecen-hambre/',\n",
       " 'https://www.infobae.com/wapo/2024/09/20/johnson-johnson-elevo-su-oferta-por-talco-para-bebes-a-mas-de-usd-8200-millones/',\n",
       " 'https://www.infobae.com/wapo/2024/09/20/ser-humilde-es-bueno-para-el-aprendizaje-y-para-las-relaciones/',\n",
       " 'https://www.infobae.com/wapo/2024/09/20/te-duelen-los-ojos-de-tanto-mirar-pantallas-no-te-dejes-enganar-por-las-gafas-con-filtro-de-luz-azul/',\n",
       " 'https://www.infobae.com/wapo/2024/09/20/los-cientificos-vinculan-nuevamente-el-origen-de-la-pandemia-de-covid-con-los-animales-del-mercado-de-wuhan/',\n",
       " 'https://www.infobae.com/wapo/2024/09/20/apple-recibio-advertencia-de-la-union-europea-para-que-abra-el-sistema-operativo-del-iphone/',\n",
       " 'https://www.infobae.com/america/mundo/2024/09/20/las-explosiones-de-los-beepers-delatan-la-secreta-y-omnipresente-influencia-de-hezbollah-en-el-libano/',\n",
       " 'https://www.infobae.com/wapo/2024/09/20/hallaron-en-egipto-una-espada-con-el-sello-de-ramses-ii-que-sigue-brillando-3000-anos-despues/',\n",
       " 'https://www.infobae.com/wapo/2024/09/20/fue-hallada-en-notre-dame-la-tumba-de-un-poeta-perdido-durante-450-anos-segun-los-cientificos/',\n",
       " 'https://www.infobae.com/wapo/2024/09/20/por-que-partes-del-desierto-del-sahara-se-estan-volviendo-verdes-este-mes/',\n",
       " 'https://www.infobae.com/wapo/2024/09/19/estos-6-habitos-ayudaron-a-los-dietistas-exitosos-a-perder-peso-y-mantenerlo/',\n",
       " 'https://www.infobae.com/wapo/2024/09/19/la-administracion-federal-de-aviacion-investiga-un-fallo-en-la-presion-de-cabina-que-causo-lesiones-a-pasajeros-de-delta/',\n",
       " 'https://www.infobae.com/wapo/2024/09/19/un-informe-de-la-comision-federal-de-comercio-de-eeuu-denuncio-las-practicas-de-privacidad-y-seguridad-de-las-redes-sociales/',\n",
       " 'https://www.infobae.com/wapo/2024/09/19/una-espada-con-marca-del-faraon-fue-encontrada-en-egipto-y-aun-resplandece-luego-de-3000-anos/',\n",
       " 'https://www.infobae.com/wapo/2024/09/19/ya-no-hay-dispositivos-electronicos-seguros-el-ataque-a-los-beepers-y-walkie-talkies-reaviva-una-amenaza/',\n",
       " 'https://www.infobae.com/wapo/2024/09/19/varias-mujeres-acusaron-de-violacion-a-mohamed-al-fayed-multimillonario-y-amigo-de-la-realeza-britanica/',\n",
       " 'https://www.infobae.com/wapo/2024/09/19/a-quienes-afectaba-el-ciberataque-chino-que-controlaba-260-mil-camaras-routers-y-otros-dispositivos-en-occidente/',\n",
       " 'https://www.infobae.com/wapo/2024/09/19/california-aprobo-leyes-sobre-ia-para-frenar-los-deepfakes-electorales-y-proteger-a-los-actores/',\n",
       " 'https://www.infobae.com/wapo/2024/09/19/cinco-cachorros-de-lobo-rojo-en-peligro-de-extincion-murieron-en-carolina-del-norte-dicen-las-autoridades/',\n",
       " 'https://www.infobae.com/wapo/2024/09/18/la-mujer-mas-rica-de-rusia-acuso-a-su-aun-esposo-de-provocar-un-tiroteo-en-la-sede-de-su-empresa/',\n",
       " 'https://www.infobae.com/wapo/2024/09/18/estados-unidos-demando-al-propietario-y-operador-de-barco-por-derrumbe-del-puente-de-baltimore/',\n",
       " 'https://www.infobae.com/wapo/2024/09/18/este-pais-es-ahora-el-primero-en-el-mundo-en-tener-mas-vehiculos-electricos-que-autos-de-gasolina/']"
      ]
     },
     "execution_count": 11,
     "metadata": {},
     "output_type": "execute_result"
    }
   ],
   "source": [
    "get_articles_links('https://www.infobae.com/wapo/')"
   ]
  }
 ],
 "metadata": {
  "kernelspec": {
   "display_name": "Python 3",
   "language": "python",
   "name": "python3"
  },
  "language_info": {
   "codemirror_mode": {
    "name": "ipython",
    "version": 3
   },
   "file_extension": ".py",
   "mimetype": "text/x-python",
   "name": "python",
   "nbconvert_exporter": "python",
   "pygments_lexer": "ipython3",
   "version": "3.10.5"
  }
 },
 "nbformat": 4,
 "nbformat_minor": 2
}
