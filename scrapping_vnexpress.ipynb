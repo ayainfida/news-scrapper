{
  "cells": [
    {
      "cell_type": "code",
      "source": [
        "!pip install deep_translator"
      ],
      "metadata": {
        "colab": {
          "base_uri": "https://localhost:8080/"
        },
        "id": "888GL7V9pUkk",
        "outputId": "806010f1-9cd9-4b4c-c8a0-6037ce8b3c82"
      },
      "execution_count": 2,
      "outputs": [
        {
          "output_type": "stream",
          "name": "stdout",
          "text": [
            "Collecting deep_translator\n",
            "  Downloading deep_translator-1.11.4-py3-none-any.whl.metadata (30 kB)\n",
            "Requirement already satisfied: beautifulsoup4<5.0.0,>=4.9.1 in /usr/local/lib/python3.10/dist-packages (from deep_translator) (4.12.3)\n",
            "Requirement already satisfied: requests<3.0.0,>=2.23.0 in /usr/local/lib/python3.10/dist-packages (from deep_translator) (2.32.3)\n",
            "Requirement already satisfied: soupsieve>1.2 in /usr/local/lib/python3.10/dist-packages (from beautifulsoup4<5.0.0,>=4.9.1->deep_translator) (2.6)\n",
            "Requirement already satisfied: charset-normalizer<4,>=2 in /usr/local/lib/python3.10/dist-packages (from requests<3.0.0,>=2.23.0->deep_translator) (3.3.2)\n",
            "Requirement already satisfied: idna<4,>=2.5 in /usr/local/lib/python3.10/dist-packages (from requests<3.0.0,>=2.23.0->deep_translator) (3.10)\n",
            "Requirement already satisfied: urllib3<3,>=1.21.1 in /usr/local/lib/python3.10/dist-packages (from requests<3.0.0,>=2.23.0->deep_translator) (2.0.7)\n",
            "Requirement already satisfied: certifi>=2017.4.17 in /usr/local/lib/python3.10/dist-packages (from requests<3.0.0,>=2.23.0->deep_translator) (2024.8.30)\n",
            "Downloading deep_translator-1.11.4-py3-none-any.whl (42 kB)\n",
            "\u001b[2K   \u001b[90m━━━━━━━━━━━━━━━━━━━━━━━━━━━━━━━━━━━━━━━━\u001b[0m \u001b[32m42.3/42.3 kB\u001b[0m \u001b[31m754.5 kB/s\u001b[0m eta \u001b[36m0:00:00\u001b[0m\n",
            "\u001b[?25hInstalling collected packages: deep_translator\n",
            "Successfully installed deep_translator-1.11.4\n"
          ]
        }
      ]
    },
    {
      "cell_type": "code",
      "execution_count": 3,
      "metadata": {
        "id": "EkPXBgguouS-"
      },
      "outputs": [],
      "source": [
        "from bs4 import BeautifulSoup\n",
        "import requests\n",
        "from tqdm import tqdm\n",
        "from io import BytesIO\n",
        "from urllib.parse import urljoin, urlparse\n",
        "from concurrent.futures import ThreadPoolExecutor, as_completed\n",
        "from PIL import Image\n",
        "import os\n",
        "import random\n",
        "import re\n",
        "import pandas as pd\n",
        "import hashlib\n",
        "from deep_translator import GoogleTranslator\n",
        "from datetime import datetime\n",
        "import urllib.parse\n",
        "from json import dumps, loads\n",
        "from shutil import copy2"
      ]
    },
    {
      "cell_type": "code",
      "source": [
        "os.chdir('/content/drive/MyDrive/research-similarity/Scraping')"
      ],
      "metadata": {
        "id": "vHpPq14hpdx-"
      },
      "execution_count": 5,
      "outputs": []
    },
    {
      "cell_type": "code",
      "execution_count": 6,
      "metadata": {
        "id": "c2iRy_shouTP"
      },
      "outputs": [],
      "source": [
        "def translate(text):\n",
        "    return GoogleTranslator(source='vi', target='en').translate(text=text).replace(',', '').replace('\\n', '')\n",
        "\n",
        "def create_directories(base_url, categories, label='images'):\n",
        "    # create the following dir struct; outputs > base website > categories\n",
        "    base_dir = os.path.join('output', label, urlparse(base_url).netloc)\n",
        "    if not os.path.exists(base_dir):\n",
        "        os.makedirs(base_dir)\n",
        "\n",
        "    for category, _ in categories:\n",
        "        category_dir = os.path.join(base_dir, category)\n",
        "        if not os.path.exists(category_dir):\n",
        "            os.makedirs(category_dir)\n",
        "\n",
        "    return base_dir"
      ]
    },
    {
      "cell_type": "code",
      "source": [
        "from google.colab import drive\n",
        "drive.mount('/content/drive')"
      ],
      "metadata": {
        "colab": {
          "base_uri": "https://localhost:8080/"
        },
        "id": "CrQ9wyvjpg-B",
        "outputId": "2cb56836-b6ac-4abf-c854-e9d9ecb9301c"
      },
      "execution_count": 4,
      "outputs": [
        {
          "output_type": "stream",
          "name": "stdout",
          "text": [
            "Mounted at /content/drive\n"
          ]
        }
      ]
    },
    {
      "cell_type": "code",
      "execution_count": null,
      "metadata": {
        "id": "DRrYiyc0ouTS"
      },
      "outputs": [],
      "source": [
        "url = 'https://vnexpress.net/kinh-doanh/chung-khoan'\n",
        "response = requests.get(url)\n",
        "soup = BeautifulSoup(response.content, 'lxml')"
      ]
    },
    {
      "cell_type": "code",
      "execution_count": 7,
      "metadata": {
        "id": "xlh3U9ucouTT"
      },
      "outputs": [],
      "source": [
        "def get_articles_links(url):\n",
        "    response = requests.get(url)\n",
        "    soup = BeautifulSoup(response.content, 'lxml')\n",
        "    main_content = soup.find('div', id='automation_TV0')\n",
        "    articles_links = []\n",
        "\n",
        "    for article in main_content.find_all('article'):\n",
        "        a_tag = article.find('a')\n",
        "        if a_tag:\n",
        "            link = a_tag['href']\n",
        "            if link not in articles_links:\n",
        "                articles_links.append(link)\n",
        "\n",
        "    return articles_links\n",
        "\n",
        "def article_scrapper(url):\n",
        "    articles_links = get_articles_links(url)\n",
        "    data = []\n",
        "\n",
        "    def helper_scrapper(url):\n",
        "        response = requests.get(url)\n",
        "        soup = BeautifulSoup(response.content, 'lxml')\n",
        "        try:\n",
        "            headline = translate(soup.find('h1').text)\n",
        "            datetime_str = translate(soup.find('span', class_='date').text)[:-8]\n",
        "            time = datetime.strptime(datetime_str, \"%A %B %d %Y %H:%M\")\n",
        "            article_content = soup.find('article', class_='fck_detail')\n",
        "\n",
        "            images = []\n",
        "\n",
        "            for img in article_content.find_all('img'):\n",
        "                img_alt = translate(img.get('alt', ''))  # Safely get the 'alt' attribute\n",
        "                img_src = img.get('src', '')  # Safely get the 'src' attribute\n",
        "\n",
        "                if (img_alt, img_src) not in images:\n",
        "                    images.append((img_alt, img_src))\n",
        "\n",
        "            return headline, time, images\n",
        "        except:\n",
        "            return None\n",
        "\n",
        "    for url in articles_links:\n",
        "        result = helper_scrapper(url)\n",
        "        if result is not None and len(result[2]):\n",
        "            data.append(result)\n",
        "\n",
        "    return data"
      ]
    },
    {
      "cell_type": "code",
      "execution_count": null,
      "metadata": {
        "id": "wHp7ZbexouTV",
        "outputId": "1329f277-acc3-4151-f428-f319059df9ad"
      },
      "outputs": [
        {
          "data": {
            "text/plain": [
              "['https://vnexpress.net/alcaraz-thua-tran-ra-quan-laver-cup-4795367.html',\n",
              " 'https://vnexpress.net/federer-du-doan-djokovic-doat-australia-mo-rong-4794853.html',\n",
              " 'https://vnexpress.net/sinner-khong-duoc-chon-du-laver-cup-4794652.html',\n",
              " 'https://vnexpress.net/khi-djokovic-giu-the-dien-cho-doi-thu-4793275.html',\n",
              " 'https://vnexpress.net/alcaraz-bi-hoai-nghi-ve-dang-cap-so-voi-big-3-4793552.html',\n",
              " 'https://vnexpress.net/djokovic-tap-trung-cho-serbia-o-cuoi-su-nghiep-4793247.html',\n",
              " 'https://vnexpress.net/alcaraz-giup-tay-ban-nha-vao-tu-ket-davis-cup-4792982.html',\n",
              " 'https://vnexpress.net/djokovic-thang-nadal-federer-nam-2011-la-buoc-ngoat-su-nghiep-4792724.html',\n",
              " 'https://vnexpress.net/nadal-rut-khoi-laver-cup-4792465.html',\n",
              " 'https://vnexpress.net/chu-nadal-vi-federer-nhu-messi-4792322.html',\n",
              " 'https://vnexpress.net/alcaraz-giup-tay-ban-nha-thang-hai-tran-davis-cup-4791993.html',\n",
              " 'https://vnexpress.net/sinner-duoc-ky-vong-se-khien-djokovic-giai-nghe-4791895.html',\n",
              " 'https://vnexpress.net/sinner-toan-dien-nhat-atp-tour-2024-4791729.html',\n",
              " 'https://vnexpress.net/bouchard-ha-he-truoc-that-bai-cua-dong-nghiep-my-4791526.html',\n",
              " 'https://vnexpress.net/djokovic-va-alcaraz-tro-lai-som-hon-du-kien-4791488.html',\n",
              " 'https://vnexpress.net/kyrgios-mia-mai-chuyen-tinh-cua-sinner-4791293.html',\n",
              " 'https://vnexpress.net/sinner-tuyen-chien-voi-alcaraz-djokovic-4790962.html',\n",
              " 'https://vnexpress.net/nam-chuyen-giao-quyen-luc-cua-quan-vot-nam-4790546.html',\n",
              " 'https://vnexpress.net/djokovic-nguy-co-khong-duoc-du-atp-finals-4790674.html',\n",
              " 'https://vnexpress.net/sinner-vo-dich-my-mo-rong-2024-4790536.html',\n",
              " 'https://vnexpress.net/sabalenka-len-dinh-my-mo-rong-nho-tranh-vet-xe-do-4790492.html',\n",
              " 'https://vnexpress.net/doi-thu-cua-sinner-non-ba-lan-vi-roi-loan-lo-au-4790315.html',\n",
              " 'https://vnexpress.net/fritz-muon-tao-ky-tich-truoc-sinner-o-my-mo-rong-4790473.html',\n",
              " 'https://vnexpress.net/sinner-dau-fritz-o-chung-ket-my-mo-rong-2024-4790216.html',\n",
              " 'https://vnexpress.net/tay-vot-nu-danh-thuan-tay-manh-hon-djokovic-alcaraz-sinner-4790072.html',\n",
              " 'https://vnexpress.net/thoi-co-vang-cho-sinner-o-ban-ket-my-mo-rong-2024-4789875.html',\n",
              " 'https://vnexpress.net/sabalenka-nam-thu-hai-lien-tiep-vao-chung-ket-my-mo-rong-4789842.html',\n",
              " 'https://vnexpress.net/sinner-ha-medvedev-o-tu-ket-my-mo-rong-4789392.html',\n",
              " 'https://vnexpress.net/hien-tuong-quan-vot-thang-lien-15-set-o-my-mo-rong-2024-4789241.html',\n",
              " 'https://vnexpress.net/so-mot-the-gioi-thua-tu-ket-my-mo-rong-2024-4789221.html']"
            ]
          },
          "execution_count": 10,
          "metadata": {},
          "output_type": "execute_result"
        }
      ],
      "source": [
        "get_articles_links(url='https://vnexpress.net/the-thao/tennis')"
      ]
    },
    {
      "cell_type": "code",
      "execution_count": null,
      "metadata": {
        "id": "mxpmVYVkouXN"
      },
      "outputs": [],
      "source": [
        "url = 'https://vnexpress.net/khi-djokovic-giu-the-dien-cho-doi-thu-4793275.html'\n",
        "response = requests.get(url)\n",
        "soup = BeautifulSoup(response.content, 'lxml')"
      ]
    },
    {
      "cell_type": "code",
      "execution_count": null,
      "metadata": {
        "id": "TM7uUofYouXa",
        "outputId": "f35aa71b-ad2f-4812-bd20-2a952b2c669e"
      },
      "outputs": [
        {
          "data": {
            "text/plain": [
              "'https://iv1cdn.vnecdn.net/thethao/images/web/2024/09/16/khi-phach-nghia-hiep-cua-djokovic-1726453657.jpg?w=0&h=0&q=100&dpr=1&fit=crop&s=2ppL9W7U8NrGuW4cWVt54g'"
            ]
          },
          "execution_count": 34,
          "metadata": {},
          "output_type": "execute_result"
        }
      ],
      "source": [
        "soup.find('article', class_='fck_detail').find_all('img')[0].get('src')"
      ]
    },
    {
      "cell_type": "code",
      "execution_count": 8,
      "metadata": {
        "id": "jPo5dvj-ouXc"
      },
      "outputs": [],
      "source": [
        "def get_latest_articles(data, n=10):\n",
        "    seen_headlines = set()\n",
        "    unique_data = []\n",
        "\n",
        "    for record in data:\n",
        "        headline = record[0]\n",
        "        if headline not in seen_headlines:\n",
        "            seen_headlines.add(headline)\n",
        "            unique_data.append(record)\n",
        "\n",
        "    return sorted(unique_data, key=lambda x: x[1], reverse=True)[:n]\n",
        "\n",
        "def download_image(img_url, save_dir, img_name):\n",
        "    try:\n",
        "        if not img_url.startswith('data:'):\n",
        "            response = requests.get(img_url)\n",
        "            img_data = response.content\n",
        "            img = Image.open(BytesIO(img_data))\n",
        "            width, height = img.size\n",
        "\n",
        "            # Only save images larger than 100x100 pixels\n",
        "            if width >= 100 and height >= 100:\n",
        "                with open(os.path.join(save_dir, img_name), 'wb') as img_file:\n",
        "                    img_file.write(img_data)\n",
        "    except:\n",
        "        pass\n",
        "\n",
        "def download_images(category_url, save_dir, data):\n",
        "\n",
        "    with open(os.path.join(save_dir, 'labels.csv'), 'w') as f:\n",
        "        f.write('image number,alt,article_heading\\n')\n",
        "\n",
        "    records = []\n",
        "\n",
        "    # parallising the downloads to make it faster\n",
        "    with ThreadPoolExecutor(max_workers=10) as executor:\n",
        "        futures = []\n",
        "        headlines = []\n",
        "        for x, tuple in enumerate(data):\n",
        "            headline, _, images_list = tuple\n",
        "            for i, img in enumerate(images_list):\n",
        "                alt_txt, img_url = img\n",
        "                if img_url and not img_url.startswith('data:'):\n",
        "                    img_url = urljoin(category_url, img_url)\n",
        "                    combined_str = f\"{alt_txt}{headline}\".encode()\n",
        "                    img_name = f'image_{x+1}_{i+1}.jpg'\n",
        "                    records.append(f'{img_name},{alt_txt.replace(\",\", \"\")},{headline.replace(\",\", \"\")}\\n')\n",
        "                    futures.append(executor.submit(download_image, img_url, save_dir, img_name))\n",
        "\n",
        "        with open(os.path.join(save_dir, 'labels.csv'), 'a') as f:\n",
        "            f.writelines(records)\n",
        "\n",
        "        for future in as_completed(futures):\n",
        "            future.result()\n"
      ]
    },
    {
      "cell_type": "code",
      "execution_count": 10,
      "metadata": {
        "id": "NVvM7x0touXd"
      },
      "outputs": [],
      "source": [
        "categories = [\n",
        "    (\"Tennis\", \"https://vnexpress.net/the-thao/tennis\"),\n",
        "    (\"Football\", \"https://vnexpress.net/bong-da\"),\n",
        "    (\"Celebrity\", \"https://vnexpress.net/giai-tri/gioi-sao\"),\n",
        "    (\"Movie\", \"https://vnexpress.net/giai-tri/phim\"),\n",
        "    (\"Music\", \"https://vnexpress.net/giai-tri/nhac\"),\n",
        "    (\"Fashion\", \"https://vnexpress.net/giai-tri/thoi-trang\"),\n",
        "    (\"Beauty\", \"https://vnexpress.net/giai-tri/lam-dep\"),\n",
        "    (\"Fine Arts\", \"https://vnexpress.net/giai-tri/san-khau-my-thuat\"),\n",
        "    (\"Law\", \"https://vnexpress.net/phap-luat/ho-so-pha-an\"),\n",
        "    (\"Health\", \"https://vnexpress.net/suc-khoe/tin-tuc\"),\n",
        "    (\"Destination\", \"https://vnexpress.net/du-lich/diem-den\"),\n",
        "    (\"Cuisine\", \"https://vnexpress.net/du-lich/am-thuc\"),\n",
        "    (\"Footprint\", \"https://vnexpress.net/du-lich/dau-chan\"),\n",
        "    (\"Technology\", \"https://vnexpress.net/so-hoa/cong-nghe\"),\n",
        "    (\"Product\", \"https://vnexpress.net/so-hoa/san-pham\"),\n",
        "    (\"Car\", \"https://vnexpress.net/oto-xe-may/thi-truong\"),\n",
        "    (\"Life\", \"https://vnexpress.net/doi-song/to-am\"),\n",
        "    (\"Military\", \"https://vnexpress.net/the-gioi/quan-su\"),\n",
        "    (\"Politics\", \"https://vnexpress.net/thoi-su/chinh-tri\"),\n",
        "    (\"People\", \"https://vnexpress.net/thoi-su/dan-sinh\"),\n",
        "    (\"Business\", \"https://vnexpress.net/kinh-doanh/quoc-te\"),\n",
        "    (\"Stock\", \"https://vnexpress.net/kinh-doanh/chung-khoan\")\n",
        "]\n",
        "\n",
        "base_url = 'https://vnexpress.net/'\n",
        "\n",
        "base_dir = create_directories(base_url, categories)"
      ]
    },
    {
      "cell_type": "code",
      "source": [
        "for category, category_url in tqdm(categories, desc='Downloading images for every category'):\n",
        "    category_dir = os.path.join(base_dir, category)\n",
        "    try:\n",
        "        data = article_scrapper(category_url)\n",
        "        download_images(category_url, category_dir, get_latest_articles(data))\n",
        "    except:\n",
        "        print(category)\n",
        "        continue"
      ],
      "metadata": {
        "colab": {
          "base_uri": "https://localhost:8080/"
        },
        "id": "iQo9vb7PqKvX",
        "outputId": "dc9e9e9c-27ce-49c6-f6d4-3badcd815394"
      },
      "execution_count": 11,
      "outputs": [
        {
          "output_type": "stream",
          "name": "stderr",
          "text": [
            "Downloading images for every category: 100%|██████████| 22/22 [57:44<00:00, 157.50s/it]\n"
          ]
        }
      ]
    },
    {
      "cell_type": "code",
      "source": [
        "def create_file(base_dir):\n",
        "    for category in os.listdir(base_dir):\n",
        "        try:\n",
        "            df = pd.read_csv(f'{base_dir}{category}/labels.csv')\n",
        "            n, _ = df.shape\n",
        "\n",
        "            pairs = []\n",
        "\n",
        "            for i in range(n):\n",
        "                for j in range(i + 1, n):\n",
        "                    article_1 = int(re.search(r'\\d+(?=_|$)',list(df.iloc[i])[0]).group())\n",
        "                    article_2 = int(re.search(r'\\d+(?=_|$)',list(df.iloc[j])[0]).group())\n",
        "                    if article_1 != article_2:\n",
        "                        pairs.append((list(df.iloc[i]), list(df.iloc[j])))\n",
        "\n",
        "            with open(f'{base_dir.split(\"/\")[2]}_pairs_{category}.csv', 'w') as f:\n",
        "                for i, pair in enumerate(pairs):\n",
        "                    p1, p2 = pair\n",
        "                    img1, alt1, headline1 = p1\n",
        "                    img2, alt2, headline2 = p2\n",
        "                    f.write(f'{i+1},{headline1},{headline2}\\n')\n",
        "                    f.write(f',https://raw.githubusercontent.com/ayainfida/news-scrapper/main/output/images/vnexpress.net/{urllib.parse.quote(category)}/{img1},https://raw.githubusercontent.com/ayainfida/news-scrapper/main/output/images/vnexpress.net/{urllib.parse.quote(category)}/{img2}\\n')\n",
        "                    f.write(f',{alt1},{alt2}\\n')\n",
        "\n",
        "        except:\n",
        "            continue"
      ],
      "metadata": {
        "id": "0PDIRIMSqUgj"
      },
      "execution_count": 15,
      "outputs": []
    },
    {
      "cell_type": "code",
      "source": [
        "create_file('output/images/vnexpress.net/')"
      ],
      "metadata": {
        "id": "yS8M5m-H37iq"
      },
      "execution_count": 16,
      "outputs": []
    },
    {
      "cell_type": "code",
      "source": [
        "num_pairs = []\n",
        "\n",
        "for file in os.listdir():\n",
        "    if file.startswith('vnexpress.net_pairs'):\n",
        "        try:\n",
        "            df = pd.read_csv(file)\n",
        "            num_pairs.append((int(list(df.iloc[-3])[0]), file))\n",
        "        except:\n",
        "            continue"
      ],
      "metadata": {
        "id": "9tKT-1ur3tpJ"
      },
      "execution_count": 17,
      "outputs": []
    },
    {
      "cell_type": "code",
      "source": [
        "sorted_array = sorted(num_pairs, key=lambda x: x[0])\n",
        "sorted_array"
      ],
      "metadata": {
        "colab": {
          "base_uri": "https://localhost:8080/"
        },
        "id": "w-4QamER4Ini",
        "outputId": "53df1463-58d4-49a6-af57-bdb192eab19a"
      },
      "execution_count": 18,
      "outputs": [
        {
          "output_type": "execute_result",
          "data": {
            "text/plain": [
              "[(45, 'vnexpress.net_pairs_Tennis.csv'),\n",
              " (45, 'vnexpress.net_pairs_Stock.csv'),\n",
              " (63, 'vnexpress.net_pairs_Politics.csv'),\n",
              " (74, 'vnexpress.net_pairs_Business.csv'),\n",
              " (85, 'vnexpress.net_pairs_Health.csv'),\n",
              " (97, 'vnexpress.net_pairs_Technology.csv'),\n",
              " (127, 'vnexpress.net_pairs_Football.csv'),\n",
              " (142, 'vnexpress.net_pairs_Car.csv'),\n",
              " (195, 'vnexpress.net_pairs_Life.csv'),\n",
              " (212, 'vnexpress.net_pairs_Military.csv'),\n",
              " (215, 'vnexpress.net_pairs_Law.csv'),\n",
              " (236, 'vnexpress.net_pairs_Footprint.csv'),\n",
              " (298, 'vnexpress.net_pairs_Product.csv'),\n",
              " (324, 'vnexpress.net_pairs_Fine Arts.csv'),\n",
              " (342, 'vnexpress.net_pairs_Celebrity.csv'),\n",
              " (431, 'vnexpress.net_pairs_Fashion.csv'),\n",
              " (451, 'vnexpress.net_pairs_Music.csv'),\n",
              " (458, 'vnexpress.net_pairs_People.csv'),\n",
              " (459, 'vnexpress.net_pairs_Destination.csv'),\n",
              " (481, 'vnexpress.net_pairs_Movie.csv'),\n",
              " (515, 'vnexpress.net_pairs_Beauty.csv'),\n",
              " (574, 'vnexpress.net_pairs_Cuisine.csv')]"
            ]
          },
          "metadata": {},
          "execution_count": 18
        }
      ]
    }
  ],
  "metadata": {
    "kernelspec": {
      "display_name": "Python 3",
      "language": "python",
      "name": "python3"
    },
    "language_info": {
      "codemirror_mode": {
        "name": "ipython",
        "version": 3
      },
      "file_extension": ".py",
      "mimetype": "text/x-python",
      "name": "python",
      "nbconvert_exporter": "python",
      "pygments_lexer": "ipython3",
      "version": "3.10.5"
    },
    "colab": {
      "provenance": []
    }
  },
  "nbformat": 4,
  "nbformat_minor": 0
}