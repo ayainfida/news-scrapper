{
  "cells": [
    {
      "cell_type": "code",
      "execution_count": 1,
      "metadata": {
        "id": "bW9GRYxQM4Mm"
      },
      "outputs": [],
      "source": [
        "from bs4 import BeautifulSoup\n",
        "import requests\n",
        "from tqdm import tqdm\n",
        "from io import BytesIO\n",
        "from urllib.parse import urljoin, urlparse\n",
        "from concurrent.futures import ThreadPoolExecutor, as_completed\n",
        "from PIL import Image\n",
        "import os\n",
        "import random\n",
        "import re\n",
        "import pandas as pd\n",
        "import hashlib\n",
        "from datetime import datetime\n",
        "import urllib.parse\n",
        "from json import dumps, loads\n",
        "from shutil import copy2"
      ]
    },
    {
      "cell_type": "code",
      "source": [
        "from google.colab import drive\n",
        "drive.mount('/content/drive')"
      ],
      "metadata": {
        "colab": {
          "base_uri": "https://localhost:8080/"
        },
        "id": "7IgiQ2fUNcpo",
        "outputId": "e6d12a1f-e6f4-4508-89b5-98c69152b610"
      },
      "execution_count": 3,
      "outputs": [
        {
          "output_type": "stream",
          "name": "stdout",
          "text": [
            "Mounted at /content/drive\n"
          ]
        }
      ]
    },
    {
      "cell_type": "code",
      "source": [
        "os.chdir('/content/drive/MyDrive/research-similarity/Scraping')"
      ],
      "metadata": {
        "id": "j193uQYDNhV5"
      },
      "execution_count": 4,
      "outputs": []
    },
    {
      "cell_type": "code",
      "execution_count": null,
      "metadata": {
        "id": "PQNOBPWaM4Mq"
      },
      "outputs": [],
      "source": [
        "url = 'https://english.elpais.com/health/'\n",
        "response = requests.get(url)\n",
        "\n",
        "soup = BeautifulSoup(response.content, 'lxml')"
      ]
    },
    {
      "cell_type": "code",
      "execution_count": null,
      "metadata": {
        "id": "gybME0MWM4Mq",
        "outputId": "82622b75-068a-4997-9927-a81843c4eec9"
      },
      "outputs": [
        {
          "name": "stdout",
          "output_type": "stream",
          "text": [
            "https://english.elpais.com/health/2024-09-14/mpox-an-emergency-for-children.html\n",
            "https://english.elpais.com/health/2024-09-13/being-distracted-doesnt-mean-you-have-adhd-the-danger-of-self-diagnosis-in-teenagers.html\n",
            "https://english.elpais.com/health/2024-09-13/diego-hidalgo-banning-the-sale-of-phones-to-teenagers-would-empower-parents.html\n",
            "https://english.elpais.com/health/2024-09-12/extreme-weather-and-epidemics-how-75-people-were-hospitalized-after-eating-contaminated-lettuce.html\n",
            "https://english.elpais.com/science-tech/2024-09-11/new-generation-of-radioactive-drugs-strike-cancer-with-molecular-precision.html\n",
            "https://english.elpais.com/health/2024-09-10/the-science-of-stoicism-does-it-really-improve-mental-health.html\n",
            "https://english.elpais.com/science-tech/2024-09-10/pathogenic-microbes-can-travel-thousands-of-miles-through-the-atmosphere.html\n",
            "https://english.elpais.com/health/2024-09-06/biological-samples-from-flight-attendants-may-shed-light-on-how-jet-lag-affects-health.html\n",
            "https://english.elpais.com/health/2024-09-05/bird-flu-pandemic-preparedness-activities-are-not-evidence-of-a-conspiracy.html\n",
            "https://english.elpais.com/health/2024-08-31/leave-me-alone-the-wish-that-should-be-considered-a-right.html\n",
            "https://english.elpais.com/health/2024-08-30/elisabeth-stampa-many-drugs-that-used-to-be-produced-in-europe-are-now-manufactured-in-asia-this-makes-us-vulnerable-to-shortages.html\n",
            "https://english.elpais.com/science-tech/2024-08-27/a-quarter-of-coma-patients-still-have-some-form-of-consciousness.html\n",
            "https://english.elpais.com/health/2024-08-24/sun-plants-and-marmalade-dismantling-mental-health-stigma-in-a-garden.html\n",
            "https://english.elpais.com/health/2024-08-22/men-have-a-biological-clock-too-heres-whats-more-likely-when-dads-are-over-50.html\n",
            "https://english.elpais.com/health/2024-08-21/why-is-mpox-being-transmitted-mainly-between-children.html\n",
            "https://english.elpais.com/health/2024-08-20/the-dramatic-story-of-a-malaria-survivor-two-weeks-in-a-coma-37-operations-and-both-legs-amputated.html\n",
            "https://english.elpais.com/health/2024-08-20/latest-mpox-data-in-africa-more-cases-registered-in-2024-than-in-past-two-years.html\n",
            "https://english.elpais.com/health/2024-08-16/anosognosia-what-happens-when-a-person-is-unaware-of-their-mental-disorder.html\n",
            "https://english.elpais.com/international/2024-08-16/africa-monitors-mpox-spread-with-growing-concern-this-is-no-longer-a-problem-for-us-but-for-the-world.html\n",
            "https://english.elpais.com/health/2024-08-15/monkeypox-global-health-emergency-everything-you-need-to-know.html\n",
            "https://english.elpais.com/international/2024-08-14/who-declares-second-international-health-emergency-over-spread-of-monkeypox.html\n",
            "https://english.elpais.com/health/2024-08-13/air-pollution-is-causing-epigenetic-changes-in-bogota-residents.html\n",
            "https://english.elpais.com/health/2024-08-12/new-study-explains-how-music-affects-the-brains-of-patients-with-depression.html\n",
            "https://english.elpais.com/health/2024-08-10/should-you-take-vitamin-d-heres-the-science.html\n",
            "https://english.elpais.com/science-tech/2024-08-07/largest-ever-genetic-analysis-of-colorectal-cancer-reveals-dna-damage-caused-by-tobacco-and-gut-bacteria.html\n",
            "https://english.elpais.com/health/2024-08-04/understanding-the-sudden-rise-of-type-2-diabetes-in-children.html\n"
          ]
        }
      ],
      "source": [
        "main_content = soup.find('div', class_='b-b b-au_b')\n",
        "\n",
        "for article_card in main_content.find_all('article'):\n",
        "    print(article_card.find('a')['href'])"
      ]
    },
    {
      "cell_type": "code",
      "execution_count": null,
      "metadata": {
        "id": "dCcP5cKxM4Mr",
        "outputId": "9802d7cc-c17a-4469-ec9a-2286953e4b77"
      },
      "outputs": [
        {
          "data": {
            "text/plain": [
              "'https://english.elpais.com/health/2024-09-16/immunotherapy-achieves-remarkable-survival-rates-in-a-handful-of-tumors.html'"
            ]
          },
          "execution_count": 12,
          "metadata": {},
          "output_type": "execute_result"
        }
      ],
      "source": [
        "soup.find('div', class_='b-au_o').find('article').find('a')['href']"
      ]
    },
    {
      "cell_type": "code",
      "execution_count": null,
      "metadata": {
        "id": "wGFz_WtvM4Ms"
      },
      "outputs": [],
      "source": [
        "url = 'https://english.elpais.com/economy-and-business/2024-08-27/ukraine-and-gaza-wars-boost-the-value-of-major-arms-manufacturers.html'\n",
        "url1 = 'https://english.elpais.com/health/2024-09-13/being-distracted-doesnt-mean-you-have-adhd-the-danger-of-self-diagnosis-in-teenagers.html'\n",
        "response = requests.get(url)\n",
        "\n",
        "soup = BeautifulSoup(response.content, 'lxml')"
      ]
    },
    {
      "cell_type": "code",
      "execution_count": null,
      "metadata": {
        "id": "UaekLWmBM4Ms"
      },
      "outputs": [],
      "source": [
        "headline = soup.find('h1').text\n",
        "datetime_str = soup.find('div', class_='a_md_f').find('a').get('data-date')[:-6]\n",
        "time = datetime.strptime(datetime_str, \"%Y-%m-%dT%H:%M:%S\")"
      ]
    },
    {
      "cell_type": "code",
      "execution_count": null,
      "metadata": {
        "id": "DL4F5UHcM4Mt",
        "outputId": "4c426029-4d5a-4227-e10e-6a87d62f2dc0"
      },
      "outputs": [
        {
          "name": "stdout",
          "output_type": "stream",
          "text": [
            "<img alt=\"Six F-16s from the Polish Air Force, on August 15 in Warsaw.\" class=\"_re a_m-h\" decoding=\"auto\" height=\"276\" loading=\"eager\" sizes=\"(min-width: 1199px) 760px,(min-width: 1001px) cal(100vw - 62vw),(min-width: 768px) 767px, 100vw\" src=\"https://imagenes.elpais.com/resizer/v2/PNN5ARAXF2DW6DU2PK76QSLFFE.jpg?auth=ffa6f8012a1bbdc2275f59cddbaaef95b69f8d98027406a69efeabc125068c91&amp;width=414\" srcset=\"https://imagenes.elpais.com/resizer/v2/PNN5ARAXF2DW6DU2PK76QSLFFE.jpg?auth=ffa6f8012a1bbdc2275f59cddbaaef95b69f8d98027406a69efeabc125068c91&amp;width=414 414w,https://imagenes.elpais.com/resizer/v2/PNN5ARAXF2DW6DU2PK76QSLFFE.jpg?auth=ffa6f8012a1bbdc2275f59cddbaaef95b69f8d98027406a69efeabc125068c91&amp;width=828 640w,https://imagenes.elpais.com/resizer/v2/PNN5ARAXF2DW6DU2PK76QSLFFE.jpg?auth=ffa6f8012a1bbdc2275f59cddbaaef95b69f8d98027406a69efeabc125068c91&amp;width=980 1000w,https://imagenes.elpais.com/resizer/v2/PNN5ARAXF2DW6DU2PK76QSLFFE.jpg?auth=ffa6f8012a1bbdc2275f59cddbaaef95b69f8d98027406a69efeabc125068c91&amp;width=1200 1200w\" width=\"414\"/>\n",
            "<img alt=\"\" src=\"https://datawrapper.dwcdn.net/lUijQ/full.png\"/>\n",
            "<img alt=\"\" src=\"https://datawrapper.dwcdn.net/hpXaA/full.png\"/>\n"
          ]
        }
      ],
      "source": [
        "article_content = soup.find('div', class_='a_c clearfix')\n",
        "\n",
        "for img in article_content.find_all('img'):\n",
        "    print(img)"
      ]
    },
    {
      "cell_type": "code",
      "execution_count": null,
      "metadata": {
        "id": "ww6DjmjAM4Mt"
      },
      "outputs": [],
      "source": [
        "soup.find('header', class_='a_e _g _g-xs').find('img')"
      ]
    },
    {
      "cell_type": "code",
      "execution_count": 5,
      "metadata": {
        "id": "xg-Pd0ZSM4Mu"
      },
      "outputs": [],
      "source": [
        "def create_directories(base_url, categories, label='images'):\n",
        "    # create the following dir struct; outputs > base website > categories\n",
        "    base_dir = os.path.join('output', label, urlparse(base_url).netloc)\n",
        "    if not os.path.exists(base_dir):\n",
        "        os.makedirs(base_dir)\n",
        "\n",
        "    for category, _ in categories:\n",
        "        category_dir = os.path.join(base_dir, category)\n",
        "        if not os.path.exists(category_dir):\n",
        "            os.makedirs(category_dir)\n",
        "\n",
        "    return base_dir"
      ]
    },
    {
      "cell_type": "code",
      "execution_count": 6,
      "metadata": {
        "id": "-vDiN_gCM4Mu"
      },
      "outputs": [],
      "source": [
        "def get_articles_links(url):\n",
        "    response = requests.get(url)\n",
        "    soup = BeautifulSoup(response.content, 'lxml')\n",
        "    main_content = soup.find('div', class_='b-b b-au_b')\n",
        "    articles_links = [soup.find('div', class_='b-au_o').find('article').find('a')['href']]\n",
        "\n",
        "    for article_card in main_content.find_all('article'):\n",
        "        link = article_card.find('a')['href']\n",
        "        if link not in articles_links:\n",
        "            articles_links.append(link)\n",
        "\n",
        "    return articles_links\n",
        "\n",
        "def article_scrapper(url):\n",
        "    articles_links = get_articles_links(url)\n",
        "    data = []\n",
        "\n",
        "    def link_fix(link):\n",
        "        index = link.find('&')\n",
        "        if index != -1:\n",
        "            return link[:index]\n",
        "        else:\n",
        "            return link\n",
        "\n",
        "    def helper_scrapper(url):\n",
        "        response = requests.get(url)\n",
        "        soup = BeautifulSoup(response.content, 'lxml')\n",
        "        try:\n",
        "            headline = soup.find('h1').text\n",
        "            datetime_str = soup.find('div', class_='a_md_f').find('a').get('data-date')[:-6]\n",
        "            time = datetime.strptime(datetime_str, \"%Y-%m-%dT%H:%M:%S\")\n",
        "            article_content = soup.find('div', class_='a_c clearfix')\n",
        "            images = []\n",
        "            main_image = soup.find('header', class_='a_e _g _g-xs').find('img')\n",
        "            if (main_image):\n",
        "                images.append((main_image.get('alt'), link_fix(main_image.get('src'))))\n",
        "\n",
        "            for img in article_content.find_all('img'):\n",
        "                img_alt = img.get('alt', '')  # Safely get the 'alt' attribute\n",
        "                img_src = link_fix(img.get('src', ''))  # Safely get the 'src' attribute\n",
        "\n",
        "                if img_src and (img_alt, img_src) not in images:\n",
        "                    images.append((img_alt, img_src))\n",
        "\n",
        "            return headline, time, images\n",
        "        except:\n",
        "            return None\n",
        "\n",
        "    for url in articles_links:\n",
        "        result = helper_scrapper(url)\n",
        "        if result is not None:\n",
        "            data.append(result)\n",
        "\n",
        "    return data"
      ]
    },
    {
      "cell_type": "code",
      "execution_count": 7,
      "metadata": {
        "id": "fS9rsuG9M4Mu"
      },
      "outputs": [],
      "source": [
        "def get_latest_articles(data, n=10):\n",
        "    seen_headlines = set()\n",
        "    unique_data = []\n",
        "\n",
        "    for record in data:\n",
        "        headline = record[0]\n",
        "        if headline not in seen_headlines:\n",
        "            seen_headlines.add(headline)\n",
        "            unique_data.append(record)\n",
        "\n",
        "    return sorted(unique_data, key=lambda x: x[1], reverse=True)[:n]\n",
        "\n",
        "def download_image(img_url, save_dir, img_name):\n",
        "    try:\n",
        "        if not img_url.startswith('data:'):\n",
        "            response = requests.get(img_url)\n",
        "            img_data = response.content\n",
        "            img = Image.open(BytesIO(img_data))\n",
        "            width, height = img.size\n",
        "\n",
        "            # Only save images larger than 100x100 pixels\n",
        "            if width >= 100 and height >= 100:\n",
        "                with open(os.path.join(save_dir, img_name), 'wb') as img_file:\n",
        "                    img_file.write(img_data)\n",
        "    except:\n",
        "        pass\n",
        "\n",
        "def download_images(category_url, save_dir, data):\n",
        "\n",
        "    with open(os.path.join(save_dir, 'labels.csv'), 'w') as f:\n",
        "        f.write('image number,alt,article_heading\\n')\n",
        "\n",
        "    records = []\n",
        "\n",
        "    # parallising the downloads to make it faster\n",
        "    with ThreadPoolExecutor(max_workers=10) as executor:\n",
        "        futures = []\n",
        "        headlines = []\n",
        "        for x, tuple in enumerate(data):\n",
        "            headline, _, images_list = tuple\n",
        "            for i, img in enumerate(images_list):\n",
        "                alt_txt, img_url = img\n",
        "                if img_url and not img_url.startswith('data:'):\n",
        "                    img_url = urljoin(category_url, img_url)\n",
        "                    combined_str = f\"{alt_txt}{headline}\".encode()\n",
        "                    img_name = f'image_{x+1}_{i+1}.jpg'\n",
        "                    records.append(f'{img_name},{alt_txt.replace(\",\", \"\")},{headline.replace(\",\", \"\")}\\n')\n",
        "                    futures.append(executor.submit(download_image, img_url, save_dir, img_name))\n",
        "\n",
        "        with open(os.path.join(save_dir, 'labels.csv'), 'a') as f:\n",
        "            f.writelines(records)\n",
        "\n",
        "        for future in as_completed(futures):\n",
        "            future.result()\n"
      ]
    },
    {
      "cell_type": "code",
      "execution_count": 8,
      "metadata": {
        "id": "w2d1Mf4LM4Mv"
      },
      "outputs": [],
      "source": [
        "categories = [\n",
        "    (\"Health\", \"https://english.elpais.com/health\"),\n",
        "    (\"Economy and Business\", \"https://english.elpais.com/economy-and-business/\"),\n",
        "    (\"U.S.\", \"https://english.elpais.com/usa/\"),\n",
        "    (\"Technology\", \"https://english.elpais.com/technology/\"),\n",
        "    (\"Climate\", \"https://english.elpais.com/climate/\"),\n",
        "    (\"People\", \"https://english.elpais.com/people/\"),\n",
        "    (\"Lifestyle\", \"https://english.elpais.com/lifestyle/\"),\n",
        "    (\"Opinion\", \"https://english.elpais.com/opinion/\"),\n",
        "    (\"Culture\", \"https://english.elpais.com/culture/\"),\n",
        "    (\"Sports\", \"https://english.elpais.com/sports/\"),\n",
        "    (\"EPS\", \"https://english.elpais.com/eps/\")\n",
        "]\n",
        "\n",
        "base_url = 'https://english.elpais.com/'\n",
        "\n",
        "base_dir = create_directories(base_url, categories)"
      ]
    },
    {
      "cell_type": "code",
      "execution_count": 9,
      "metadata": {
        "colab": {
          "base_uri": "https://localhost:8080/"
        },
        "id": "5RSK5fWYM4Mv",
        "outputId": "39e4df1d-a6b7-4bbe-bab7-2cdff148b7e6"
      },
      "outputs": [
        {
          "output_type": "stream",
          "name": "stderr",
          "text": [
            "Downloading images for every category: 100%|██████████| 11/11 [06:32<00:00, 35.69s/it]\n"
          ]
        }
      ],
      "source": [
        "for category, category_url in tqdm(categories, desc='Downloading images for every category'):\n",
        "    try:\n",
        "        category_dir = os.path.join(base_dir, category)\n",
        "        data = article_scrapper(category_url)\n",
        "        download_images(category_url, category_dir, get_latest_articles(data))\n",
        "    except:\n",
        "        print(category)\n",
        "        continue"
      ]
    },
    {
      "cell_type": "code",
      "source": [
        "def create_file(base_dir):\n",
        "    for category in os.listdir(base_dir):\n",
        "        try:\n",
        "            df = pd.read_csv(f'{base_dir}{category}/labels.csv')\n",
        "            n, _ = df.shape\n",
        "\n",
        "            pairs = []\n",
        "\n",
        "            for i in range(n):\n",
        "                for j in range(i + 1, n):\n",
        "                    article_1 = int(re.search(r'\\d+(?=_|$)',list(df.iloc[i])[0]).group())\n",
        "                    article_2 = int(re.search(r'\\d+(?=_|$)',list(df.iloc[j])[0]).group())\n",
        "                    if article_1 != article_2:\n",
        "                        pairs.append((list(df.iloc[i]), list(df.iloc[j])))\n",
        "\n",
        "            with open(f'{base_dir.split(\"/\")[2]}_pairs_{category}.csv', 'w') as f:\n",
        "                for i, pair in enumerate(pairs):\n",
        "                    p1, p2 = pair\n",
        "                    img1, alt1, headline1 = p1\n",
        "                    img2, alt2, headline2 = p2\n",
        "                    f.write(f'{i+1},{headline1},{headline2}\\n')\n",
        "                    f.write(f',https://raw.githubusercontent.com/ayainfida/news-scrapper/main/output/images/english.elpais.com/{urllib.parse.quote(category)}/{img1},https://raw.githubusercontent.com/ayainfida/news-scrapper/main/output/images/english.elpais.com/{urllib.parse.quote(category)}/{img2}\\n')\n",
        "                    f.write(f',{alt1},{alt2}\\n')\n",
        "\n",
        "        except:\n",
        "            continue"
      ],
      "metadata": {
        "id": "E0G2wSatN33V"
      },
      "execution_count": 19,
      "outputs": []
    },
    {
      "cell_type": "code",
      "source": [
        "for category in os.listdir('output/images/english.elpais.com/'):\n",
        "    df = pd.read_csv(f'output/images/english.elpais.com/{category}/labels.csv')\n",
        "    n, _ = df.shape\n",
        "\n",
        "    if n + 1 != len(os.listdir(f'output/images/english.elpais.com/{category}')):\n",
        "        print(category,n+1, len(os.listdir(f'output/images/english.elpais.com/{category}')))"
      ],
      "metadata": {
        "id": "OwhWj-P8OGil"
      },
      "execution_count": 18,
      "outputs": []
    },
    {
      "cell_type": "code",
      "source": [
        "create_file('output/images/english.elpais.com/')"
      ],
      "metadata": {
        "id": "ifPF7jxv_jPh"
      },
      "execution_count": 20,
      "outputs": []
    },
    {
      "cell_type": "code",
      "source": [
        "num_pairs = []\n",
        "\n",
        "for file in os.listdir():\n",
        "    if file.startswith('english.elpais.com_pairs'):\n",
        "        try:\n",
        "            df = pd.read_csv(file)\n",
        "            num_pairs.append((int(list(df.iloc[-3])[0]), file))\n",
        "        except:\n",
        "            continue"
      ],
      "metadata": {
        "id": "qrN2YoVX_nPy"
      },
      "execution_count": 21,
      "outputs": []
    },
    {
      "cell_type": "code",
      "source": [
        "sorted_array = sorted(num_pairs, key=lambda x: x[0])\n",
        "sorted_array"
      ],
      "metadata": {
        "colab": {
          "base_uri": "https://localhost:8080/"
        },
        "id": "msJS9eD4_ske",
        "outputId": "a151076d-077d-4153-9645-0c1556f1d77f"
      },
      "execution_count": 22,
      "outputs": [
        {
          "output_type": "execute_result",
          "data": {
            "text/plain": [
              "[(125, 'english.elpais.com_pairs_Economy and Business.csv'),\n",
              " (174, 'english.elpais.com_pairs_U.S..csv'),\n",
              " (174, 'english.elpais.com_pairs_Technology.csv'),\n",
              " (183, 'english.elpais.com_pairs_Lifestyle.csv'),\n",
              " (226, 'english.elpais.com_pairs_Health.csv'),\n",
              " (392, 'english.elpais.com_pairs_Sports.csv'),\n",
              " (395, 'english.elpais.com_pairs_People.csv'),\n",
              " (425, 'english.elpais.com_pairs_Culture.csv'),\n",
              " (430, 'english.elpais.com_pairs_Climate.csv'),\n",
              " (688, 'english.elpais.com_pairs_EPS.csv')]"
            ]
          },
          "metadata": {},
          "execution_count": 22
        }
      ]
    }
  ],
  "metadata": {
    "kernelspec": {
      "display_name": "Python 3",
      "language": "python",
      "name": "python3"
    },
    "language_info": {
      "codemirror_mode": {
        "name": "ipython",
        "version": 3
      },
      "file_extension": ".py",
      "mimetype": "text/x-python",
      "name": "python",
      "nbconvert_exporter": "python",
      "pygments_lexer": "ipython3",
      "version": "3.10.5"
    },
    "colab": {
      "provenance": []
    }
  },
  "nbformat": 4,
  "nbformat_minor": 0
}