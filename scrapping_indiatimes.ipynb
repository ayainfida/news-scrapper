{
  "nbformat": 4,
  "nbformat_minor": 0,
  "metadata": {
    "colab": {
      "provenance": []
    },
    "kernelspec": {
      "name": "python3",
      "display_name": "Python 3"
    },
    "language_info": {
      "name": "python"
    }
  },
  "cells": [
    {
      "cell_type": "code",
      "execution_count": 1,
      "metadata": {
        "id": "8yP_lwzcHzv0"
      },
      "outputs": [],
      "source": [
        "from bs4 import BeautifulSoup\n",
        "import requests\n",
        "from tqdm import tqdm\n",
        "from io import BytesIO\n",
        "from urllib.parse import urljoin, urlparse\n",
        "from concurrent.futures import ThreadPoolExecutor, as_completed\n",
        "from PIL import Image\n",
        "import os\n",
        "import random\n",
        "import re\n",
        "import pandas as pd\n",
        "import hashlib\n",
        "from datetime import datetime\n",
        "import urllib.parse\n",
        "from json import dumps, loads\n",
        "from shutil import copy2"
      ]
    },
    {
      "cell_type": "code",
      "source": [
        "os.chdir('/content/drive/MyDrive/research-similarity/Scraping')"
      ],
      "metadata": {
        "id": "RItuKG3EX_ms"
      },
      "execution_count": 2,
      "outputs": []
    },
    {
      "cell_type": "code",
      "source": [
        "def create_directories(base_url, categories, label='images'):\n",
        "    # create the following dir struct; outputs > base website > categories\n",
        "    base_dir = os.path.join('output', label, urlparse(base_url).netloc)\n",
        "    if not os.path.exists(base_dir):\n",
        "        os.makedirs(base_dir)\n",
        "\n",
        "    for category, _ in categories:\n",
        "        category_dir = os.path.join(base_dir, category)\n",
        "        if not os.path.exists(category_dir):\n",
        "            os.makedirs(category_dir)\n",
        "\n",
        "    return base_dir"
      ],
      "metadata": {
        "id": "JeFcTxsmVGEq"
      },
      "execution_count": 3,
      "outputs": []
    },
    {
      "cell_type": "code",
      "source": [
        "def get_articles_links(url):\n",
        "    response = requests.get(url)\n",
        "    soup = BeautifulSoup(response.content, 'lxml')\n",
        "    articles_links = []\n",
        "    remove = [\n",
        "        'https://www.indiatimes.com/trending/social-relevance/when-will-shradh-begins-in-2024-know-pitru-pakshas-start-and-end-date-heres-all-you-need-641821.html',\n",
        "        'https://www.indiatimes.com/entertainment/celebs/aparshakti-khurana-reveals-why-he-touched-ayushmann-khurranas-feet-daily-641820.html',\n",
        "        'https://www.indiatimes.com/trending/social-relevance/bihar-man-folds-hand-in-front-of-snake-idol-in-temple-then-steals-it-641818.html',\n",
        "        'https://www.indiatimes.com/news/education/google-isnt-the-same-anymore-employee-working-12-hours-says-company-expects-more-reveals-harsh-reality-after-mass-layoffs-641817.html'\n",
        "    ]\n",
        "\n",
        "    for a_tag in soup.find_all('a'):\n",
        "        try:\n",
        "            href = a_tag['href']\n",
        "            if href.endswith('html') and not href.endswith('sitemap.html'):\n",
        "                link = f'https://www.indiatimes.com{href}'\n",
        "                if link.startswith(url) and link not in articles_links:\n",
        "                    articles_links.append(link)\n",
        "        except:\n",
        "            continue\n",
        "\n",
        "    return list(set(articles_links) - set(remove))\n",
        "\n",
        "def article_scrapper(url):\n",
        "    articles_links = get_articles_links(url)\n",
        "    data = []\n",
        "\n",
        "    def helper_scrapper(url):\n",
        "        response = requests.get(url)\n",
        "        soup = BeautifulSoup(response.content, 'lxml')\n",
        "        try:\n",
        "            story_main_div = soup.find('div', id='storyMainDiv')\n",
        "            headline = soup.find('h1').text\n",
        "            datetime_str = soup.find('span', class_='authorname font-12').text.split(': ')[-1][:-4]\n",
        "            time = datetime.strptime(datetime_str, \"%b %d, %Y, %H:%M\")\n",
        "            featured_img = soup.find('div', class_='article-image').find('img')\n",
        "            images = [(featured_img.get('alt'), featured_img.get('src'))]\n",
        "\n",
        "            # for img in soup.find('div', id='article-description-0').find_all('img'):\n",
        "            #     img_alt = img.get('alt', '')  # Safely get the 'alt' attribute\n",
        "            #     img_src = img.get('src', '')  # Safely get the 'src' attribute\n",
        "            #     if  (img_alt, img_src) not in images:\n",
        "            #         images.append((img_alt, img_src))\n",
        "\n",
        "            return headline, time, images\n",
        "        except:\n",
        "            return None\n",
        "\n",
        "    for url in articles_links:\n",
        "        result = helper_scrapper(url)\n",
        "        if result is not None:\n",
        "            data.append(result)\n",
        "\n",
        "    return data"
      ],
      "metadata": {
        "id": "jsMKR1rTKxwq"
      },
      "execution_count": 9,
      "outputs": []
    },
    {
      "cell_type": "code",
      "source": [
        "def get_latest_articles(data, n=10):\n",
        "    seen_headlines = set()\n",
        "    unique_data = []\n",
        "\n",
        "    for record in data:\n",
        "        headline = record[0]\n",
        "        if headline not in seen_headlines:\n",
        "            seen_headlines.add(headline)\n",
        "            unique_data.append(record)\n",
        "\n",
        "    return sorted(unique_data, key=lambda x: x[1], reverse=True)[:n]\n",
        "\n",
        "def download_image(img_url, save_dir, img_name):\n",
        "    try:\n",
        "        if not img_url.startswith('data:'):\n",
        "            response = requests.get(img_url)\n",
        "            img_data = response.content\n",
        "            img = Image.open(BytesIO(img_data))\n",
        "            width, height = img.size\n",
        "\n",
        "            # Only save images larger than 100x100 pixels\n",
        "            if width >= 100 and height >= 100:\n",
        "                with open(os.path.join(save_dir, img_name), 'wb') as img_file:\n",
        "                    img_file.write(img_data)\n",
        "    except:\n",
        "        pass\n",
        "\n",
        "def download_images(category_url, save_dir, data):\n",
        "\n",
        "    with open(os.path.join(save_dir, 'labels.csv'), 'w') as f:\n",
        "        f.write('image number,alt,article_heading\\n')\n",
        "\n",
        "    records = []\n",
        "\n",
        "    # parallising the downloads to make it faster\n",
        "    with ThreadPoolExecutor(max_workers=10) as executor:\n",
        "        futures = []\n",
        "        headlines = []\n",
        "        for x, tuple in enumerate(data):\n",
        "            headline, _, images_list = tuple\n",
        "            for i, img in enumerate(images_list):\n",
        "                alt_txt, img_url = img\n",
        "                if img_url and not img_url.startswith('data:'):\n",
        "                    img_url = urljoin(category_url, img_url)\n",
        "                    combined_str = f\"{alt_txt}{headline}\".encode()\n",
        "                    img_name = f'image_{x+1}_{i+1}.jpg'\n",
        "                    records.append(f'{img_name},{alt_txt.replace(\",\", \"\")},{headline.replace(\",\", \"\")}\\n')\n",
        "                    futures.append(executor.submit(download_image, img_url, save_dir, img_name))\n",
        "\n",
        "        with open(os.path.join(save_dir, 'labels.csv'), 'a') as f:\n",
        "            f.writelines(records)\n",
        "\n",
        "        for future in as_completed(futures):\n",
        "            future.result()"
      ],
      "metadata": {
        "id": "PZgpcUDSU_ej"
      },
      "execution_count": 5,
      "outputs": []
    },
    {
      "cell_type": "code",
      "source": [
        "categories = [\n",
        "    ('Beauty and Care', 'https://www.indiatimes.com/fashion/beauty-care'),\n",
        "    ('Gardening', 'https://www.indiatimes.com/lifestyle/gardening'),\n",
        "    ('Relationships', 'https://www.indiatimes.com/lifestyle/relationships'),\n",
        "    ('Astrology', 'https://www.indiatimes.com/lifestyle/astrology'),\n",
        "    ('Sunny Side Up', 'https://www.indiatimes.com/lifestyle/sunny-side-up'),\n",
        "    ('Art and Culture', 'https://www.indiatimes.com/lifestyle/art-and-culture'),\n",
        "    ('Bollywood', 'https://www.indiatimes.com/entertainment/bollywood'),\n",
        "    ('Celebscoop', 'https://www.indiatimes.com/entertainment/celebs'),\n",
        "    ('Hollywood', 'https://www.indiatimes.com/entertainment/hollywood'),\n",
        "    ('Originals', 'https://www.indiatimes.com/entertainment/originals'),\n",
        "    ('Binge', 'https://www.indiatimes.com/entertainment/binge'),\n",
        "    ('Healthy Living', 'https://www.indiatimes.com/health/healthyliving'),\n",
        "    ('Recipes', 'https://www.indiatimes.com/health/recipes'),\n",
        "    ('Inspire', 'https://www.indiatimes.com/health/videos'),\n",
        "    ('Tips & Tricks', 'https://www.indiatimes.com/health/tips-tricks'),\n",
        "    ('Buzz', 'https://www.indiatimes.com/health/buzz'),\n",
        "    ('Investment', 'https://www.indiatimes.com/worth/investment'),\n",
        "    ('Mutual Funds', 'https://www.indiatimes.com/worth/mutual-funds'),\n",
        "    ('Apps', 'https://www.indiatimes.com/technology/apps'),\n",
        "    ('Electric', 'https://www.indiatimes.com/auto/electric'),\n",
        "    ('Current', 'https://www.indiatimes.com/auto/current'),\n",
        "    ('Alternate', 'https://www.indiatimes.com/auto/alternative'),\n",
        "    ('Sports', 'https://www.indiatimes.com/sports'),\n",
        "    ('World', 'https://www.indiatimes.com/news/world')\n",
        "]\n",
        "\n",
        "base_url = 'https://www.indiatimes.com/'\n",
        "\n",
        "base_dir = create_directories(base_url, categories)"
      ],
      "metadata": {
        "id": "G9jOteFRVNdi"
      },
      "execution_count": 44,
      "outputs": []
    },
    {
      "cell_type": "code",
      "source": [
        "for category, category_url in tqdm(categories, desc='Downloading images for every category'):\n",
        "    category_dir = os.path.join(base_dir, category)\n",
        "    try:\n",
        "        data = article_scrapper(category_url)\n",
        "        download_images(category_url, category_dir, get_latest_articles(data))\n",
        "    except:\n",
        "        print(category)\n",
        "        continue"
      ],
      "metadata": {
        "colab": {
          "base_uri": "https://localhost:8080/"
        },
        "id": "J23FZToNX39A",
        "outputId": "248d8127-ab18-4aa4-c938-8e4444cbd2e3"
      },
      "execution_count": 45,
      "outputs": [
        {
          "output_type": "stream",
          "name": "stderr",
          "text": [
            "Downloading images for every category: 100%|██████████| 24/24 [02:16<00:00,  5.71s/it]\n"
          ]
        }
      ]
    },
    {
      "cell_type": "code",
      "source": [
        "def create_file(base_dir):\n",
        "    for category in os.listdir(base_dir):\n",
        "        try:\n",
        "            df = pd.read_csv(f'{base_dir}{category}/labels.csv')\n",
        "            n, _ = df.shape\n",
        "\n",
        "            pairs = []\n",
        "\n",
        "            for i in range(n):\n",
        "                for j in range(i + 1, n):\n",
        "                    article_1 = int(re.search(r'\\d+(?=_|$)',list(df.iloc[i])[0]).group())\n",
        "                    article_2 = int(re.search(r'\\d+(?=_|$)',list(df.iloc[j])[0]).group())\n",
        "                    if article_1 != article_2:\n",
        "                        pairs.append((list(df.iloc[i]), list(df.iloc[j])))\n",
        "\n",
        "            with open(f'{base_dir.split(\"/\")[2]}_pairs_{category}.csv', 'w') as f:\n",
        "                for i, pair in enumerate(pairs):\n",
        "                    p1, p2 = pair\n",
        "                    img1, alt1, headline1 = p1\n",
        "                    img2, alt2, headline2 = p2\n",
        "                    f.write(f'{i+1},{headline1},{headline2}\\n')\n",
        "                    f.write(f',https://raw.githubusercontent.com/ayainfida/news-scrapper/main/output/images/www.indiatimes.com/{urllib.parse.quote(category)}/{img1},https://raw.githubusercontent.com/ayainfida/news-scrapper/main/output/images/www.indiatimes.com/{urllib.parse.quote(category)}/{img2}\\n')\n",
        "                    f.write(f',{alt1},{alt2}\\n')\n",
        "\n",
        "        except:\n",
        "            continue"
      ],
      "metadata": {
        "id": "GYfgvgbdwyEp"
      },
      "execution_count": 46,
      "outputs": []
    },
    {
      "cell_type": "code",
      "source": [
        "create_file('output/images/www.indiatimes.com/')"
      ],
      "metadata": {
        "id": "JOjDtm0xw6GJ"
      },
      "execution_count": 47,
      "outputs": []
    },
    {
      "cell_type": "code",
      "source": [
        "num_pairs = []\n",
        "\n",
        "for file in os.listdir():\n",
        "    if file.startswith('www.indiatimes.com_pairs'):\n",
        "        try:\n",
        "            df = pd.read_csv(file)\n",
        "            num_pairs.append((int(list(df.iloc[-3])[0]), file))\n",
        "        except:\n",
        "            continue"
      ],
      "metadata": {
        "id": "Dfdn_71WxBU3"
      },
      "execution_count": 48,
      "outputs": []
    },
    {
      "cell_type": "code",
      "source": [
        "sorted_array = sorted(num_pairs, key=lambda x: x[0])\n",
        "sorted_array"
      ],
      "metadata": {
        "colab": {
          "base_uri": "https://localhost:8080/"
        },
        "id": "ew1q6FUvxEwQ",
        "outputId": "46c06db1-2016-48df-bc03-a1970c7285c3"
      },
      "execution_count": 49,
      "outputs": [
        {
          "output_type": "execute_result",
          "data": {
            "text/plain": [
              "[(45, 'www.indiatimes.com_pairs_Beauty and Care.csv'),\n",
              " (45, 'www.indiatimes.com_pairs_Gardening.csv'),\n",
              " (45, 'www.indiatimes.com_pairs_Relationships.csv'),\n",
              " (45, 'www.indiatimes.com_pairs_Astrology.csv'),\n",
              " (45, 'www.indiatimes.com_pairs_Sunny Side Up.csv'),\n",
              " (45, 'www.indiatimes.com_pairs_Art and Culture.csv'),\n",
              " (45, 'www.indiatimes.com_pairs_Bollywood.csv'),\n",
              " (45, 'www.indiatimes.com_pairs_Celebscoop.csv'),\n",
              " (45, 'www.indiatimes.com_pairs_Hollywood.csv'),\n",
              " (45, 'www.indiatimes.com_pairs_Originals.csv'),\n",
              " (45, 'www.indiatimes.com_pairs_Binge.csv'),\n",
              " (45, 'www.indiatimes.com_pairs_Healthy Living.csv'),\n",
              " (45, 'www.indiatimes.com_pairs_Recipes.csv'),\n",
              " (45, 'www.indiatimes.com_pairs_Inspire.csv'),\n",
              " (45, 'www.indiatimes.com_pairs_Tips & Tricks.csv'),\n",
              " (45, 'www.indiatimes.com_pairs_Buzz.csv'),\n",
              " (45, 'www.indiatimes.com_pairs_Investment.csv'),\n",
              " (45, 'www.indiatimes.com_pairs_Mutual Funds.csv'),\n",
              " (45, 'www.indiatimes.com_pairs_Apps.csv'),\n",
              " (45, 'www.indiatimes.com_pairs_Electric.csv'),\n",
              " (45, 'www.indiatimes.com_pairs_Current.csv'),\n",
              " (45, 'www.indiatimes.com_pairs_Alternate.csv'),\n",
              " (45, 'www.indiatimes.com_pairs_Sports.csv'),\n",
              " (45, 'www.indiatimes.com_pairs_World.csv')]"
            ]
          },
          "metadata": {},
          "execution_count": 49
        }
      ]
    },
    {
      "cell_type": "code",
      "source": [
        "import random\n",
        "random.shuffle(sorted_array)\n",
        "print(sorted_array)"
      ],
      "metadata": {
        "colab": {
          "base_uri": "https://localhost:8080/"
        },
        "id": "9zbs81T4xJUv",
        "outputId": "af839f1c-00b4-49f6-d94b-d0f0183cfd9e"
      },
      "execution_count": 51,
      "outputs": [
        {
          "output_type": "stream",
          "name": "stdout",
          "text": [
            "[(45, 'www.indiatimes.com_pairs_World.csv'), (45, 'www.indiatimes.com_pairs_Current.csv'), (45, 'www.indiatimes.com_pairs_Alternate.csv'), (45, 'www.indiatimes.com_pairs_Sunny Side Up.csv'), (45, 'www.indiatimes.com_pairs_Celebscoop.csv'), (45, 'www.indiatimes.com_pairs_Hollywood.csv'), (45, 'www.indiatimes.com_pairs_Recipes.csv'), (45, 'www.indiatimes.com_pairs_Investment.csv'), (45, 'www.indiatimes.com_pairs_Buzz.csv'), (45, 'www.indiatimes.com_pairs_Originals.csv'), (45, 'www.indiatimes.com_pairs_Beauty and Care.csv'), (45, 'www.indiatimes.com_pairs_Apps.csv'), (45, 'www.indiatimes.com_pairs_Art and Culture.csv'), (45, 'www.indiatimes.com_pairs_Gardening.csv'), (45, 'www.indiatimes.com_pairs_Inspire.csv'), (45, 'www.indiatimes.com_pairs_Mutual Funds.csv'), (45, 'www.indiatimes.com_pairs_Binge.csv'), (45, 'www.indiatimes.com_pairs_Bollywood.csv'), (45, 'www.indiatimes.com_pairs_Tips & Tricks.csv'), (45, 'www.indiatimes.com_pairs_Healthy Living.csv'), (45, 'www.indiatimes.com_pairs_Sports.csv'), (45, 'www.indiatimes.com_pairs_Astrology.csv'), (45, 'www.indiatimes.com_pairs_Electric.csv'), (45, 'www.indiatimes.com_pairs_Relationships.csv')]\n"
          ]
        }
      ]
    }
  ]
}